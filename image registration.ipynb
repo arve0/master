{
 "cells": [
  {
   "cell_type": "code",
   "execution_count": 1,
   "metadata": {
    "collapsed": true
   },
   "outputs": [],
   "source": [
    "from leicaexperiment import Experiment\n",
    "from leicaexperiment.experiment import attributes, attribute"
   ]
  },
  {
   "cell_type": "code",
   "execution_count": 2,
   "metadata": {
    "collapsed": true
   },
   "outputs": [],
   "source": [
    "e = Experiment('data/experiment--2015_03_21_17_09_56')"
   ]
  },
  {
   "cell_type": "code",
   "execution_count": 3,
   "metadata": {
    "collapsed": false
   },
   "outputs": [
    {
     "data": {
      "text/plain": [
       "({0, 1, 2, 3, 4, 5, 6, 7, 8, 9, 10},\n",
       " {0, 1, 2, 3, 4, 5, 6, 7, 8, 9, 10, 11, 12, 13, 14, 15, 16, 17})"
      ]
     },
     "execution_count": 3,
     "metadata": {},
     "output_type": "execute_result"
    }
   ],
   "source": [
    "xs = set([attribute(img, 'x') for img in e.images])\n",
    "ys = set([attribute(img, 'y') for img in e.images])\n",
    "ys, xs"
   ]
  },
  {
   "cell_type": "code",
   "execution_count": 4,
   "metadata": {
    "collapsed": false
   },
   "outputs": [
    {
     "data": {
      "text/plain": [
       "(11, 18)"
      ]
     },
     "execution_count": 4,
     "metadata": {},
     "output_type": "execute_result"
    }
   ],
   "source": [
    "from leicascanningtemplate import ScanningTemplate\n",
    "st = ScanningTemplate(e.scanning_template)\n",
    "st.properties.CountOfScanFieldsY, st.properties.CountOfScanFieldsX"
   ]
  },
  {
   "cell_type": "code",
   "execution_count": 5,
   "metadata": {
    "collapsed": false
   },
   "outputs": [],
   "source": [
    "from itertools import product"
   ]
  },
  {
   "cell_type": "code",
   "execution_count": 6,
   "metadata": {
    "collapsed": false
   },
   "outputs": [
    {
     "name": "stdout",
     "output_type": "stream",
     "text": [
      "0 (0, 0)\n",
      "1 (0, 1)\n",
      "2 (0, 2)\n",
      "3 (0, 3)\n",
      "4 (0, 4)\n",
      "5 (0, 5)\n",
      "6 (0, 6)\n",
      "7 (0, 7)\n",
      "8 (0, 8)\n",
      "9 (0, 9)\n",
      "10 (0, 10)\n",
      "11 (1, 0)\n",
      "12 (1, 1)\n",
      "13 (1, 2)\n",
      "14 (1, 3)\n",
      "15 (1, 4)\n",
      "16 (1, 5)\n"
     ]
    }
   ],
   "source": [
    "for i,xx in enumerate(product(xs, ys)):\n",
    "    print(i,xx)\n",
    "    if i > 15:\n",
    "        break"
   ]
  },
  {
   "cell_type": "code",
   "execution_count": 7,
   "metadata": {
    "collapsed": false
   },
   "outputs": [
    {
     "name": "stdout",
     "output_type": "stream",
     "text": [
      "0 (0, 0)\n",
      "1 (0, 1)\n",
      "2 (0, 2)\n",
      "3 (0, 3)\n",
      "4 (0, 4)\n",
      "5 (0, 5)\n",
      "6 (0, 6)\n",
      "7 (0, 7)\n",
      "8 (0, 8)\n",
      "9 (0, 9)\n",
      "10 (0, 10)\n",
      "11 (0, 11)\n",
      "12 (0, 12)\n",
      "13 (0, 13)\n",
      "14 (0, 14)\n",
      "15 (0, 15)\n",
      "16 (0, 16)\n"
     ]
    }
   ],
   "source": [
    "for i,xx in enumerate(product(ys, xs)):\n",
    "    print(i,xx)\n",
    "    if i > 15:\n",
    "        break"
   ]
  },
  {
   "cell_type": "code",
   "execution_count": 8,
   "metadata": {
    "collapsed": false
   },
   "outputs": [],
   "source": [
    "from skimage.feature import register_translation\n",
    "from skimage import io\n",
    "import imreg_dft as imreg"
   ]
  },
  {
   "cell_type": "markdown",
   "metadata": {},
   "source": [
    "## in y-direction"
   ]
  },
  {
   "cell_type": "code",
   "execution_count": 9,
   "metadata": {
    "collapsed": false
   },
   "outputs": [],
   "source": [
    "translations = []\n",
    "prev_p = None\n",
    "for i,xx in enumerate(product(xs, ys)):\n",
    "    x,y = xx\n",
    "    p = next((img for img in e.images if attribute(img, 'x') == x and attribute(img, 'y') == y), None)\n",
    "    if p == None:\n",
    "        print('warning: missing y=%s,x=%s' %(y,x))\n",
    "    if prev_p:\n",
    "        img1 = io.imread(prev_p)\n",
    "        img2 = io.imread(p)\n",
    "        translations.append(imreg.translation(img1, img2))\n",
    "    prev_p = p"
   ]
  },
  {
   "cell_type": "code",
   "execution_count": 10,
   "metadata": {
    "collapsed": true
   },
   "outputs": [],
   "source": [
    "%matplotlib inline\n",
    "import matplotlib.pyplot as plt\n",
    "import numpy as np"
   ]
  },
  {
   "cell_type": "code",
   "execution_count": 11,
   "metadata": {
    "collapsed": false
   },
   "outputs": [
    {
     "data": {
      "image/png": "[encoded data removed]",
      "text/plain": [
       "<matplotlib.figure.Figure at 0x110a20358>"
      ]
     },
     "metadata": {},
     "output_type": "display_data"
    }
   ],
   "source": [
    "Y = [xx[0][0] for xx in translations]\n",
    "X = [xx[0][1] for xx in translations]\n",
    "\n",
    "Y.sort()\n",
    "X.sort()\n",
    "plt.plot(Y)\n",
    "plt.plot(X)\n",
    "plt.legend(('Y', 'X'));"
   ]
  },
  {
   "cell_type": "code",
   "execution_count": 12,
   "metadata": {
    "collapsed": false
   },
   "outputs": [
    {
     "data": {
      "image/png": "[encoded data removed]",
      "text/plain": [
       "<matplotlib.figure.Figure at 0x112c9d780>"
      ]
     },
     "metadata": {},
     "output_type": "display_data"
    }
   ],
   "source": [
    "Y = [t[0][0] for t in translations]\n",
    "X = [t[0][1] for t in translations]\n",
    "plt.plot(X, Y, '.')\n",
    "plt.axhline(0, color='k')\n",
    "plt.axvline(0, color='k');"
   ]
  },
  {
   "cell_type": "code",
   "execution_count": 13,
   "metadata": {
    "collapsed": false
   },
   "outputs": [
    {
     "data": {
      "text/plain": [
       "(-58.0, 0.0)"
      ]
     },
     "execution_count": 13,
     "metadata": {},
     "output_type": "execute_result"
    }
   ],
   "source": [
    "np.median(Y), np.median(X)"
   ]
  },
  {
   "cell_type": "markdown",
   "metadata": {},
   "source": [
    "# with skimage"
   ]
  },
  {
   "cell_type": "code",
   "execution_count": 14,
   "metadata": {
    "collapsed": false
   },
   "outputs": [],
   "source": [
    "translations = []\n",
    "prev_p = None\n",
    "for i,xx in enumerate(product(xs, ys)):\n",
    "    x,y = xx\n",
    "    p = next((img for img in e.images if attribute(img, 'x') == x and attribute(img, 'y') == y), None)\n",
    "    if p == None:\n",
    "        print('warning: missing y=%s,x=%s' %(y,x))\n",
    "    if prev_p:\n",
    "        img1 = io.imread(prev_p)\n",
    "        img2 = io.imread(p)\n",
    "        translations.append(register_translation(img1, img2))\n",
    "    prev_p = p"
   ]
  },
  {
   "cell_type": "code",
   "execution_count": 18,
   "metadata": {
    "collapsed": false
   },
   "outputs": [
    {
     "data": {
      "image/png": "[encoded data removed]",
      "text/plain": [
       "<matplotlib.figure.Figure at 0x11053b7f0>"
      ]
     },
     "metadata": {},
     "output_type": "display_data"
    }
   ],
   "source": [
    "Y = [xx[0][0] for xx in translations]\n",
    "X = [xx[0][1] for xx in translations]\n",
    "\n",
    "Y.sort()\n",
    "X.sort()\n",
    "plt.plot(Y)\n",
    "plt.plot(X)\n",
    "plt.legend(('Y', 'X'), loc='best');"
   ]
  },
  {
   "cell_type": "code",
   "execution_count": 16,
   "metadata": {
    "collapsed": false
   },
   "outputs": [
    {
     "data": {
      "image/png": "[encoded data removed]",
      "text/plain": [
       "<matplotlib.figure.Figure at 0x112e47400>"
      ]
     },
     "metadata": {},
     "output_type": "display_data"
    }
   ],
   "source": [
    "Y = [t[0][0] for t in translations]\n",
    "X = [t[0][1] for t in translations]\n",
    "plt.plot(X, Y, '.')\n",
    "plt.axhline(0, color='k')\n",
    "plt.axvline(0, color='k');"
   ]
  },
  {
   "cell_type": "code",
   "execution_count": 17,
   "metadata": {
    "collapsed": false
   },
   "outputs": [
    {
     "data": {
      "text/plain": [
       "(-57.0, 0.0)"
      ]
     },
     "execution_count": 17,
     "metadata": {},
     "output_type": "execute_result"
    }
   ],
   "source": [
    "np.median(Y), np.median(X)"
   ]
  },
  {
   "cell_type": "markdown",
   "metadata": {},
   "source": [
    "## in x-direction"
   ]
  },
  {
   "cell_type": "code",
   "execution_count": 19,
   "metadata": {
    "collapsed": false
   },
   "outputs": [],
   "source": [
    "translations = []\n",
    "prev_p = None\n",
    "for i,xx in enumerate(product(ys,xs)):\n",
    "    y,x = xx\n",
    "    p = next((img for img in e.images if attribute(img, 'x') == x and attribute(img, 'y') == y), None)\n",
    "    if p == None:\n",
    "        print('warning: missing y=%s,x=%s' %(y,x))\n",
    "    if prev_p:\n",
    "        img1 = io.imread(prev_p)\n",
    "        img2 = io.imread(p)\n",
    "        translations.append(register_translation(img1, img2))\n",
    "    prev_p = p"
   ]
  },
  {
   "cell_type": "code",
   "execution_count": 20,
   "metadata": {
    "collapsed": false
   },
   "outputs": [
    {
     "data": {
      "image/png": "[encoded data removed]",
      "text/plain": [
       "<matplotlib.figure.Figure at 0x110a13be0>"
      ]
     },
     "metadata": {},
     "output_type": "display_data"
    }
   ],
   "source": [
    "Y = [xx[0][0] for xx in translations]\n",
    "X = [xx[0][1] for xx in translations]\n",
    "\n",
    "Y.sort()\n",
    "X.sort()\n",
    "plt.plot(Y)\n",
    "plt.plot(X)\n",
    "plt.legend(('Y', 'X'));"
   ]
  },
  {
   "cell_type": "code",
   "execution_count": 21,
   "metadata": {
    "collapsed": false
   },
   "outputs": [
    {
     "data": {
      "image/png": "[encoded data removed]",
      "text/plain": [
       "<matplotlib.figure.Figure at 0x112de05c0>"
      ]
     },
     "metadata": {},
     "output_type": "display_data"
    }
   ],
   "source": [
    "Y = [t[0][0] for t in translations]\n",
    "X = [t[0][1] for t in translations]\n",
    "plt.plot(X, Y, '.')\n",
    "plt.axhline(0, color='k')\n",
    "plt.axvline(0, color='k');"
   ]
  },
  {
   "cell_type": "code",
   "execution_count": 22,
   "metadata": {
    "collapsed": false
   },
   "outputs": [
    {
     "data": {
      "text/plain": [
       "(0.0, 0.0)"
      ]
     },
     "execution_count": 22,
     "metadata": {},
     "output_type": "execute_result"
    }
   ],
   "source": [
    "np.median(Y), np.median(X)"
   ]
  },
  {
   "cell_type": "markdown",
   "metadata": {},
   "source": [
    "# with improved signal"
   ]
  },
  {
   "cell_type": "code",
   "execution_count": 23,
   "metadata": {
    "collapsed": true
   },
   "outputs": [],
   "source": [
    "e = Experiment('data/experiment--2015_03_21_17_09_56 kopi')"
   ]
  },
  {
   "cell_type": "code",
   "execution_count": 24,
   "metadata": {
    "collapsed": false
   },
   "outputs": [],
   "source": [
    "xs = set([attribute(img, 'x') for img in e.images])\n",
    "ys = set([attribute(img, 'y') for img in e.images])"
   ]
  },
  {
   "cell_type": "code",
   "execution_count": 25,
   "metadata": {
    "collapsed": false
   },
   "outputs": [
    {
     "data": {
      "image/png": "[encoded data removed]",
      "text/plain": [
       "<matplotlib.figure.Figure at 0x10c2e8f60>"
      ]
     },
     "metadata": {},
     "output_type": "display_data"
    }
   ],
   "source": [
    "translations = []\n",
    "prev_p = None\n",
    "for i,xx in enumerate(product(xs, ys)):\n",
    "    x,y = xx\n",
    "    p = next((img for img in e.images if attribute(img, 'x') == x and attribute(img, 'y') == y), None)\n",
    "    if p == None:\n",
    "        print('warning: missing y=%s,x=%s' %(y,x))\n",
    "    if prev_p:\n",
    "        img1 = io.imread(prev_p)\n",
    "        img2 = io.imread(p)\n",
    "        translations.append(register_translation(img1, img2))\n",
    "    prev_p = p\n",
    "\n",
    "Y = [xx[0][0] for xx in translations]\n",
    "X = [xx[0][1] for xx in translations]\n",
    "\n",
    "Y.sort()\n",
    "X.sort()\n",
    "plt.plot(Y)\n",
    "plt.plot(X)\n",
    "plt.legend(('Y', 'X'));"
   ]
  },
  {
   "cell_type": "code",
   "execution_count": 26,
   "metadata": {
    "collapsed": false
   },
   "outputs": [
    {
     "data": {
      "image/png": "[encoded data removed]",
      "text/plain": [
       "<matplotlib.figure.Figure at 0x112ef8470>"
      ]
     },
     "metadata": {},
     "output_type": "display_data"
    }
   ],
   "source": [
    "Y = [t[0][0] for t in translations]\n",
    "X = [t[0][1] for t in translations]\n",
    "plt.plot(X, Y, '.')\n",
    "plt.axhline(0, color='k')\n",
    "plt.axvline(0, color='k');"
   ]
  },
  {
   "cell_type": "code",
   "execution_count": 31,
   "metadata": {
    "collapsed": false
   },
   "outputs": [
    {
     "data": {
      "image/png": "[encoded data removed]",
      "text/plain": [
       "<matplotlib.figure.Figure at 0x1121b6080>"
      ]
     },
     "metadata": {},
     "output_type": "display_data"
    }
   ],
   "source": [
    "translations = []\n",
    "prev_p = None\n",
    "for i,xx in enumerate(product(ys,xs)):\n",
    "    y,x = xx\n",
    "    p = next((img for img in e.images if attribute(img, 'x') == x and attribute(img, 'y') == y), None)\n",
    "    if p == None:\n",
    "        print('warning: missing y=%s,x=%s' %(y,x))\n",
    "    if prev_p:\n",
    "        img1 = io.imread(prev_p)\n",
    "        img2 = io.imread(p)\n",
    "        translations.append(register_translation(img1, img2))\n",
    "    prev_p = p\n",
    "\n",
    "Y = [xx[0][0] for xx in translations]\n",
    "X = [xx[0][1] for xx in translations]\n",
    "\n",
    "Y.sort()\n",
    "X.sort()\n",
    "plt.plot(Y)\n",
    "plt.plot(X)\n",
    "plt.legend(('Y', 'X'));"
   ]
  },
  {
   "cell_type": "code",
   "execution_count": 32,
   "metadata": {
    "collapsed": false
   },
   "outputs": [
    {
     "data": {
      "image/png": "[encoded data removed]",
      "text/plain": [
       "<matplotlib.figure.Figure at 0x11294e588>"
      ]
     },
     "metadata": {},
     "output_type": "display_data"
    }
   ],
   "source": [
    "Y = [t[0][0] for t in translations]\n",
    "X = [t[0][1] for t in translations]\n",
    "plt.plot(X, Y, '.')\n",
    "plt.axhline(0, color='k')\n",
    "plt.axvline(0, color='k');"
   ]
  },
  {
   "cell_type": "code",
   "execution_count": 33,
   "metadata": {
    "collapsed": false
   },
   "outputs": [
    {
     "data": {
      "text/plain": [
       "(array([  0., -58.]), 0.23385038883212189, 4.0815679276420186e-18)"
      ]
     },
     "execution_count": 33,
     "metadata": {},
     "output_type": "execute_result"
    }
   ],
   "source": [
    "translations[0]"
   ]
  },
  {
   "cell_type": "code",
   "execution_count": 39,
   "metadata": {
    "collapsed": false
   },
   "outputs": [
    {
     "data": {
      "image/png": "[encoded data removed]",
      "text/plain": [
       "<matplotlib.figure.Figure at 0x1101d53c8>"
      ]
     },
     "metadata": {},
     "output_type": "display_data"
    }
   ],
   "source": [
    "translations = sorted(translations, key=lambda x: x[0][0])\n",
    "plt.plot([x[0][0] for x in translations])\n",
    "plt.plot([x[1]*100 for x in translations]) # error\n",
    "plt.plot([x[2]*1e10 for x in translations]) # phasediff\n",
    "plt.legend(('Y', 'err', 'phasediff'), loc='best');"
   ]
  }
 ],
 "metadata": {
  "kernelspec": {
   "display_name": "Python 3",
   "language": "python",
   "name": "python3"
  },
  "language_info": {
   "codemirror_mode": {
    "name": "ipython",
    "version": 3
   },
   "file_extension": ".py",
   "mimetype": "text/x-python",
   "name": "python",
   "nbconvert_exporter": "python",
   "pygments_lexer": "ipython3",
   "version": "3.4.1"
  }
 },
 "nbformat": 4,
 "nbformat_minor": 0
}
