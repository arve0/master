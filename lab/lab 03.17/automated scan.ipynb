{
 "cells": [
  {
   "cell_type": "code",
   "execution_count": 1,
   "metadata": {
    "collapsed": false
   },
   "outputs": [],
   "source": [
    "from leicaautomator.automator import find_spots\n",
    "from leicaautomator.utils import save_regions, flatten\n",
    "from leicaexperiment import Experiment\n",
    "from leicascanningtemplate import ScanningTemplate\n",
    "from leicacam import CAM"
   ]
  },
  {
   "cell_type": "code",
   "execution_count": 2,
   "metadata": {
    "collapsed": false
   },
   "outputs": [
    {
     "data": {
      "text/plain": [
       "'D:\\\\MatrixScreenerImages\\\\3.3.0_9757\\\\'"
      ]
     },
     "execution_count": 2,
     "metadata": {},
     "output_type": "execute_result"
    }
   ],
   "source": [
    "exp_path = r\"D:\\MatrixScreenerImages\\3.3.0_9757\\ \".strip()\n",
    "exp_path"
   ]
  },
  {
   "cell_type": "markdown",
   "metadata": {},
   "source": [
    "**OBS**\n",
    "\n",
    "hour off by one"
   ]
  },
  {
   "cell_type": "code",
   "execution_count": 3,
   "metadata": {
    "collapsed": true
   },
   "outputs": [],
   "source": [
    "whole = 'experiment--2015_03_17_18_58_37'\n",
    "experiment = Experiment(exp_path + whole)"
   ]
  },
  {
   "cell_type": "code",
   "execution_count": 4,
   "metadata": {
    "collapsed": false
   },
   "outputs": [
    {
     "name": "stdout",
     "output_type": "stream",
     "text": [
      " Volume in drive D is DATADRIVE1\n",
      " Volume Serial Number is F805-2E08\n",
      "\n",
      " Directory of D:\\MatrixScreenerImages\\3.3.0_9757\\experiment--2015_03_17_18_58_37\n",
      "\n",
      "03/18/2015  09:17 AM    <DIR>          .\n",
      "03/18/2015  09:17 AM    <DIR>          ..\n",
      "03/17/2015  07:58 PM    <DIR>          AdditionalData\n",
      "03/17/2015  07:58 PM    <DIR>          slide--S00\n",
      "02/23/2015  10:37 AM         1,600,083 stitched--U00--V00--C00--Z00.png\n",
      "               1 File(s)      1,600,083 bytes\n",
      "               4 Dir(s)  1,702,692,687,872 bytes free\n"
     ]
    }
   ],
   "source": [
    "!dir $experiment.path"
   ]
  },
  {
   "cell_type": "code",
   "execution_count": 5,
   "metadata": {
    "collapsed": false
   },
   "outputs": [
    {
     "ename": "FileNotFoundError",
     "evalue": "[Errno 2] No such file or directory: 'D:\\\\MatrixScreenerImages\\\\3.3.0_9757\\\\experiment--2015_03_17_18_58_37\\\\slide--S00\\\\chamber--U00--V00\\\\TileConfiguration.registered.txt'",
     "output_type": "error",
     "traceback": [
      "\u001b[1;31m---------------------------------------------------------------------------\u001b[0m",
      "\u001b[1;31mFileNotFoundError\u001b[0m                         Traceback (most recent call last)",
      "\u001b[1;32m<ipython-input-5-fffc7cd810f3>\u001b[0m in \u001b[0;36m<module>\u001b[1;34m()\u001b[0m\n\u001b[1;32m----> 1\u001b[1;33m \u001b[0mregions\u001b[0m \u001b[1;33m=\u001b[0m \u001b[0mfind_spots\u001b[0m\u001b[1;33m(\u001b[0m\u001b[0mexperiment\u001b[0m\u001b[1;33m)\u001b[0m\u001b[1;33m\u001b[0m\u001b[0m\n\u001b[0m",
      "\u001b[1;32mc:\\users\\tcs-user\\downloads\\leicaautomator\\leicaautomator\\automator.py\u001b[0m in \u001b[0;36mfind_spots\u001b[1;34m(experiment)\u001b[0m\n\u001b[0;32m     78\u001b[0m \u001b[1;33m\u001b[0m\u001b[0m\n\u001b[0;32m     79\u001b[0m     \u001b[1;31m# coordinates in pixels from TileConfiguration.registered.txt\u001b[0m\u001b[1;33m\u001b[0m\u001b[1;33m\u001b[0m\u001b[0m\n\u001b[1;32m---> 80\u001b[1;33m     \u001b[0mstitch_coord\u001b[0m \u001b[1;33m=\u001b[0m \u001b[0mexperiment\u001b[0m\u001b[1;33m.\u001b[0m\u001b[0mstitch_coordinates\u001b[0m\u001b[1;33m(\u001b[0m\u001b[1;36m0\u001b[0m\u001b[1;33m,\u001b[0m\u001b[1;36m0\u001b[0m\u001b[1;33m)\u001b[0m\u001b[1;33m\u001b[0m\u001b[0m\n\u001b[0m\u001b[0;32m     81\u001b[0m     \u001b[0mxmin\u001b[0m \u001b[1;33m=\u001b[0m \u001b[0mmin\u001b[0m\u001b[1;33m(\u001b[0m\u001b[0mstitch_coord\u001b[0m\u001b[1;33m[\u001b[0m\u001b[1;36m0\u001b[0m\u001b[1;33m]\u001b[0m\u001b[1;33m)\u001b[0m\u001b[1;33m\u001b[0m\u001b[0m\n\u001b[0;32m     82\u001b[0m     \u001b[0mymin\u001b[0m \u001b[1;33m=\u001b[0m \u001b[0mmin\u001b[0m\u001b[1;33m(\u001b[0m\u001b[0mstitch_coord\u001b[0m\u001b[1;33m[\u001b[0m\u001b[1;36m1\u001b[0m\u001b[1;33m]\u001b[0m\u001b[1;33m)\u001b[0m\u001b[1;33m\u001b[0m\u001b[0m\n",
      "\u001b[1;32mc:\\users\\tcs-user\\downloads\\leicaexperiment\\leicaexperiment\\experiment.py\u001b[0m in \u001b[0;36mstitch_coordinates\u001b[1;34m(self, well_x, well_y)\u001b[0m\n\u001b[0;32m    223\u001b[0m             \u001b[0mtile\u001b[0m \u001b[1;33m=\u001b[0m \u001b[0mos\u001b[0m\u001b[1;33m.\u001b[0m\u001b[0mpath\u001b[0m\u001b[1;33m.\u001b[0m\u001b[0mjoin\u001b[0m\u001b[1;33m(\u001b[0m\u001b[0mwell\u001b[0m\u001b[1;33m,\u001b[0m \u001b[1;34m'TileConfiguration.registered.txt'\u001b[0m\u001b[1;33m)\u001b[0m\u001b[1;33m\u001b[0m\u001b[0m\n\u001b[0;32m    224\u001b[0m \u001b[1;33m\u001b[0m\u001b[0m\n\u001b[1;32m--> 225\u001b[1;33m             \u001b[1;32mwith\u001b[0m \u001b[0mopen\u001b[0m\u001b[1;33m(\u001b[0m\u001b[0mtile\u001b[0m\u001b[1;33m)\u001b[0m \u001b[1;32mas\u001b[0m \u001b[0mf\u001b[0m\u001b[1;33m:\u001b[0m\u001b[1;33m\u001b[0m\u001b[0m\n\u001b[0m\u001b[0;32m    226\u001b[0m                 data = [x.strip()\n\u001b[0;32m    227\u001b[0m                             \u001b[1;32mfor\u001b[0m \u001b[0ml\u001b[0m \u001b[1;32min\u001b[0m \u001b[0mf\u001b[0m\u001b[1;33m.\u001b[0m\u001b[0mreadlines\u001b[0m\u001b[1;33m(\u001b[0m\u001b[1;33m)\u001b[0m\u001b[1;33m\u001b[0m\u001b[0m\n",
      "\u001b[1;31mFileNotFoundError\u001b[0m: [Errno 2] No such file or directory: 'D:\\\\MatrixScreenerImages\\\\3.3.0_9757\\\\experiment--2015_03_17_18_58_37\\\\slide--S00\\\\chamber--U00--V00\\\\TileConfiguration.registered.txt'"
     ]
    }
   ],
   "source": [
    "regions = find_spots(experiment)"
   ]
  },
  {
   "cell_type": "markdown",
   "metadata": {},
   "source": [
    "## use existing experiment which is already stitched"
   ]
  },
  {
   "cell_type": "code",
   "execution_count": 4,
   "metadata": {
    "collapsed": true
   },
   "outputs": [],
   "source": [
    "whole = 'experiment--whole'\n",
    "experiment = Experiment(exp_path + whole)"
   ]
  },
  {
   "cell_type": "code",
   "execution_count": 6,
   "metadata": {
    "collapsed": false
   },
   "outputs": [],
   "source": [
    "regions = find_spots(experiment)"
   ]
  },
  {
   "cell_type": "code",
   "execution_count": 12,
   "metadata": {
    "collapsed": true
   },
   "outputs": [],
   "source": [
    "save_regions(regions, exp_path + whole + r'\\regions.json')"
   ]
  },
  {
   "cell_type": "code",
   "execution_count": 13,
   "metadata": {
    "collapsed": false
   },
   "outputs": [
    {
     "data": {
      "text/plain": [
       "'C:\\\\Users\\\\TCS-User\\\\AppData\\\\Roaming\\\\Leica Microsystems\\\\LAS X\\\\MatrixScreener\\\\ScanningTemplates\\\\'"
      ]
     },
     "execution_count": 13,
     "metadata": {},
     "output_type": "execute_result"
    }
   ],
   "source": [
    "tmpl_path = r\"C:\\Users\\TCS-User\\AppData\\Roaming\\Leica Microsystems\\LAS X\\MatrixScreener\\ScanningTemplates\\ \".strip()\n",
    "tmpl_path"
   ]
  },
  {
   "cell_type": "code",
   "execution_count": 14,
   "metadata": {
    "collapsed": false
   },
   "outputs": [],
   "source": [
    "cam = CAM()"
   ]
  },
  {
   "cell_type": "code",
   "execution_count": 16,
   "metadata": {
    "collapsed": false
   },
   "outputs": [
    {
     "data": {
      "text/plain": [
       "b'Welcome client : 1\\n'"
      ]
     },
     "execution_count": 16,
     "metadata": {},
     "output_type": "execute_result"
    }
   ],
   "source": [
    "cam.welcome_msg"
   ]
  },
  {
   "cell_type": "code",
   "execution_count": 39,
   "metadata": {
    "collapsed": true
   },
   "outputs": [],
   "source": [
    "i = 0"
   ]
  },
  {
   "cell_type": "code",
   "execution_count": 74,
   "metadata": {
    "collapsed": true
   },
   "outputs": [],
   "source": [
    "i+=1\n",
    "region = regions[i]"
   ]
  },
  {
   "cell_type": "code",
   "execution_count": 75,
   "metadata": {
    "collapsed": false
   },
   "outputs": [
    {
     "data": {
      "text/plain": [
       "(7, 0, 69764.0, 29785.0)"
      ]
     },
     "execution_count": 75,
     "metadata": {},
     "output_type": "execute_result"
    }
   ],
   "source": [
    "region.well_x, region.well_y, region.real_x *1e6//1, region.real_y *1e6 //1"
   ]
  },
  {
   "cell_type": "code",
   "execution_count": 76,
   "metadata": {
    "collapsed": false
   },
   "outputs": [],
   "source": [
    "tmpl_name = '{ScanningTemplate}leicaautomator'\n",
    "tmpl = ScanningTemplate(tmpl_path + tmpl_name + str(i%2) + '.xml')"
   ]
  },
  {
   "cell_type": "code",
   "execution_count": 77,
   "metadata": {
    "collapsed": false
   },
   "outputs": [],
   "source": [
    "tmpl.move_well(1,1,region.real_x, region.real_y)\n",
    "tmpl.write()"
   ]
  },
  {
   "cell_type": "code",
   "execution_count": 78,
   "metadata": {
    "collapsed": false
   },
   "outputs": [
    {
     "data": {
      "text/plain": [
       "[]"
      ]
     },
     "execution_count": 78,
     "metadata": {},
     "output_type": "execute_result"
    }
   ],
   "source": [
    "from time import sleep\n",
    "cam.load_template(tmpl.filename)\n",
    "sleep(10)\n",
    "cam.start_scan()"
   ]
  },
  {
   "cell_type": "markdown",
   "metadata": {},
   "source": [
    "## received bytes"
   ]
  },
  {
   "cell_type": "code",
   "execution_count": 80,
   "metadata": {
    "collapsed": false
   },
   "outputs": [
    {
     "data": {
      "text/plain": [
       "b'/cli:python-leicacam /app:matrix /sys:0 /cmd:load /fil:{ScanningTemplate}leicaautomator0/app:matrix /sys:0 /inf:scanstart\\r\\n/cli:python-leicacam /app:matrix /cmd:startscan/relpath:\\\\3.3.0_9757\\\\experiment--2015_03_18_09_01_19\\\\slide--S00\\\\chamber--U00--V00\\\\field--X00--Y00\\\\image--L0000--S00--U00--V00--J35--E00--O00--X00--Y00--T0000--Z00--C01.ome.tif /jobname:Job 2\\r\\n/relpath:\\\\3.3.0_9757\\\\experiment--2015_03_18_09_01_19\\\\slide--S00\\\\chamber--U00--V00\\\\field--X01--Y00\\\\image--L0000--S00--U00--V00--J35--E00--O00--X01--Y00--T0000--Z00--C01.ome.tif /jobname:Job 2\\r\\n/relpath:\\\\3.3.0_9757\\\\experiment--2015_03_18_09_01_19\\\\slide--S00\\\\chamber--U00--V00\\\\field--X02--Y00\\\\image--L0000--S00--U00--V00--J35--E00--O00--X02--Y00--T0000--Z00--C01.ome.tif /jobname:Job 2\\r\\n/relpath:\\\\3.3.0_9757\\\\experiment--2015_03_18_09_01_19\\\\slide--S00\\\\chamber--U00--V00\\\\field--X03--Y00\\\\image--L0000--S00--U00--V00--J35--E00--O00--X03--Y00--T0000--Z00--C01.ome.tif /jobname:Job 2\\r\\n/relpath:\\\\3.3.0_9757\\\\experiment--2015_03_18_09_01_19\\\\slide--S00\\\\chamber--U00--V00\\\\field--X04--Y00\\\\image--L0000--S00--U00--V00--J35--E00--O00--X04--Y00--T0000--Z00--C01.ome.tif /jobname:Job 2\\r\\n/relpath:\\\\3.3.0_9757\\\\experiment--2015_03_18_09_01_19\\\\slide--S00\\\\chamber--U00--V00\\\\field--X05--Y00\\\\image--L0000--S00--U00--V00--J35--E00--O00--X05--Y00--T0000--Z00--C01.ome.tif /jobname:Job 2\\r\\n/relpath:\\\\3.3.0_9757\\\\experiment--2015_03_18_09_01_19\\\\slide--S00\\\\chamber--U00--V00\\\\field--X05--Y01\\\\image--L0000--S00--U00--V00--J35--E00--O00--X05--Y01--T0000--Z00--C01.ome.tif /jobname:Job 2\\r\\n/relpath:\\\\3.3.0_9757\\\\experiment--2015_03_18_09_01_19\\\\slide--S00\\\\chamber--U00--V00\\\\field--X04--Y01\\\\image--L0000--S00--U00--V00--J35--E00--O00--X04--Y01--T0000--Z00--C01.ome.tif /jobname:Job 2\\r\\n/relpath:\\\\3.3.0_9757\\\\experiment--2015_03_18_09_01_19\\\\slide--S00\\\\chamber--U00--V00\\\\field--X03--Y01\\\\image--L0000--S00--U00--V00--J35--E00--O00--X03--Y01--T0000--Z00--C01.ome.tif /jobname:Job 2\\r\\n/relpath:\\\\3.3.0_9757\\\\experiment--2015_03_18_09_01_19\\\\slide--S00\\\\chamber--U00--V00\\\\field--X02--Y01\\\\image--L0000--S00--U00--V00--J35--E00--O00--X02--Y01--T0000--Z00--C01.ome.tif /jobname:Job 2\\r\\n/relpath:\\\\3.3.0_9757\\\\experiment--2015_03_18_09_01_19\\\\slide--S00\\\\chamber--U00--V00\\\\field--X01--Y01\\\\image--L0000--S00--U00--V00--J35--E00--O00--X01--Y01--T0000--Z00--C01.ome.tif /jobname:Job 2\\r\\n/relpath:\\\\3.3.0_9757\\\\experiment--2015_03_18_09_01_19\\\\slide--S00\\\\chamber--U00--V00\\\\field--X00--Y01\\\\image--L0000--S00--U00--V00--J35--E00--O00--X00--Y01--T0000--Z00--C01.ome.tif /jobname:Job 2\\r\\n/relpath:\\\\3.3.0_9757\\\\experiment--2015_03_18_09_01_19\\\\slide--S00\\\\chamber--U00--V00\\\\field--X00--Y02\\\\image--L0000--S00--U00--V00--J35--E00--O00--X00--Y02--T0000--Z00--C01.ome.tif /jobname:Job 2\\r\\n/relpath:\\\\3.3.0_9757\\\\experiment--2015_03_18_09_01_19\\\\slide--S00\\\\chamber--U00--V00\\\\field--X01--Y02\\\\image--L0000--S00--U00--V00--J35--E00--O00--X01--Y02--T0000--Z00--C01.ome.tif /jobname:Job 2\\r\\n/relpath:\\\\3.3.0_9757\\\\experiment--2015_03_18_09_01_19\\\\slide--S00\\\\chamber--U00--V00\\\\field--X02--Y02\\\\image--L0000--S00--U00--V00--J35--E00--O00--X02--Y02--T0000--Z00--C01.ome.tif /jobname:Job 2\\r\\n/relpath:\\\\3.3.0_9757\\\\experiment--2015_03_18_09_01_19\\\\slide--S00\\\\chamber--U00--V00\\\\field--X03--Y02\\\\image--L0000--S00--U00--V00--J35--E00--O00--X03--Y02--T0000--Z00--C01.ome.tif /jobname:Job 2\\r\\n/relpath:\\\\3.3.0_9757\\\\experiment--2015_03_18_09_01_19\\\\slide--S00\\\\chamber--U00--V00\\\\field--X04--Y02\\\\image--L0000--S00--U00--V00--J35--E00--O00--X04--Y02--T0000--Z00--C01.ome.tif /jobname:Job 2\\r\\n/relpath:\\\\3.3.0_9757\\\\experiment--2015_03_18_09_01_19\\\\slide--S00\\\\chamber--U00--V00\\\\field--X05--Y02\\\\image--L0000--S00--U00--V00--J35--E00--O00--X05--Y02--T0000--Z00--C01.ome.tif /jobname:Job 2\\r\\n/relpath:\\\\3.3.0_9757\\\\experiment--2015_03_18_09_01_19\\\\slide--S00\\\\chamber--U00--V00\\\\field--X05--Y03\\\\image--L0000--S00--U00--V00--J35--E00--O00--X05--Y03--T0000--Z00--C01.ome.tif /jobname:Job 2\\r\\n/relpath:\\\\3.3.0_9757\\\\experiment--2015_03_18_09_01_19\\\\slide--S00\\\\chamber--U00--V00\\\\field--X04--Y03\\\\image--L0000--S00--U00--V00--J35--E00--O00--X04--Y03--T0000--Z00--C01.ome.tif /jobname:Job 2\\r\\n/relpath:\\\\3.3.0_9757\\\\experiment--2015_03_18_09_01_19\\\\slide--S00\\\\chamber--U00--V00\\\\field--X03--Y03\\\\image--L0000--S00--U00--V00--J35--E00--O00--X03--Y03--T0000--Z00--C01.ome.tif /jobname:Job 2\\r\\n/relpath:\\\\3.3.0_9757\\\\experiment--2015_03_18_09_01_19\\\\slide--S00\\\\chamber--U00--V00\\\\field--X02--Y03\\\\image--L0000--S00--U00--V00--J35--E00--O00--X02--Y03--T0000--Z00--C01.ome.tif /jobname:Job 2\\r\\n/relpath:\\\\3.3.0_9757\\\\experiment--2015_03_18_09_01_19\\\\slide--S00\\\\chamber--U00--V00\\\\field--X01--Y03\\\\image--L0000--S00--U00--V00--J35--E00--O00--X01--Y03--T0000--Z00--C01.ome.tif /jobname:Job 2\\r\\n/relpath:\\\\3.3.0_9757\\\\experiment--2015_03_18_09_01_19\\\\slide--S00\\\\chamber--U00--V00\\\\field--X00--Y03\\\\image--L0000--S00--U00--V00--J35--E00--O00--X00--Y03--T0000--Z00--C01.ome.tif /jobname:Job 2\\r\\n/relpath:\\\\3.3.0_9757\\\\experiment--2015_03_18_09_01_19\\\\slide--S00\\\\chamber--U00--V00\\\\field--X00--Y04\\\\image--L0000--S00--U00--V00--J35--E00--O00--X00--Y04--T0000--Z00--C01.ome.tif /jobname:Job 2\\r\\n/relpath:\\\\3.3.0_9757\\\\experiment--2015_03_18_09_01_19\\\\slide--S00\\\\chamber--U00--V00\\\\field--X01--Y04\\\\image--L0000--S00--U00--V00--J35--E00--O00--X01--Y04--T0000--Z00--C01.ome.tif /jobname:Job 2\\r\\n/relpath:\\\\3.3.0_9757\\\\experiment--2015_03_18_09_01_19\\\\slide--S00\\\\chamber--U00--V00\\\\field--X02--Y04\\\\image--L0000--S00--U00--V00--J35--E00--O00--X02--Y04--T0000--Z00--C01.ome.tif /jobname:Job 2\\r\\n/relpath:\\\\3.3.0_9757\\\\experiment--2015_03_18_09_01_19\\\\slide--S00\\\\chamber--U00--V00\\\\field--X03--Y04\\\\image--L0000--S00--U00--V00--J35--E00--O00--X03--Y04--T0000--Z00--C01.ome.tif /jobname:Job 2\\r\\n/relpath:\\\\3.3.0_9757\\\\experiment--2015_03_18_09_01_19\\\\slide--S00\\\\chamber--U00--V00\\\\field--X04--Y04\\\\image--L0000--S00--U00--V00--J35--E00--O00--X04--Y04--T0000--Z00--C01.ome.tif /jobname:Job 2\\r\\n/relpath:\\\\3.3.0_9757\\\\experiment--2015_03_18_09_01_19\\\\slide--S00\\\\chamber--U00--V00\\\\field--X05--Y04\\\\image--L0000--S00--U00--V00--J35--E00--O00--X05--Y04--T0000--Z00--C01.ome.tif /jobname:Job 2\\r\\n/relpath:\\\\3.3.0_9757\\\\experiment--2015_03_18_09_01_19\\\\slide--S00\\\\chamber--U00--V00\\\\field--X05--Y05\\\\image--L0000--S00--U00--V00--J35--E00--O00--X05--Y05--T0000--Z00--C01.ome.tif /jobname:Job 2\\r\\n/relpath:\\\\3.3.0_9757\\\\experiment--2015_03_18_09_01_19\\\\slide--S00\\\\chamber--U00--V00\\\\field--X04--Y05\\\\image--L0000--S00--U00--V00--J35--E00--O00--X04--Y05--T0000--Z00--C01.ome.tif /jobname:Job 2\\r\\n/relpath:\\\\3.3.0_9757\\\\experiment--2015_03_18_09_01_19\\\\slide--S00\\\\chamber--U00--V00\\\\field--X03--Y05\\\\image--L0000--S00--U00--V00--J35--E00--O00--X03--Y05--T0000--Z00--C01.ome.tif /jobname:Job 2\\r\\n/relpath:\\\\3.3.0_9757\\\\experiment--2015_03_18_09_01_19\\\\slide--S00\\\\chamber--U00--V00\\\\field--X02--Y05\\\\image--L0000--S00--U00--V00--J35--E00--O00--X02--Y05--T0000--Z00--C01.ome.tif /jobname:Job 2\\r\\n/relpath:\\\\3.3.0_9757\\\\experiment--2015_03_18_09_01_19\\\\slide--S00\\\\chamber--U00--V00\\\\field--X01--Y05\\\\image--L0000--S00--U00--V00--J35--E00--O00--X01--Y05--T0000--Z00--C01.ome.tif /jobname:Job 2\\r\\n/relpath:\\\\3.3.0_9757\\\\experiment--2015_03_18_09_01_19\\\\slide--S00\\\\chamber--U00--V00\\\\field--X00--Y05\\\\image--L0000--S00--U00--V00--J35--E00--O00--X00--Y05--T0000--Z00--C01.ome.tif /jobname:Job 2\\r\\n/app:matrix /sys:0 /inf:scanfinished\\r\\n'"
      ]
     },
     "execution_count": 80,
     "metadata": {},
     "output_type": "execute_result"
    }
   ],
   "source": [
    "msg = cam.socket.recv(1000000)\n",
    "msg"
   ]
  },
  {
   "cell_type": "code",
   "execution_count": 81,
   "metadata": {
    "collapsed": false
   },
   "outputs": [
    {
     "name": "stdout",
     "output_type": "stream",
     "text": [
      "b'/cli:python-leicacam /app:matrix /sys:0 /cmd:load /fil:{ScanningTemplate}leicaautomator0/app:matrix /sys:0 /inf:scanstart\\r\\n/cli:python-leicacam /app:matrix /cmd:startscan/relpath:\\\\3.3.0_9757\\\\experiment--2015_03_18_09_01_19\\\\slide--S00\\\\chamber--U00--V00\\\\field--X00--Y00\\\\image--L0000--S00--U00--V00--J35--E00--O00--X00--Y00--T0000--Z00--C01.ome.tif /jobname:Job 2\\r\\n/relpath:\\\\3.3.0_9757\\\\experiment--2015_03_18_09_01_19\\\\slide--S00\\\\chamber--U00--V00\\\\field--X01--Y00\\\\image--L0000--S00--U00--V00--J35--E00--O00--X01--Y00--T0000--Z00--C01.ome.tif /jobname:Job 2\\r\\n/relpath:\\\\3.3.0_9757\\\\experiment--2015_03_18_09_01_19\\\\slide--S00\\\\chamber--U00--V00\\\\field--X02--Y00\\\\image--L0000--S00--U00--V00--J35--E00--O00--X02--Y00--T0000--Z00--C01.ome.tif /jobname:Job 2\\r\\n/relpath:\\\\3.3.0_9757\\\\experiment--2015_03_18_09_01_19\\\\slide--S00\\\\chamber--U00--V00\\\\field--X03--Y00\\\\image--L0000--S00--U00--V00--J35--E00--O00--X03--Y00--T0000--Z00--C01.ome.tif /jobname:Job 2\\r\\n/relpath:\\\\3.3.0_9757\\\\experiment--2015_03_18_09_01_19\\\\slide--S00\\\\chamber--U00--V00\\\\field--X04--Y00\\\\image--L0000--S00--U00--V00--J35--E00--O00--X04--Y00--T0000--Z00--C01.ome.tif /jobname:Job 2\\r\\n/relpath:\\\\3.3.0_9757\\\\experiment--2015_03_18_09_01_19\\\\slide--S00\\\\chamber--U00--V00\\\\field--X05--Y00\\\\image--L0000--S00--U00--V00--J35--E00--O00--X05--Y00--T0000--Z00--C01.ome.tif /jobname:Job 2\\r\\n/relpath:\\\\3.3.0_9757\\\\experiment--2015_03_18_09_01_19\\\\slide--S00\\\\chamber--U00--V00\\\\field--X05--Y01\\\\image--L0000--S00--U00--V00--J35--E00--O00--X05--Y01--T0000--Z00--C01.ome.tif /jobname:Job 2\\r\\n/relpath:\\\\3.3.0_9757\\\\experiment--2015_03_18_09_01_19\\\\slide--S00\\\\chamber--U00--V00\\\\field--X04--Y01\\\\image--L0000--S00--U00--V00--J35--E00--O00--X04--Y01--T0000--Z00--C01.ome.tif /jobname:Job 2\\r\\n/relpath:\\\\3.3.0_9757\\\\experiment--2015_03_18_09_01_19\\\\slide--S00\\\\chamber--U00--V00\\\\field--X03--Y01\\\\image--L0000--S00--U00--V00--J35--E00--O00--X03--Y01--T0000--Z00--C01.ome.tif /jobname:Job 2\\r\\n/relpath:\\\\3.3.0_9757\\\\experiment--2015_03_18_09_01_19\\\\slide--S00\\\\chamber--U00--V00\\\\field--X02--Y01\\\\image--L0000--S00--U00--V00--J35--E00--O00--X02--Y01--T0000--Z00--C01.ome.tif /jobname:Job 2\\r\\n/relpath:\\\\3.3.0_9757\\\\experiment--2015_03_18_09_01_19\\\\slide--S00\\\\chamber--U00--V00\\\\field--X01--Y01\\\\image--L0000--S00--U00--V00--J35--E00--O00--X01--Y01--T0000--Z00--C01.ome.tif /jobname:Job 2\\r\\n/relpath:\\\\3.3.0_9757\\\\experiment--2015_03_18_09_01_19\\\\slide--S00\\\\chamber--U00--V00\\\\field--X00--Y01\\\\image--L0000--S00--U00--V00--J35--E00--O00--X00--Y01--T0000--Z00--C01.ome.tif /jobname:Job 2\\r\\n/relpath:\\\\3.3.0_9757\\\\experiment--2015_03_18_09_01_19\\\\slide--S00\\\\chamber--U00--V00\\\\field--X00--Y02\\\\image--L0000--S00--U00--V00--J35--E00--O00--X00--Y02--T0000--Z00--C01.ome.tif /jobname:Job 2\\r\\n/relpath:\\\\3.3.0_9757\\\\experiment--2015_03_18_09_01_19\\\\slide--S00\\\\chamber--U00--V00\\\\field--X01--Y02\\\\image--L0000--S00--U00--V00--J35--E00--O00--X01--Y02--T0000--Z00--C01.ome.tif /jobname:Job 2\\r\\n/relpath:\\\\3.3.0_9757\\\\experiment--2015_03_18_09_01_19\\\\slide--S00\\\\chamber--U00--V00\\\\field--X02--Y02\\\\image--L0000--S00--U00--V00--J35--E00--O00--X02--Y02--T0000--Z00--C01.ome.tif /jobname:Job 2\\r\\n/relpath:\\\\3.3.0_9757\\\\experiment--2015_03_18_09_01_19\\\\slide--S00\\\\chamber--U00--V00\\\\field--X03--Y02\\\\image--L0000--S00--U00--V00--J35--E00--O00--X03--Y02--T0000--Z00--C01.ome.tif /jobname:Job 2\\r\\n/relpath:\\\\3.3.0_9757\\\\experiment--2015_03_18_09_01_19\\\\slide--S00\\\\chamber--U00--V00\\\\field--X04--Y02\\\\image--L0000--S00--U00--V00--J35--E00--O00--X04--Y02--T0000--Z00--C01.ome.tif /jobname:Job 2\\r\\n/relpath:\\\\3.3.0_9757\\\\experiment--2015_03_18_09_01_19\\\\slide--S00\\\\chamber--U00--V00\\\\field--X05--Y02\\\\image--L0000--S00--U00--V00--J35--E00--O00--X05--Y02--T0000--Z00--C01.ome.tif /jobname:Job 2\\r\\n/relpath:\\\\3.3.0_9757\\\\experiment--2015_03_18_09_01_19\\\\slide--S00\\\\chamber--U00--V00\\\\field--X05--Y03\\\\image--L0000--S00--U00--V00--J35--E00--O00--X05--Y03--T0000--Z00--C01.ome.tif /jobname:Job 2\\r\\n/relpath:\\\\3.3.0_9757\\\\experiment--2015_03_18_09_01_19\\\\slide--S00\\\\chamber--U00--V00\\\\field--X04--Y03\\\\image--L0000--S00--U00--V00--J35--E00--O00--X04--Y03--T0000--Z00--C01.ome.tif /jobname:Job 2\\r\\n/relpath:\\\\3.3.0_9757\\\\experiment--2015_03_18_09_01_19\\\\slide--S00\\\\chamber--U00--V00\\\\field--X03--Y03\\\\image--L0000--S00--U00--V00--J35--E00--O00--X03--Y03--T0000--Z00--C01.ome.tif /jobname:Job 2\\r\\n/relpath:\\\\3.3.0_9757\\\\experiment--2015_03_18_09_01_19\\\\slide--S00\\\\chamber--U00--V00\\\\field--X02--Y03\\\\image--L0000--S00--U00--V00--J35--E00--O00--X02--Y03--T0000--Z00--C01.ome.tif /jobname:Job 2\\r\\n/relpath:\\\\3.3.0_9757\\\\experiment--2015_03_18_09_01_19\\\\slide--S00\\\\chamber--U00--V00\\\\field--X01--Y03\\\\image--L0000--S00--U00--V00--J35--E00--O00--X01--Y03--T0000--Z00--C01.ome.tif /jobname:Job 2\\r\\n/relpath:\\\\3.3.0_9757\\\\experiment--2015_03_18_09_01_19\\\\slide--S00\\\\chamber--U00--V00\\\\field--X00--Y03\\\\image--L0000--S00--U00--V00--J35--E00--O00--X00--Y03--T0000--Z00--C01.ome.tif /jobname:Job 2\\r\\n/relpath:\\\\3.3.0_9757\\\\experiment--2015_03_18_09_01_19\\\\slide--S00\\\\chamber--U00--V00\\\\field--X00--Y04\\\\image--L0000--S00--U00--V00--J35--E00--O00--X00--Y04--T0000--Z00--C01.ome.tif /jobname:Job 2\\r\\n/relpath:\\\\3.3.0_9757\\\\experiment--2015_03_18_09_01_19\\\\slide--S00\\\\chamber--U00--V00\\\\field--X01--Y04\\\\image--L0000--S00--U00--V00--J35--E00--O00--X01--Y04--T0000--Z00--C01.ome.tif /jobname:Job 2\\r\\n/relpath:\\\\3.3.0_9757\\\\experiment--2015_03_18_09_01_19\\\\slide--S00\\\\chamber--U00--V00\\\\field--X02--Y04\\\\image--L0000--S00--U00--V00--J35--E00--O00--X02--Y04--T0000--Z00--C01.ome.tif /jobname:Job 2\\r\\n/relpath:\\\\3.3.0_9757\\\\experiment--2015_03_18_09_01_19\\\\slide--S00\\\\chamber--U00--V00\\\\field--X03--Y04\\\\image--L0000--S00--U00--V00--J35--E00--O00--X03--Y04--T0000--Z00--C01.ome.tif /jobname:Job 2\\r\\n/relpath:\\\\3.3.0_9757\\\\experiment--2015_03_18_09_01_19\\\\slide--S00\\\\chamber--U00--V00\\\\field--X04--Y04\\\\image--L0000--S00--U00--V00--J35--E00--O00--X04--Y04--T0000--Z00--C01.ome.tif /jobname:Job 2\\r\\n/relpath:\\\\3.3.0_9757\\\\experiment--2015_03_18_09_01_19\\\\slide--S00\\\\chamber--U00--V00\\\\field--X05--Y04\\\\image--L0000--S00--U00--V00--J35--E00--O00--X05--Y04--T0000--Z00--C01.ome.tif /jobname:Job 2\\r\\n/relpath:\\\\3.3.0_9757\\\\experiment--2015_03_18_09_01_19\\\\slide--S00\\\\chamber--U00--V00\\\\field--X05--Y05\\\\image--L0000--S00--U00--V00--J35--E00--O00--X05--Y05--T0000--Z00--C01.ome.tif /jobname:Job 2\\r\\n/relpath:\\\\3.3.0_9757\\\\experiment--2015_03_18_09_01_19\\\\slide--S00\\\\chamber--U00--V00\\\\field--X04--Y05\\\\image--L0000--S00--U00--V00--J35--E00--O00--X04--Y05--T0000--Z00--C01.ome.tif /jobname:Job 2\\r\\n/relpath:\\\\3.3.0_9757\\\\experiment--2015_03_18_09_01_19\\\\slide--S00\\\\chamber--U00--V00\\\\field--X03--Y05\\\\image--L0000--S00--U00--V00--J35--E00--O00--X03--Y05--T0000--Z00--C01.ome.tif /jobname:Job 2\\r\\n/relpath:\\\\3.3.0_9757\\\\experiment--2015_03_18_09_01_19\\\\slide--S00\\\\chamber--U00--V00\\\\field--X02--Y05\\\\image--L0000--S00--U00--V00--J35--E00--O00--X02--Y05--T0000--Z00--C01.ome.tif /jobname:Job 2\\r\\n/relpath:\\\\3.3.0_9757\\\\experiment--2015_03_18_09_01_19\\\\slide--S00\\\\chamber--U00--V00\\\\field--X01--Y05\\\\image--L0000--S00--U00--V00--J35--E00--O00--X01--Y05--T0000--Z00--C01.ome.tif /jobname:Job 2\\r\\n/relpath:\\\\3.3.0_9757\\\\experiment--2015_03_18_09_01_19\\\\slide--S00\\\\chamber--U00--V00\\\\field--X00--Y05\\\\image--L0000--S00--U00--V00--J35--E00--O00--X00--Y05--T0000--Z00--C01.ome.tif /jobname:Job 2\\r\\n/app:matrix /sys:0 /inf:scanfinished\\r\\n'\n"
     ]
    }
   ],
   "source": [
    "print(msg)"
   ]
  },
  {
   "cell_type": "markdown",
   "metadata": {},
   "source": [
    "## received OD"
   ]
  },
  {
   "cell_type": "code",
   "execution_count": 72,
   "metadata": {
    "collapsed": true
   },
   "outputs": [],
   "source": [
    "cam.buffer_size = 1000000"
   ]
  },
  {
   "cell_type": "code",
   "execution_count": 73,
   "metadata": {
    "collapsed": false
   },
   "outputs": [
    {
     "data": {
      "text/plain": [
       "[OrderedDict([('app', 'matrix'), ('sys', '0'), ('inf', 'scanstart')]),\n",
       " OrderedDict([('cli', 'python-leicacam'), ('app', 'matrix'), ('cmd', 'startscan/relpath:\\\\3.3.0_9757\\\\experiment--2015_03_18_08_56_17\\\\slide--S00\\\\chamber--U00--V00\\\\field--X00--Y00\\\\image--L0000--S00--U00--V00--J29--E00--O00--X00--Y00--T0000--Z00--C01.ome.tif'), ('jobname', 'Job 2')]),\n",
       " OrderedDict([('relpath', '\\\\3.3.0_9757\\\\experiment--2015_03_18_08_56_17\\\\slide--S00\\\\chamber--U00--V00\\\\field--X01--Y00\\\\image--L0000--S00--U00--V00--J29--E00--O00--X01--Y00--T0000--Z00--C01.ome.tif'), ('jobname', 'Job 2')]),\n",
       " OrderedDict([('relpath', '\\\\3.3.0_9757\\\\experiment--2015_03_18_08_56_17\\\\slide--S00\\\\chamber--U00--V00\\\\field--X02--Y00\\\\image--L0000--S00--U00--V00--J29--E00--O00--X02--Y00--T0000--Z00--C01.ome.tif'), ('jobname', 'Job 2')]),\n",
       " OrderedDict([('relpath', '\\\\3.3.0_9757\\\\experiment--2015_03_18_08_56_17\\\\slide--S00\\\\chamber--U00--V00\\\\field--X03--Y00\\\\image--L0000--S00--U00--V00--J29--E00--O00--X03--Y00--T0000--Z00--C01.ome.tif'), ('jobname', 'Job 2')]),\n",
       " OrderedDict([('relpath', '\\\\3.3.0_9757\\\\experiment--2015_03_18_08_56_17\\\\slide--S00\\\\chamber--U00--V00\\\\field--X04--Y00\\\\image--L0000--S00--U00--V00--J29--E00--O00--X04--Y00--T0000--Z00--C01.ome.tif'), ('jobname', 'Job 2')]),\n",
       " OrderedDict([('relpath', '\\\\3.3.0_9757\\\\experiment--2015_03_18_08_56_17\\\\slide--S00\\\\chamber--U00--V00\\\\field--X05--Y00\\\\image--L0000--S00--U00--V00--J29--E00--O00--X05--Y00--T0000--Z00--C01.ome.tif'), ('jobname', 'Job 2')]),\n",
       " OrderedDict([('relpath', '\\\\3.3.0_9757\\\\experiment--2015_03_18_08_56_17\\\\slide--S00\\\\chamber--U00--V00\\\\field--X05--Y01\\\\image--L0000--S00--U00--V00--J29--E00--O00--X05--Y01--T0000--Z00--C01.ome.tif'), ('jobname', 'Job 2')]),\n",
       " OrderedDict([('relpath', '\\\\3.3.0_9757\\\\experiment--2015_03_18_08_56_17\\\\slide--S00\\\\chamber--U00--V00\\\\field--X04--Y01\\\\image--L0000--S00--U00--V00--J29--E00--O00--X04--Y01--T0000--Z00--C01.ome.tif'), ('jobname', 'Job 2')]),\n",
       " OrderedDict([('relpath', '\\\\3.3.0_9757\\\\experiment--2015_03_18_08_56_17\\\\slide--S00\\\\chamber--U00--V00\\\\field--X03--Y01\\\\image--L0000--S00--U00--V00--J29--E00--O00--X03--Y01--T0000--Z00--C01.ome.tif'), ('jobname', 'Job 2')]),\n",
       " OrderedDict([('relpath', '\\\\3.3.0_9757\\\\experiment--2015_03_18_08_56_17\\\\slide--S00\\\\chamber--U00--V00\\\\field--X02--Y01\\\\image--L0000--S00--U00--V00--J29--E00--O00--X02--Y01--T0000--Z00--C01.ome.tif'), ('jobname', 'Job 2')]),\n",
       " OrderedDict([('relpath', '\\\\3.3.0_9757\\\\experiment--2015_03_18_08_56_17\\\\slide--S00\\\\chamber--U00--V00\\\\field--X01--Y01\\\\image--L0000--S00--U00--V00--J29--E00--O00--X01--Y01--T0000--Z00--C01.ome.tif'), ('jobname', 'Job 2')]),\n",
       " OrderedDict([('relpath', '\\\\3.3.0_9757\\\\experiment--2015_03_18_08_56_17\\\\slide--S00\\\\chamber--U00--V00\\\\field--X00--Y01\\\\image--L0000--S00--U00--V00--J29--E00--O00--X00--Y01--T0000--Z00--C01.ome.tif'), ('jobname', 'Job 2')]),\n",
       " OrderedDict([('relpath', '\\\\3.3.0_9757\\\\experiment--2015_03_18_08_56_17\\\\slide--S00\\\\chamber--U00--V00\\\\field--X00--Y02\\\\image--L0000--S00--U00--V00--J29--E00--O00--X00--Y02--T0000--Z00--C01.ome.tif'), ('jobname', 'Job 2')]),\n",
       " OrderedDict([('relpath', '\\\\3.3.0_9757\\\\experiment--2015_03_18_08_56_17\\\\slide--S00\\\\chamber--U00--V00\\\\field--X01--Y02\\\\image--L0000--S00--U00--V00--J29--E00--O00--X01--Y02--T0000--Z00--C01.ome.tif'), ('jobname', 'Job 2')]),\n",
       " OrderedDict([('relpath', '\\\\3.3.0_9757\\\\experiment--2015_03_18_08_56_17\\\\slide--S00\\\\chamber--U00--V00\\\\field--X02--Y02\\\\image--L0000--S00--U00--V00--J29--E00--O00--X02--Y02--T0000--Z00--C01.ome.tif'), ('jobname', 'Job 2')]),\n",
       " OrderedDict([('relpath', '\\\\3.3.0_9757\\\\experiment--2015_03_18_08_56_17\\\\slide--S00\\\\chamber--U00--V00\\\\field--X03--Y02\\\\image--L0000--S00--U00--V00--J29--E00--O00--X03--Y02--T0000--Z00--C01.ome.tif'), ('jobname', 'Job 2')]),\n",
       " OrderedDict([('relpath', '\\\\3.3.0_9757\\\\experiment--2015_03_18_08_56_17\\\\slide--S00\\\\chamber--U00--V00\\\\field--X04--Y02\\\\image--L0000--S00--U00--V00--J29--E00--O00--X04--Y02--T0000--Z00--C01.ome.tif'), ('jobname', 'Job 2')]),\n",
       " OrderedDict([('relpath', '\\\\3.3.0_9757\\\\experiment--2015_03_18_08_56_17\\\\slide--S00\\\\chamber--U00--V00\\\\field--X05--Y02\\\\image--L0000--S00--U00--V00--J29--E00--O00--X05--Y02--T0000--Z00--C01.ome.tif'), ('jobname', 'Job 2')]),\n",
       " OrderedDict([('relpath', '\\\\3.3.0_9757\\\\experiment--2015_03_18_08_56_17\\\\slide--S00\\\\chamber--U00--V00\\\\field--X05--Y03\\\\image--L0000--S00--U00--V00--J29--E00--O00--X05--Y03--T0000--Z00--C01.ome.tif'), ('jobname', 'Job 2')]),\n",
       " OrderedDict([('relpath', '\\\\3.3.0_9757\\\\experiment--2015_03_18_08_56_17\\\\slide--S00\\\\chamber--U00--V00\\\\field--X04--Y03\\\\image--L0000--S00--U00--V00--J29--E00--O00--X04--Y03--T0000--Z00--C01.ome.tif'), ('jobname', 'Job 2')]),\n",
       " OrderedDict([('relpath', '\\\\3.3.0_9757\\\\experiment--2015_03_18_08_56_17\\\\slide--S00\\\\chamber--U00--V00\\\\field--X03--Y03\\\\image--L0000--S00--U00--V00--J29--E00--O00--X03--Y03--T0000--Z00--C01.ome.tif'), ('jobname', 'Job 2')]),\n",
       " OrderedDict([('relpath', '\\\\3.3.0_9757\\\\experiment--2015_03_18_08_56_17\\\\slide--S00\\\\chamber--U00--V00\\\\field--X02--Y03\\\\image--L0000--S00--U00--V00--J29--E00--O00--X02--Y03--T0000--Z00--C01.ome.tif'), ('jobname', 'Job 2')]),\n",
       " OrderedDict([('relpath', '\\\\3.3.0_9757\\\\experiment--2015_03_18_08_56_17\\\\slide--S00\\\\chamber--U00--V00\\\\field--X01--Y03\\\\image--L0000--S00--U00--V00--J29--E00--O00--X01--Y03--T0000--Z00--C01.ome.tif'), ('jobname', 'Job 2')]),\n",
       " OrderedDict([('relpath', '\\\\3.3.0_9757\\\\experiment--2015_03_18_08_56_17\\\\slide--S00\\\\chamber--U00--V00\\\\field--X00--Y03\\\\image--L0000--S00--U00--V00--J29--E00--O00--X00--Y03--T0000--Z00--C01.ome.tif'), ('jobname', 'Job 2')]),\n",
       " OrderedDict([('relpath', '\\\\3.3.0_9757\\\\experiment--2015_03_18_08_56_17\\\\slide--S00\\\\chamber--U00--V00\\\\field--X00--Y04\\\\image--L0000--S00--U00--V00--J29--E00--O00--X00--Y04--T0000--Z00--C01.ome.tif'), ('jobname', 'Job 2')]),\n",
       " OrderedDict([('relpath', '\\\\3.3.0_9757\\\\experiment--2015_03_18_08_56_17\\\\slide--S00\\\\chamber--U00--V00\\\\field--X01--Y04\\\\image--L0000--S00--U00--V00--J29--E00--O00--X01--Y04--T0000--Z00--C01.ome.tif'), ('jobname', 'Job 2')]),\n",
       " OrderedDict([('relpath', '\\\\3.3.0_9757\\\\experiment--2015_03_18_08_56_17\\\\slide--S00\\\\chamber--U00--V00\\\\field--X02--Y04\\\\image--L0000--S00--U00--V00--J29--E00--O00--X02--Y04--T0000--Z00--C01.ome.tif'), ('jobname', 'Job 2')]),\n",
       " OrderedDict([('relpath', '\\\\3.3.0_9757\\\\experiment--2015_03_18_08_56_17\\\\slide--S00\\\\chamber--U00--V00\\\\field--X03--Y04\\\\image--L0000--S00--U00--V00--J29--E00--O00--X03--Y04--T0000--Z00--C01.ome.tif'), ('jobname', 'Job 2')]),\n",
       " OrderedDict([('relpath', '\\\\3.3.0_9757\\\\experiment--2015_03_18_08_56_17\\\\slide--S00\\\\chamber--U00--V00\\\\field--X04--Y04\\\\image--L0000--S00--U00--V00--J29--E00--O00--X04--Y04--T0000--Z00--C01.ome.tif'), ('jobname', 'Job 2')]),\n",
       " OrderedDict([('relpath', '\\\\3.3.0_9757\\\\experiment--2015_03_18_08_56_17\\\\slide--S00\\\\chamber--U00--V00\\\\field--X05--Y04\\\\image--L0000--S00--U00--V00--J29--E00--O00--X05--Y04--T0000--Z00--C01.ome.tif'), ('jobname', 'Job 2')]),\n",
       " OrderedDict([('relpath', '\\\\3.3.0_9757\\\\experiment--2015_03_18_08_56_17\\\\slide--S00\\\\chamber--U00--V00\\\\field--X05--Y05\\\\image--L0000--S00--U00--V00--J29--E00--O00--X05--Y05--T0000--Z00--C01.ome.tif'), ('jobname', 'Job 2')]),\n",
       " OrderedDict([('relpath', '\\\\3.3.0_9757\\\\experiment--2015_03_18_08_56_17\\\\slide--S00\\\\chamber--U00--V00\\\\field--X04--Y05\\\\image--L0000--S00--U00--V00--J29--E00--O00--X04--Y05--T0000--Z00--C01.ome.tif'), ('jobname', 'Job 2')]),\n",
       " OrderedDict([('relpath', '\\\\3.3.0_9757\\\\experiment--2015_03_18_08_56_17\\\\slide--S00\\\\chamber--U00--V00\\\\field--X03--Y05\\\\image--L0000--S00--U00--V00--J29--E00--O00--X03--Y05--T0000--Z00--C01.ome.tif'), ('jobname', 'Job 2')]),\n",
       " OrderedDict([('relpath', '\\\\3.3.0_9757\\\\experiment--2015_03_18_08_56_17\\\\slide--S00\\\\chamber--U00--V00\\\\field--X02--Y05\\\\image--L0000--S00--U00--V00--J29--E00--O00--X02--Y05--T0000--Z00--C01.ome.tif'), ('jobname', 'Job 2')]),\n",
       " OrderedDict([('relpath', '\\\\3.3.0_9757\\\\experiment--2015_03_18_08_56_17\\\\slide--S00\\\\chamber--U00--V00\\\\field--X01--Y05\\\\image--L0000--S00--U00--V00--J29--E00--O00--X01--Y05--T0000--Z00--C01.ome.tif'), ('jobname', 'Job 2')]),\n",
       " OrderedDict([('relpath', '\\\\3.3.0_9757\\\\experiment--2015_03_18_08_56_17\\\\slide--S00\\\\chamber--U00--V00\\\\field--X00--Y05\\\\image--L0000--S00--U00--V00--J29--E00--O00--X00--Y05--T0000--Z00--C01.ome.tif'), ('jobname', 'Job 2')]),\n",
       " OrderedDict([('app', 'matrix'), ('sys', '0'), ('inf', 'scanfinished')])]"
      ]
     },
     "execution_count": 73,
     "metadata": {},
     "output_type": "execute_result"
    }
   ],
   "source": [
    "cam.receive()"
   ]
  },
  {
   "cell_type": "code",
   "execution_count": null,
   "metadata": {
    "collapsed": true
   },
   "outputs": [],
   "source": []
  }
 ],
 "metadata": {
  "kernelspec": {
   "display_name": "Python 3",
   "language": "python",
   "name": "python3"
  },
  "language_info": {
   "codemirror_mode": {
    "name": "ipython",
    "version": 3
   },
   "file_extension": ".py",
   "mimetype": "text/x-python",
   "name": "python",
   "nbconvert_exporter": "python",
   "pygments_lexer": "ipython3",
   "version": "3.4.1"
  }
 },
 "nbformat": 4,
 "nbformat_minor": 0
}
