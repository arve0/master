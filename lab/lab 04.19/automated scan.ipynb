{
 "cells": [
  {
   "cell_type": "code",
   "execution_count": 1,
   "metadata": {
    "collapsed": false
   },
   "outputs": [],
   "source": [
    "from leicaautomator.automator import find_spots\n",
    "from leicaautomator.utils import save_regions, flatten\n",
    "from leicaexperiment import Experiment\n",
    "from leicascanningtemplate import ScanningTemplate\n",
    "from leicacam import CAM"
   ]
  },
  {
   "cell_type": "code",
   "execution_count": 2,
   "metadata": {
    "collapsed": false
   },
   "outputs": [
    {
     "data": {
      "text/plain": [
       "'D:\\\\MatrixScreenerImages\\\\3.3.0_9757\\\\'"
      ]
     },
     "execution_count": 2,
     "metadata": {},
     "output_type": "execute_result"
    }
   ],
   "source": [
    "exp_path = r\"D:\\MatrixScreenerImages\\3.3.0_9757\\ \".strip()\n",
    "exp_path"
   ]
  },
  {
   "cell_type": "code",
   "execution_count": 3,
   "metadata": {
    "collapsed": true
   },
   "outputs": [],
   "source": [
    "cam = CAM()"
   ]
  },
  {
   "cell_type": "code",
   "execution_count": 4,
   "metadata": {
    "collapsed": false
   },
   "outputs": [
    {
     "data": {
      "text/plain": [
       "OrderedDict([('cli', 'python-leicacam'), ('app', 'matrix'), ('sys', '0'), ('cmd', 'load'), ('fil', '{ScanningTemplate}leicaautomator-overview')])"
      ]
     },
     "execution_count": 4,
     "metadata": {},
     "output_type": "execute_result"
    }
   ],
   "source": [
    "cam.load_template('leicaautomator-overview')"
   ]
  },
  {
   "cell_type": "code",
   "execution_count": 6,
   "metadata": {
    "collapsed": false
   },
   "outputs": [
    {
     "data": {
      "text/plain": [
       "5215.129999999997"
      ]
     },
     "execution_count": 6,
     "metadata": {},
     "output_type": "execute_result"
    }
   ],
   "source": [
    "44961.38-39746.25"
   ]
  },
  {
   "cell_type": "code",
   "execution_count": 8,
   "metadata": {
    "collapsed": false
   },
   "outputs": [
    {
     "data": {
      "text/plain": [
       "9.039485714285707"
      ]
     },
     "execution_count": 8,
     "metadata": {},
     "output_type": "execute_result"
    }
   ],
   "source": [
    "(84511.65-75020.19) / 1050"
   ]
  },
  {
   "cell_type": "code",
   "execution_count": 12,
   "metadata": {
    "collapsed": false
   },
   "outputs": [
    {
     "data": {
      "text/plain": [
       "OrderedDict([('relpath', '\\\\3.3.0_9757\\\\experiment--2015_04_19_10_39_43\\\\slide--S00\\\\chamber--U00--V00\\\\field--X03--Y00\\\\image--L0000--S00--U00--V00--J08--E00--O00--X03--Y00--T0000--Z00--C00.ome.tif'), ('jobname', 'Job 2')])"
      ]
     },
     "execution_count": 12,
     "metadata": {},
     "output_type": "execute_result"
    }
   ],
   "source": [
    "cam.wait_for('relpath')"
   ]
  },
  {
   "cell_type": "code",
   "execution_count": 20,
   "metadata": {
    "collapsed": true
   },
   "outputs": [],
   "source": [
    "whole = _12['relpath'].split('\\\\')[2]\n",
    "experiment = Experiment(exp_path + whole)"
   ]
  },
  {
   "cell_type": "code",
   "execution_count": 21,
   "metadata": {
    "collapsed": false
   },
   "outputs": [
    {
     "name": "stdout",
     "output_type": "stream",
     "text": [
      " Volume in drive D is DATADRIVE1\n",
      " Volume Serial Number is F805-2E08\n",
      "\n",
      " Directory of D:\\MatrixScreenerImages\\3.3.0_9757\\experiment--2015_04_19_10_39_43\n",
      "\n",
      "04/19/2015  12:39 PM    <DIR>          .\n",
      "04/19/2015  12:39 PM    <DIR>          ..\n",
      "04/19/2015  12:39 PM    <DIR>          AdditionalData\n",
      "04/19/2015  12:39 PM    <DIR>          slide--S00\n",
      "               0 File(s)              0 bytes\n",
      "               4 Dir(s)  1,664,438,173,696 bytes free\n"
     ]
    }
   ],
   "source": [
    "!dir $experiment.path"
   ]
  },
  {
   "cell_type": "code",
   "execution_count": 15,
   "metadata": {
    "collapsed": false
   },
   "outputs": [
    {
     "data": {
      "text/plain": [
       "OrderedDict([('app', 'matrix'), ('sys', '0'), ('inf', 'scanfinished')])"
      ]
     },
     "execution_count": 15,
     "metadata": {},
     "output_type": "execute_result"
    }
   ],
   "source": [
    "cam.wait_for('inf', 'scanfinished')"
   ]
  },
  {
   "cell_type": "markdown",
   "metadata": {},
   "source": [
    "# compress and rotate images"
   ]
  },
  {
   "cell_type": "code",
   "execution_count": 22,
   "metadata": {
    "collapsed": true
   },
   "outputs": [],
   "source": [
    "compressed = experiment.compress(delete_tif=True)\n",
    "assert len(compressed) == len(experiment.images)\n",
    "from PIL import Image\n",
    "for img in experiment.images:\n",
    "    i = Image.open(img)\n",
    "    i = i.rotate(270)\n",
    "    i.save(img)"
   ]
  },
  {
   "cell_type": "code",
   "execution_count": 23,
   "metadata": {
    "collapsed": false
   },
   "outputs": [
    {
     "data": {
      "text/plain": [
       "['D:\\\\MatrixScreenerImages\\\\3.3.0_9757\\\\experiment--2015_04_19_10_39_43\\\\stitched--U00--V00--C00--Z00.png']"
      ]
     },
     "execution_count": 23,
     "metadata": {},
     "output_type": "execute_result"
    }
   ],
   "source": [
    "experiment.stitch()"
   ]
  },
  {
   "cell_type": "code",
   "execution_count": 24,
   "metadata": {
    "collapsed": false
   },
   "outputs": [
    {
     "name": "stdout",
     "output_type": "stream",
     "text": [
      "Well distance x in microns: 1717.27066104\n",
      "Well distance y in microns: 1695.83384295\n",
      "============\n",
      "Well offsets\n",
      "============\n",
      "( well )   x[um], y[um]\n",
      "-----------------------\n",
      "( 0,  1)    -209,   -35\n",
      "( 0,  2)     -75,   112\n",
      "( 1,  0)     169,   -20\n",
      "( 1,  2)      57,  -109\n",
      "( 1,  3)    -134,  -119\n",
      "( 1,  4)    -163,  -120\n",
      "( 1,  5)    -159,  -187\n",
      "( 1,  6)      98,  -108\n",
      "( 1,  7)      19,   -50\n",
      "( 1,  8)      50,  -154\n",
      "( 2,  0)      48,  -152\n",
      "( 2,  1)      58,  -213\n",
      "( 2,  2)     -43,  -193\n",
      "( 2,  3)     -13,  -133\n",
      "( 2,  4)     -61,  -145\n",
      "( 2,  5)     -20,  -178\n",
      "( 2,  6)     119,  -122\n",
      "( 2,  7)     185,    -7\n",
      "( 2,  8)      98,  -138\n",
      "( 3,  0)       6,  -184\n",
      "( 3,  1)       5,  -219\n",
      "( 3,  2)     -29,  -291\n",
      "( 3,  3)    -202,  -312\n",
      "( 3,  4)    -167,  -257\n",
      "( 3,  5)    -172,  -192\n",
      "( 3,  6)     -47,  -133\n",
      "( 3,  7)     -31,  -139\n",
      "( 3,  8)     124,  -197\n",
      "( 4,  0)     -81,  -250\n",
      "( 4,  1)     -28,  -199\n",
      "( 4,  3)    -110,  -369\n",
      "( 4,  4)     -92,  -343\n",
      "( 4,  5)     -24,   -55\n",
      "( 4,  6)      -1,   -63\n",
      "( 4,  7)      56,   -30\n",
      "( 4,  8)      88,   -47\n",
      "( 5,  0)     -10,  -259\n",
      "( 5,  1)     -67,  -329\n",
      "( 5,  2)      -1,  -348\n",
      "( 5,  3)     111,  -349\n",
      "( 5,  4)      88,  -304\n",
      "( 5,  5)      97,  -155\n",
      "( 5,  6)      88,  -156\n",
      "( 5,  7)      97,  -184\n",
      "( 5,  8)      24,  -110\n",
      "( 6,  0)    -228,  -303\n",
      "( 6,  1)    -212,  -333\n",
      "( 6,  2)     -37,  -295\n",
      "( 6,  3)      63,  -276\n",
      "( 6,  4)     122,  -191\n",
      "( 6,  5)     113,  -217\n",
      "( 6,  6)      88,  -154\n",
      "( 6,  7)      84,  -130\n",
      "( 6,  8)      70,  -149\n",
      "( 7,  0)    -325,  -405\n",
      "( 7,  3)      34,  -139\n",
      "( 7,  4)      45,  -106\n",
      "( 7,  5)      45,  -119\n",
      "( 7,  6)     -96,  -208\n",
      "( 7,  7)     -23,  -168\n",
      "( 7,  8)     -25,  -215\n",
      "( 8,  0)     533,  -296\n",
      "( 8,  1)    -157,  -365\n",
      "( 8,  2)      32,   -43\n",
      "( 8,  3)      -7,  -112\n",
      "( 8,  4)     -91,  -147\n",
      "( 8,  5)    -107,  -246\n",
      "( 8,  6)    -136,  -272\n",
      "( 8,  7)    -250,  -230\n",
      "( 8,  8)    -139,  -215\n",
      "( 9,  0)     390,  -234\n",
      "( 9,  1)     337,  -222\n",
      "( 9,  2)     278,  -216\n",
      "( 9,  3)      32,  -190\n",
      "( 9,  4)     -22,  -150\n",
      "( 9,  5)     -54,  -212\n",
      "( 9,  6)    -218,  -286\n",
      "( 9,  7)    -243,  -196\n",
      "( 9,  8)    -136,  -106\n",
      "(10,  0)     199,  -155\n",
      "(10,  1)     187,  -181\n",
      "(10,  2)     160,  -214\n",
      "(10,  3)      53,  -215\n",
      "(10,  4)       5,  -200\n",
      "(10,  5)     301,  -182\n",
      "(10,  6)     460,  -322\n",
      "(10,  6)    -293,  -145\n",
      "(10,  7)     174,  -310\n",
      "(10,  7)    -281,   -23\n",
      "(10,  8)       1,  -247\n",
      "(11,  0)     138,  -175\n",
      "(11,  1)     104,  -137\n",
      "(11,  2)      60,  -148\n",
      "(11,  3)      -8,  -199\n",
      "(11,  4)     -44,  -238\n",
      "(11,  5)     -60,  -260\n",
      "(11,  6)      42,  -313\n",
      "(11,  7)     -31,  -175\n",
      "(11,  8)      35,  -242\n",
      "(12,  0)      33,   -50\n",
      "(12,  1)      17,   -92\n",
      "(12,  2)      40,  -154\n",
      "(12,  3)     -76,  -178\n",
      "(12,  4)     -28,  -247\n",
      "(12,  5)      38,  -271\n",
      "(12,  6)      81,  -231\n",
      "(12,  7)     168,  -255\n",
      "(13,  0)     145,    39\n",
      "(13,  3)     -16,  -265\n",
      "(13,  4)     -41,  -245\n",
      "(13,  5)     -46,  -251\n",
      "(13,  6)      -5,  -202\n",
      "(13,  7)       6,  -207\n",
      "(13,  8)    -187,  -270\n",
      "(14,  0)      66,   152\n",
      "(14,  2)    -121,   -18\n",
      "(14,  3)     -75,  -137\n",
      "(14,  4)     -84,  -163\n",
      "(14,  5)     -82,  -187\n",
      "(14,  6)     -34,  -222\n",
      "(14,  7)     -21,  -344\n"
     ]
    }
   ],
   "source": [
    "regions = find_spots(experiment)"
   ]
  },
  {
   "cell_type": "code",
   "execution_count": 26,
   "metadata": {
    "collapsed": false
   },
   "outputs": [],
   "source": [
    "labels, regions = regions"
   ]
  },
  {
   "cell_type": "code",
   "execution_count": 27,
   "metadata": {
    "collapsed": true
   },
   "outputs": [],
   "source": [
    "%matplotlib inline\n",
    "from skimage import io"
   ]
  },
  {
   "cell_type": "code",
   "execution_count": 30,
   "metadata": {
    "collapsed": false
   },
   "outputs": [
    {
     "data": {
      "image/png": "[encoded data removed]",
      "text/plain": [
       "<matplotlib.figure.Figure at 0x129f54a8>"
      ]
     },
     "metadata": {},
     "output_type": "display_data"
    }
   ],
   "source": [
    "labels[labels == -1] = -120\n",
    "io.imshow(labels);"
   ]
  },
  {
   "cell_type": "code",
   "execution_count": 31,
   "metadata": {
    "collapsed": false
   },
   "outputs": [
    {
     "ename": "TypeError",
     "evalue": "133 is not JSON serializable",
     "output_type": "error",
     "traceback": [
      "\u001b[1;31m---------------------------------------------------------------------------\u001b[0m",
      "\u001b[1;31mTypeError\u001b[0m                                 Traceback (most recent call last)",
      "\u001b[1;32m<ipython-input-31-8e9f8821c17e>\u001b[0m in \u001b[0;36m<module>\u001b[1;34m()\u001b[0m\n\u001b[1;32m----> 1\u001b[1;33m \u001b[0msave_regions\u001b[0m\u001b[1;33m(\u001b[0m\u001b[0mregions\u001b[0m\u001b[1;33m,\u001b[0m \u001b[0mexp_path\u001b[0m \u001b[1;33m+\u001b[0m \u001b[0mwhole\u001b[0m \u001b[1;33m+\u001b[0m \u001b[1;34mr'\\regions.json'\u001b[0m\u001b[1;33m)\u001b[0m\u001b[1;33m\u001b[0m\u001b[0m\n\u001b[0m",
      "\u001b[1;32mc:\\users\\tcs-user\\downloads\\leicaautomator\\leicaautomator\\utils.py\u001b[0m in \u001b[0;36msave_regions\u001b[1;34m(regions, filename)\u001b[0m\n\u001b[0;32m     24\u001b[0m \u001b[1;32mdef\u001b[0m \u001b[0msave_regions\u001b[0m\u001b[1;33m(\u001b[0m\u001b[0mregions\u001b[0m\u001b[1;33m,\u001b[0m \u001b[0mfilename\u001b[0m\u001b[1;33m)\u001b[0m\u001b[1;33m:\u001b[0m\u001b[1;33m\u001b[0m\u001b[0m\n\u001b[0;32m     25\u001b[0m     \u001b[1;32mwith\u001b[0m \u001b[0mopen\u001b[0m\u001b[1;33m(\u001b[0m\u001b[0mfilename\u001b[0m\u001b[1;33m,\u001b[0m \u001b[1;34m'w'\u001b[0m\u001b[1;33m)\u001b[0m \u001b[1;32mas\u001b[0m \u001b[0mf\u001b[0m\u001b[1;33m:\u001b[0m\u001b[1;33m\u001b[0m\u001b[0m\n\u001b[1;32m---> 26\u001b[1;33m         \u001b[0mjson\u001b[0m\u001b[1;33m.\u001b[0m\u001b[0mdump\u001b[0m\u001b[1;33m(\u001b[0m\u001b[1;33m[\u001b[0m\u001b[0m_get\u001b[0m\u001b[1;33m(\u001b[0m\u001b[0mr\u001b[0m\u001b[1;33m)\u001b[0m \u001b[1;32mfor\u001b[0m \u001b[0mr\u001b[0m \u001b[1;32min\u001b[0m \u001b[0mregions\u001b[0m\u001b[1;33m]\u001b[0m\u001b[1;33m,\u001b[0m \u001b[0mf\u001b[0m\u001b[1;33m)\u001b[0m\u001b[1;33m\u001b[0m\u001b[0m\n\u001b[0m\u001b[0;32m     27\u001b[0m \u001b[1;33m\u001b[0m\u001b[0m\n\u001b[0;32m     28\u001b[0m \u001b[1;32mdef\u001b[0m \u001b[0mflatten\u001b[0m\u001b[1;33m(\u001b[0m\u001b[0miterable\u001b[0m\u001b[1;33m)\u001b[0m\u001b[1;33m:\u001b[0m\u001b[1;33m\u001b[0m\u001b[0m\n",
      "\u001b[1;32mC:\\Miniconda3\\lib\\json\\__init__.py\u001b[0m in \u001b[0;36mdump\u001b[1;34m(obj, fp, skipkeys, ensure_ascii, check_circular, allow_nan, cls, indent, separators, default, sort_keys, **kw)\u001b[0m\n\u001b[0;32m    176\u001b[0m     \u001b[1;31m# could accelerate with writelines in some versions of Python, at\u001b[0m\u001b[1;33m\u001b[0m\u001b[1;33m\u001b[0m\u001b[0m\n\u001b[0;32m    177\u001b[0m     \u001b[1;31m# a debuggability cost\u001b[0m\u001b[1;33m\u001b[0m\u001b[1;33m\u001b[0m\u001b[0m\n\u001b[1;32m--> 178\u001b[1;33m     \u001b[1;32mfor\u001b[0m \u001b[0mchunk\u001b[0m \u001b[1;32min\u001b[0m \u001b[0miterable\u001b[0m\u001b[1;33m:\u001b[0m\u001b[1;33m\u001b[0m\u001b[0m\n\u001b[0m\u001b[0;32m    179\u001b[0m         \u001b[0mfp\u001b[0m\u001b[1;33m.\u001b[0m\u001b[0mwrite\u001b[0m\u001b[1;33m(\u001b[0m\u001b[0mchunk\u001b[0m\u001b[1;33m)\u001b[0m\u001b[1;33m\u001b[0m\u001b[0m\n\u001b[0;32m    180\u001b[0m \u001b[1;33m\u001b[0m\u001b[0m\n",
      "\u001b[1;32mC:\\Miniconda3\\lib\\json\\encoder.py\u001b[0m in \u001b[0;36m_iterencode\u001b[1;34m(o, _current_indent_level)\u001b[0m\n\u001b[0;32m    418\u001b[0m             \u001b[1;32myield\u001b[0m \u001b[0m_floatstr\u001b[0m\u001b[1;33m(\u001b[0m\u001b[0mfloat\u001b[0m\u001b[1;33m(\u001b[0m\u001b[0mo\u001b[0m\u001b[1;33m)\u001b[0m\u001b[1;33m)\u001b[0m\u001b[1;33m\u001b[0m\u001b[0m\n\u001b[0;32m    419\u001b[0m         \u001b[1;32melif\u001b[0m \u001b[0misinstance\u001b[0m\u001b[1;33m(\u001b[0m\u001b[0mo\u001b[0m\u001b[1;33m,\u001b[0m \u001b[1;33m(\u001b[0m\u001b[0mlist\u001b[0m\u001b[1;33m,\u001b[0m \u001b[0mtuple\u001b[0m\u001b[1;33m)\u001b[0m\u001b[1;33m)\u001b[0m\u001b[1;33m:\u001b[0m\u001b[1;33m\u001b[0m\u001b[0m\n\u001b[1;32m--> 420\u001b[1;33m             \u001b[1;32myield\u001b[0m \u001b[1;32mfrom\u001b[0m \u001b[0m_iterencode_list\u001b[0m\u001b[1;33m(\u001b[0m\u001b[0mo\u001b[0m\u001b[1;33m,\u001b[0m \u001b[0m_current_indent_level\u001b[0m\u001b[1;33m)\u001b[0m\u001b[1;33m\u001b[0m\u001b[0m\n\u001b[0m\u001b[0;32m    421\u001b[0m         \u001b[1;32melif\u001b[0m \u001b[0misinstance\u001b[0m\u001b[1;33m(\u001b[0m\u001b[0mo\u001b[0m\u001b[1;33m,\u001b[0m \u001b[0mdict\u001b[0m\u001b[1;33m)\u001b[0m\u001b[1;33m:\u001b[0m\u001b[1;33m\u001b[0m\u001b[0m\n\u001b[0;32m    422\u001b[0m             \u001b[1;32myield\u001b[0m \u001b[1;32mfrom\u001b[0m \u001b[0m_iterencode_dict\u001b[0m\u001b[1;33m(\u001b[0m\u001b[0mo\u001b[0m\u001b[1;33m,\u001b[0m \u001b[0m_current_indent_level\u001b[0m\u001b[1;33m)\u001b[0m\u001b[1;33m\u001b[0m\u001b[0m\n",
      "\u001b[1;32mC:\\Miniconda3\\lib\\json\\encoder.py\u001b[0m in \u001b[0;36m_iterencode_list\u001b[1;34m(lst, _current_indent_level)\u001b[0m\n\u001b[0;32m    315\u001b[0m                 \u001b[1;32melse\u001b[0m\u001b[1;33m:\u001b[0m\u001b[1;33m\u001b[0m\u001b[0m\n\u001b[0;32m    316\u001b[0m                     \u001b[0mchunks\u001b[0m \u001b[1;33m=\u001b[0m \u001b[0m_iterencode\u001b[0m\u001b[1;33m(\u001b[0m\u001b[0mvalue\u001b[0m\u001b[1;33m,\u001b[0m \u001b[0m_current_indent_level\u001b[0m\u001b[1;33m)\u001b[0m\u001b[1;33m\u001b[0m\u001b[0m\n\u001b[1;32m--> 317\u001b[1;33m                 \u001b[1;32myield\u001b[0m \u001b[1;32mfrom\u001b[0m \u001b[0mchunks\u001b[0m\u001b[1;33m\u001b[0m\u001b[0m\n\u001b[0m\u001b[0;32m    318\u001b[0m         \u001b[1;32mif\u001b[0m \u001b[0mnewline_indent\u001b[0m \u001b[1;32mis\u001b[0m \u001b[1;32mnot\u001b[0m \u001b[1;32mNone\u001b[0m\u001b[1;33m:\u001b[0m\u001b[1;33m\u001b[0m\u001b[0m\n\u001b[0;32m    319\u001b[0m             \u001b[0m_current_indent_level\u001b[0m \u001b[1;33m-=\u001b[0m \u001b[1;36m1\u001b[0m\u001b[1;33m\u001b[0m\u001b[0m\n",
      "\u001b[1;32mC:\\Miniconda3\\lib\\json\\encoder.py\u001b[0m in \u001b[0;36m_iterencode_dict\u001b[1;34m(dct, _current_indent_level)\u001b[0m\n\u001b[0;32m    394\u001b[0m                 \u001b[1;32melse\u001b[0m\u001b[1;33m:\u001b[0m\u001b[1;33m\u001b[0m\u001b[0m\n\u001b[0;32m    395\u001b[0m                     \u001b[0mchunks\u001b[0m \u001b[1;33m=\u001b[0m \u001b[0m_iterencode\u001b[0m\u001b[1;33m(\u001b[0m\u001b[0mvalue\u001b[0m\u001b[1;33m,\u001b[0m \u001b[0m_current_indent_level\u001b[0m\u001b[1;33m)\u001b[0m\u001b[1;33m\u001b[0m\u001b[0m\n\u001b[1;32m--> 396\u001b[1;33m                 \u001b[1;32myield\u001b[0m \u001b[1;32mfrom\u001b[0m \u001b[0mchunks\u001b[0m\u001b[1;33m\u001b[0m\u001b[0m\n\u001b[0m\u001b[0;32m    397\u001b[0m         \u001b[1;32mif\u001b[0m \u001b[0mnewline_indent\u001b[0m \u001b[1;32mis\u001b[0m \u001b[1;32mnot\u001b[0m \u001b[1;32mNone\u001b[0m\u001b[1;33m:\u001b[0m\u001b[1;33m\u001b[0m\u001b[0m\n\u001b[0;32m    398\u001b[0m             \u001b[0m_current_indent_level\u001b[0m \u001b[1;33m-=\u001b[0m \u001b[1;36m1\u001b[0m\u001b[1;33m\u001b[0m\u001b[0m\n",
      "\u001b[1;32mC:\\Miniconda3\\lib\\json\\encoder.py\u001b[0m in \u001b[0;36m_iterencode\u001b[1;34m(o, _current_indent_level)\u001b[0m\n\u001b[0;32m    427\u001b[0m                     \u001b[1;32mraise\u001b[0m \u001b[0mValueError\u001b[0m\u001b[1;33m(\u001b[0m\u001b[1;34m\"Circular reference detected\"\u001b[0m\u001b[1;33m)\u001b[0m\u001b[1;33m\u001b[0m\u001b[0m\n\u001b[0;32m    428\u001b[0m                 \u001b[0mmarkers\u001b[0m\u001b[1;33m[\u001b[0m\u001b[0mmarkerid\u001b[0m\u001b[1;33m]\u001b[0m \u001b[1;33m=\u001b[0m \u001b[0mo\u001b[0m\u001b[1;33m\u001b[0m\u001b[0m\n\u001b[1;32m--> 429\u001b[1;33m             \u001b[0mo\u001b[0m \u001b[1;33m=\u001b[0m \u001b[0m_default\u001b[0m\u001b[1;33m(\u001b[0m\u001b[0mo\u001b[0m\u001b[1;33m)\u001b[0m\u001b[1;33m\u001b[0m\u001b[0m\n\u001b[0m\u001b[0;32m    430\u001b[0m             \u001b[1;32myield\u001b[0m \u001b[1;32mfrom\u001b[0m \u001b[0m_iterencode\u001b[0m\u001b[1;33m(\u001b[0m\u001b[0mo\u001b[0m\u001b[1;33m,\u001b[0m \u001b[0m_current_indent_level\u001b[0m\u001b[1;33m)\u001b[0m\u001b[1;33m\u001b[0m\u001b[0m\n\u001b[0;32m    431\u001b[0m             \u001b[1;32mif\u001b[0m \u001b[0mmarkers\u001b[0m \u001b[1;32mis\u001b[0m \u001b[1;32mnot\u001b[0m \u001b[1;32mNone\u001b[0m\u001b[1;33m:\u001b[0m\u001b[1;33m\u001b[0m\u001b[0m\n",
      "\u001b[1;32mC:\\Miniconda3\\lib\\json\\encoder.py\u001b[0m in \u001b[0;36mdefault\u001b[1;34m(self, o)\u001b[0m\n\u001b[0;32m    171\u001b[0m \u001b[1;33m\u001b[0m\u001b[0m\n\u001b[0;32m    172\u001b[0m         \"\"\"\n\u001b[1;32m--> 173\u001b[1;33m         \u001b[1;32mraise\u001b[0m \u001b[0mTypeError\u001b[0m\u001b[1;33m(\u001b[0m\u001b[0mrepr\u001b[0m\u001b[1;33m(\u001b[0m\u001b[0mo\u001b[0m\u001b[1;33m)\u001b[0m \u001b[1;33m+\u001b[0m \u001b[1;34m\" is not JSON serializable\"\u001b[0m\u001b[1;33m)\u001b[0m\u001b[1;33m\u001b[0m\u001b[0m\n\u001b[0m\u001b[0;32m    174\u001b[0m \u001b[1;33m\u001b[0m\u001b[0m\n\u001b[0;32m    175\u001b[0m     \u001b[1;32mdef\u001b[0m \u001b[0mencode\u001b[0m\u001b[1;33m(\u001b[0m\u001b[0mself\u001b[0m\u001b[1;33m,\u001b[0m \u001b[0mo\u001b[0m\u001b[1;33m)\u001b[0m\u001b[1;33m:\u001b[0m\u001b[1;33m\u001b[0m\u001b[0m\n",
      "\u001b[1;31mTypeError\u001b[0m: 133 is not JSON serializable"
     ]
    }
   ],
   "source": [
    "save_regions(regions, exp_path + whole + r'\\regions.json')"
   ]
  },
  {
   "cell_type": "code",
   "execution_count": 33,
   "metadata": {
    "collapsed": false
   },
   "outputs": [],
   "source": [
    "import pickle"
   ]
  },
  {
   "cell_type": "code",
   "execution_count": 39,
   "metadata": {
    "collapsed": false
   },
   "outputs": [],
   "source": [
    "with open('regions.pickle', 'wb') as f:\n",
    "    pickle.dump(regions, f)"
   ]
  },
  {
   "cell_type": "code",
   "execution_count": 40,
   "metadata": {
    "collapsed": false
   },
   "outputs": [],
   "source": [
    "tmpl_path = r\"C:\\Users\\TCS-User\\AppData\\Roaming\\Leica Microsystems\\LAS X\\MatrixScreener\\ScanningTemplates\\ \".strip()"
   ]
  },
  {
   "cell_type": "code",
   "execution_count": 49,
   "metadata": {
    "collapsed": true
   },
   "outputs": [],
   "source": [
    "i=3\n",
    "region = regions[i]"
   ]
  },
  {
   "cell_type": "code",
   "execution_count": 58,
   "metadata": {
    "collapsed": false
   },
   "outputs": [
    {
     "data": {
      "text/plain": [
       "(1, 0, 61737.0, 30998.0, (198, 1086, 755, 1627))"
      ]
     },
     "execution_count": 58,
     "metadata": {},
     "output_type": "execute_result"
    }
   ],
   "source": [
    "region.well_x, region.well_y, region.real_x *1e6//1, region.real_y *1e6 //1, region.bbox"
   ]
  },
  {
   "cell_type": "code",
   "execution_count": 59,
   "metadata": {
    "collapsed": true
   },
   "outputs": [],
   "source": [
    "metadata = experiment.field_metadata()\n",
    "px_size = float(metadata.Image.Pixels.attrib['PhysicalSizeX'])*1e-6"
   ]
  },
  {
   "cell_type": "code",
   "execution_count": 61,
   "metadata": {
    "collapsed": false
   },
   "outputs": [],
   "source": [
    "y,x,yy,xx = region.bbox"
   ]
  },
  {
   "cell_type": "code",
   "execution_count": 67,
   "metadata": {
    "collapsed": false
   },
   "outputs": [],
   "source": [
    "y_size, x_size = px_size*(yy-y)*1e6, px_size*(xx-x)*1e6"
   ]
  },
  {
   "cell_type": "code",
   "execution_count": 51,
   "metadata": {
    "collapsed": false
   },
   "outputs": [],
   "source": [
    "tmpl_name = '{ScanningTemplate}leicaautomator'\n",
    "tmpl = ScanningTemplate(tmpl_path + tmpl_name + str(i%2) + '.xml')"
   ]
  },
  {
   "cell_type": "code",
   "execution_count": 73,
   "metadata": {
    "collapsed": false
   },
   "outputs": [
    {
     "data": {
      "text/plain": [
       "(6, 6)"
      ]
     },
     "execution_count": 73,
     "metadata": {},
     "output_type": "execute_result"
    }
   ],
   "source": [
    "from math import ceil\n",
    "y_fields = ceil(y_size / tmpl.properties.ScanFieldStageDistanceX)\n",
    "x_fields = ceil(x_size / tmpl.properties.ScanFieldStageDistanceX)\n",
    "y_fields, x_fields"
   ]
  },
  {
   "cell_type": "code",
   "execution_count": 74,
   "metadata": {
    "collapsed": true
   },
   "outputs": [],
   "source": [
    "# disable all\n",
    "for f in tmpl.fields:\n",
    "    f.attrib['Enabled'] = 'false'"
   ]
  },
  {
   "cell_type": "code",
   "execution_count": 78,
   "metadata": {
    "collapsed": false
   },
   "outputs": [],
   "source": [
    "# enable fields\n",
    "for y in range(y_fields):\n",
    "    for x in range(x_fields):\n",
    "        # off by one\n",
    "        tmpl.field(field_y=y+1, field_x=x+1).attrib['Enabled'] = 'true'"
   ]
  },
  {
   "cell_type": "code",
   "execution_count": 79,
   "metadata": {
    "collapsed": true
   },
   "outputs": [],
   "source": [
    "tmpl.move_well(1,1,region.real_x, region.real_y)"
   ]
  },
  {
   "cell_type": "code",
   "execution_count": 80,
   "metadata": {
    "collapsed": false
   },
   "outputs": [],
   "source": [
    "tmpl.write()"
   ]
  },
  {
   "cell_type": "markdown",
   "metadata": {},
   "source": [
    "- ** enable MP shutter **"
   ]
  },
  {
   "cell_type": "markdown",
   "metadata": {},
   "source": [
    "- ** X Position on USB Control Panel -- 0-max -- CRASH! **"
   ]
  },
  {
   "cell_type": "code",
   "execution_count": 94,
   "metadata": {
    "collapsed": false
   },
   "outputs": [],
   "source": [
    "x = cam.get_information()['xpos']"
   ]
  },
  {
   "cell_type": "code",
   "execution_count": 95,
   "metadata": {
    "collapsed": true
   },
   "outputs": [],
   "source": [
    "y = cam.get_information()['ypos']"
   ]
  },
  {
   "cell_type": "code",
   "execution_count": 96,
   "metadata": {
    "collapsed": false
   },
   "outputs": [
    {
     "data": {
      "text/plain": [
       "('0.0605274934', '0.031327772')"
      ]
     },
     "execution_count": 96,
     "metadata": {},
     "output_type": "execute_result"
    }
   ],
   "source": [
    "x, y"
   ]
  },
  {
   "cell_type": "markdown",
   "metadata": {},
   "source": [
    "well has moved :-(\n",
    "\n",
    "** try restart **"
   ]
  },
  {
   "cell_type": "code",
   "execution_count": null,
   "metadata": {
    "collapsed": true
   },
   "outputs": [],
   "source": []
  }
 ],
 "metadata": {
  "kernelspec": {
   "display_name": "Python 3",
   "language": "python",
   "name": "python3"
  },
  "language_info": {
   "codemirror_mode": {
    "name": "ipython",
    "version": 3
   },
   "file_extension": ".py",
   "mimetype": "text/x-python",
   "name": "python",
   "nbconvert_exporter": "python",
   "pygments_lexer": "ipython3",
   "version": "3.4.1"
  }
 },
 "nbformat": 4,
 "nbformat_minor": 0
}
