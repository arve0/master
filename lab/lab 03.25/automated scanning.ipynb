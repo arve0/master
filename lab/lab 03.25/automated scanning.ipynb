{
 "cells": [
  {
   "cell_type": "markdown",
   "metadata": {},
   "source": [
    "# calc plane"
   ]
  },
  {
   "cell_type": "code",
   "execution_count": 1,
   "metadata": {
    "collapsed": true
   },
   "outputs": [],
   "source": [
    "import numpy as np\n",
    "from leicacam import CAM"
   ]
  },
  {
   "cell_type": "code",
   "execution_count": 2,
   "metadata": {
    "collapsed": true
   },
   "outputs": [],
   "source": [
    "cam = CAM()"
   ]
  },
  {
   "cell_type": "code",
   "execution_count": 145,
   "metadata": {
    "collapsed": false
   },
   "outputs": [],
   "source": [
    "def get_position():\n",
    "    info = cam.get_information()\n",
    "    return np.array((float(info['xpos'])*1e6, float(info['ypos'])*1e6, float(info['zpos'])*1e6))"
   ]
  },
  {
   "cell_type": "code",
   "execution_count": 146,
   "metadata": {
    "collapsed": false
   },
   "outputs": [
    {
     "data": {
      "text/plain": [
       "array([ 56218.5064,  30859.2713,      0.    ])"
      ]
     },
     "execution_count": 146,
     "metadata": {},
     "output_type": "execute_result"
    }
   ],
   "source": [
    "get_position()"
   ]
  },
  {
   "cell_type": "code",
   "execution_count": 28,
   "metadata": {
    "collapsed": true
   },
   "outputs": [],
   "source": [
    "p1 = get_position()"
   ]
  },
  {
   "cell_type": "code",
   "execution_count": 29,
   "metadata": {
    "collapsed": true
   },
   "outputs": [],
   "source": [
    "p2 = get_position()"
   ]
  },
  {
   "cell_type": "code",
   "execution_count": 30,
   "metadata": {
    "collapsed": true
   },
   "outputs": [],
   "source": [
    "p3 = get_position()"
   ]
  },
  {
   "cell_type": "code",
   "execution_count": 31,
   "metadata": {
    "collapsed": true
   },
   "outputs": [],
   "source": [
    "p4 = get_position()"
   ]
  },
  {
   "cell_type": "code",
   "execution_count": 32,
   "metadata": {
    "collapsed": true
   },
   "outputs": [],
   "source": [
    "p5 = get_position()"
   ]
  },
  {
   "cell_type": "code",
   "execution_count": 33,
   "metadata": {
    "collapsed": true
   },
   "outputs": [],
   "source": [
    "pL = get_position()"
   ]
  },
  {
   "cell_type": "markdown",
   "metadata": {},
   "source": [
    "```\n",
    "1            5\n",
    "2            4\n",
    "3            L\n",
    "```"
   ]
  },
  {
   "cell_type": "code",
   "execution_count": 34,
   "metadata": {
    "collapsed": false
   },
   "outputs": [
    {
     "data": {
      "text/plain": [
       "(array([  2.26605548e+04,   1.86166900e+02,  -1.78904000e+01]),\n",
       " array([  2.10973231e+04,   2.72543800e+02,  -4.19520000e+00]),\n",
       " array([  2.12689979e+04,   1.29457900e+02,   3.42760000e+00]))"
      ]
     },
     "execution_count": 34,
     "metadata": {},
     "output_type": "execute_result"
    }
   ],
   "source": [
    "v15 = p5-p1\n",
    "v24 = p4-p2\n",
    "v3L = pL-p3\n",
    "v15, v24, v3L"
   ]
  },
  {
   "cell_type": "code",
   "execution_count": 35,
   "metadata": {
    "collapsed": false
   },
   "outputs": [
    {
     "data": {
      "text/plain": [
       "(array([  1613.9494,  13199.9786,    268.8234]),\n",
       " array([   222.3925,  13143.2696,    290.1414]))"
      ]
     },
     "execution_count": 35,
     "metadata": {},
     "output_type": "execute_result"
    }
   ],
   "source": [
    "v13 = p3-p1\n",
    "v5L = pL-p5\n",
    "v13, v5L"
   ]
  },
  {
   "cell_type": "code",
   "execution_count": 37,
   "metadata": {
    "collapsed": false
   },
   "outputs": [
    {
     "data": {
      "text/plain": [
       "1395.0"
      ]
     },
     "execution_count": 37,
     "metadata": {},
     "output_type": "execute_result"
    }
   ],
   "source": [
    "imgsize = 1550 # microns\n",
    "fielddist = imgsize * 0.90 # overlap\n",
    "fielddist"
   ]
  },
  {
   "cell_type": "code",
   "execution_count": 38,
   "metadata": {
    "collapsed": false
   },
   "outputs": [
    {
     "data": {
      "text/latex": [
       "$$6\\mu m$$"
      ],
      "text/plain": [
       "<IPython.core.display.Math object>"
      ]
     },
     "execution_count": 38,
     "metadata": {},
     "output_type": "execute_result"
    }
   ],
   "source": [
    "from IPython import display\n",
    "resolution = 256\n",
    "precision = (imgsize) // resolution # integer devision, in microns\n",
    "display.Math(str(precision) + '\\mu m') "
   ]
  },
  {
   "cell_type": "code",
   "execution_count": 40,
   "metadata": {
    "collapsed": false
   },
   "outputs": [],
   "source": [
    "xmin = p1[0] # microns\n",
    "ymin = p1[1]\n",
    "xmax = pL[0]\n",
    "ymax = pL[1]"
   ]
  },
  {
   "cell_type": "code",
   "execution_count": 41,
   "metadata": {
    "collapsed": false
   },
   "outputs": [
    {
     "data": {
      "text/plain": [
       "(22882.9473, 13329.436499999996)"
      ]
     },
     "execution_count": 41,
     "metadata": {},
     "output_type": "execute_result"
    }
   ],
   "source": [
    "dx = xmax-xmin\n",
    "dy = ymax-ymin\n",
    "dx, dy"
   ]
  },
  {
   "cell_type": "code",
   "execution_count": 42,
   "metadata": {
    "collapsed": false
   },
   "outputs": [
    {
     "data": {
      "text/plain": [
       "(22884.497299999999, 13330.986499999995)"
      ]
     },
     "execution_count": 42,
     "metadata": {},
     "output_type": "execute_result"
    }
   ],
   "source": [
    "xsize = dx + imgsize/1000\n",
    "ysize = dy + imgsize/1000\n",
    "xsize, ysize"
   ]
  },
  {
   "cell_type": "code",
   "execution_count": 44,
   "metadata": {
    "collapsed": false
   },
   "outputs": [
    {
     "data": {
      "text/plain": [
       "(16.0, 10.0)"
      ]
     },
     "execution_count": 44,
     "metadata": {},
     "output_type": "execute_result"
    }
   ],
   "source": [
    "xfields = round(xsize / fielddist)\n",
    "yfields = round(ysize / fielddist)\n",
    "xfields, yfields"
   ]
  },
  {
   "cell_type": "code",
   "execution_count": 45,
   "metadata": {
    "collapsed": true
   },
   "outputs": [],
   "source": [
    "cam.socket.close()"
   ]
  },
  {
   "cell_type": "markdown",
   "metadata": {},
   "source": [
    "# automated scan"
   ]
  },
  {
   "cell_type": "code",
   "execution_count": 46,
   "metadata": {
    "collapsed": true
   },
   "outputs": [],
   "source": [
    "from leicaautomator.automator import find_spots\n",
    "from leicaautomator.utils import save_regions, flatten\n",
    "from leicaexperiment import Experiment\n",
    "from leicascanningtemplate import ScanningTemplate\n",
    "from leicacam import CAM"
   ]
  },
  {
   "cell_type": "code",
   "execution_count": 280,
   "metadata": {
    "collapsed": true
   },
   "outputs": [],
   "source": [
    "def waitfor(cam, key, value=None):\n",
    "    from time import sleep\n",
    "    while True:\n",
    "        msgs = cam.receive()\n",
    "        for msg in msgs:\n",
    "            if value and msg.get(key) == value:\n",
    "                return msg\n",
    "            elif not value and msg.get(key):\n",
    "                return msg\n",
    "        sleep(10e-3)"
   ]
  },
  {
   "cell_type": "markdown",
   "metadata": {},
   "source": [
    "## rotate images"
   ]
  },
  {
   "cell_type": "code",
   "execution_count": 52,
   "metadata": {
    "collapsed": false
   },
   "outputs": [
    {
     "name": "stdout",
     "output_type": "stream",
     "text": [
      " Volume in drive D is DATADRIVE1\n",
      " Volume Serial Number is F805-2E08\n",
      "\n",
      " Directory of D:\\MatrixScreenerImages\\3.3.0_9757\\experiment--2015_03_25_08_17_03\n",
      "\n",
      "03/25/2015  09:17 AM    <DIR>          .\n",
      "03/25/2015  09:17 AM    <DIR>          ..\n",
      "03/25/2015  09:17 AM    <DIR>          AdditionalData\n",
      "03/25/2015  09:17 AM    <DIR>          slide--S00\n",
      "               0 File(s)              0 bytes\n",
      "               4 Dir(s)  1,686,751,453,184 bytes free\n"
     ]
    }
   ],
   "source": [
    "whole = 'experiment--2015_03_25_08_17_03'\n",
    "exp_path = r\"D:\\MatrixScreenerImages\\3.3.0_9757\\ \".strip()\n",
    "experiment = Experiment(exp_path + whole)\n",
    "!dir $experiment.path"
   ]
  },
  {
   "cell_type": "code",
   "execution_count": 53,
   "metadata": {
    "collapsed": true
   },
   "outputs": [],
   "source": [
    "compressed = experiment.compress(delete_tif=True)\n",
    "assert len(compressed) == len(experiment.images)"
   ]
  },
  {
   "cell_type": "code",
   "execution_count": 54,
   "metadata": {
    "collapsed": true
   },
   "outputs": [],
   "source": [
    "from PIL import Image\n",
    "for img in experiment.images:\n",
    "    i = Image.open(img)\n",
    "    i = i.rotate(270)\n",
    "    i.save(img)"
   ]
  },
  {
   "cell_type": "code",
   "execution_count": 55,
   "metadata": {
    "collapsed": false
   },
   "outputs": [
    {
     "data": {
      "text/plain": [
       "['D:\\\\MatrixScreenerImages\\\\3.3.0_9757\\\\experiment--2015_03_25_08_17_03\\\\stitched--U00--V00--C00--Z00.png']"
      ]
     },
     "execution_count": 55,
     "metadata": {},
     "output_type": "execute_result"
    }
   ],
   "source": [
    "experiment.stitch()"
   ]
  },
  {
   "cell_type": "markdown",
   "metadata": {},
   "source": [
    "## find regions"
   ]
  },
  {
   "cell_type": "code",
   "execution_count": 56,
   "metadata": {
    "collapsed": false
   },
   "outputs": [
    {
     "ename": "TypeError",
     "evalue": "filter_image() takes 1 positional argument but 3 were given",
     "output_type": "error",
     "traceback": [
      "\u001b[1;31m---------------------------------------------------------------------------\u001b[0m",
      "\u001b[1;31mTypeError\u001b[0m                                 Traceback (most recent call last)",
      "\u001b[1;32mC:\\Miniconda3\\lib\\site-packages\\skimage\\viewer\\widgets\\core.py\u001b[0m in \u001b[0;36m_on_editbox_changed\u001b[1;34m(self)\u001b[0m\n\u001b[0;32m    183\u001b[0m         \u001b[0mself\u001b[0m\u001b[1;33m.\u001b[0m\u001b[0mval\u001b[0m \u001b[1;33m=\u001b[0m \u001b[0mvalue\u001b[0m\u001b[1;33m\u001b[0m\u001b[0m\n\u001b[0;32m    184\u001b[0m         \u001b[0mself\u001b[0m\u001b[1;33m.\u001b[0m\u001b[0m_good_editbox_input\u001b[0m\u001b[1;33m(\u001b[0m\u001b[1;33m)\u001b[0m\u001b[1;33m\u001b[0m\u001b[0m\n\u001b[1;32m--> 185\u001b[1;33m         \u001b[0mself\u001b[0m\u001b[1;33m.\u001b[0m\u001b[0mcallback\u001b[0m\u001b[1;33m(\u001b[0m\u001b[0mself\u001b[0m\u001b[1;33m.\u001b[0m\u001b[0mname\u001b[0m\u001b[1;33m,\u001b[0m \u001b[0mvalue\u001b[0m\u001b[1;33m)\u001b[0m\u001b[1;33m\u001b[0m\u001b[0m\n\u001b[0m\u001b[0;32m    186\u001b[0m \u001b[1;33m\u001b[0m\u001b[0m\n\u001b[0;32m    187\u001b[0m     \u001b[1;32mdef\u001b[0m \u001b[0m_good_editbox_input\u001b[0m\u001b[1;33m(\u001b[0m\u001b[0mself\u001b[0m\u001b[1;33m)\u001b[0m\u001b[1;33m:\u001b[0m\u001b[1;33m\u001b[0m\u001b[0m\n",
      "\u001b[1;31mTypeError\u001b[0m: filter_image() takes 1 positional argument but 3 were given"
     ]
    }
   ],
   "source": [
    "regions = find_spots(experiment)"
   ]
  },
  {
   "cell_type": "code",
   "execution_count": 58,
   "metadata": {
    "collapsed": false
   },
   "outputs": [],
   "source": [
    "labels, image, regions = regions"
   ]
  },
  {
   "cell_type": "code",
   "execution_count": 63,
   "metadata": {
    "collapsed": true
   },
   "outputs": [],
   "source": [
    "save_regions(regions, 'regions.json')"
   ]
  },
  {
   "cell_type": "code",
   "execution_count": 61,
   "metadata": {
    "collapsed": false
   },
   "outputs": [
    {
     "name": "stdout",
     "output_type": "stream",
     "text": [
      "2 0 0.05837773346275717 0.030771066715570936\n",
      "4 0 0.061477733462757166 0.030813532468995593\n",
      "5 0 0.06308233228858887 0.0308286988095044\n",
      "6 0 0.06479916203418573 0.03083173207760616\n",
      "3 0 0.05993379999896069 0.03083476534570792\n",
      "7 0 0.06640982739622096 0.030843865150013205\n",
      "9 0 0.06970395655473367 0.030910597048251953\n",
      "1 0 0.05678830097743427 0.030934863193066042\n",
      "0 0 0.05501383913790394 0.030965195874083654\n",
      "11 0 0.0729586532279235 0.031004628359406552\n",
      "10 0 0.07126002309093721 0.031016761431813596\n",
      "8 0 0.06806295851168084 0.030874197831030816\n",
      "12 0 0.07458145166236577 0.03112292581537524\n",
      "13 0 0.0761678508795869 0.03127155595236154\n",
      "14 0 0.07751462191676889 0.031323121510091485\n",
      "4 1 0.061468633658451885 0.03245453051204843\n",
      "6 1 0.06468996438252234 0.03250609606977837\n",
      "3 1 0.05988223444123075 0.03250912933788013\n",
      "1 1 0.05667910332577087 0.032521262410287174\n",
      "2 1 0.058289768687806096 0.03252429567838894\n",
      "7 1 0.06640982739622096 0.03252429567838894\n",
      "8 1 0.06805689197547732 0.0325273289464907\n",
      "5 1 0.06299740078173956 0.032542495286999505\n",
      "11 1 0.07292225401070236 0.032572827968017116\n",
      "9 1 0.06966149080130903 0.03258496104042416\n",
      "0 1 0.054941040703461674 0.03258799430852592\n",
      "12 1 0.07458448493046753 0.032857955169582675\n",
      "13 1 0.07608595264083935 0.032879188046295006\n",
      "11 2 0.0728100230909372 0.03408036221459246\n",
      "3 2 0.059794269666279674 0.0341319277723224\n",
      "4 2 0.06143223444123075 0.034147094112831206\n",
      "5 2 0.06297616790502722 0.034147094112831206\n",
      "8 2 0.06792949471520335 0.03418349333005234\n",
      "1 2 0.05663967084044797 0.03418955986625587\n",
      "6 2 0.06468086457821705 0.03418955986625587\n",
      "2 2 0.058277635615399045 0.03422292581537524\n",
      "8 2 0.0772173616427963 0.03269719196018933\n",
      "0 2 0.05496834011637752 0.034238092155884046\n",
      "9 2 0.06955229314964562 0.034265391568799895\n",
      "7 2 0.06639466105571215 0.03429572424981751\n",
      "10 2 0.07109319334534034 0.03433819000324217\n",
      "12 2 0.0745238195684323 0.03442008824198972\n",
      "13 2 0.07621031663301156 0.034480753604024944\n",
      "3 3 0.05978213659387263 0.03578809215588404\n",
      "12 3 0.07419925988154386 0.03579415869208757\n",
      "2 3 0.058177537768040924 0.03580932503259637\n",
      "7 3 0.06630366301265932 0.035818424836901654\n",
      "4 3 0.06134730293438143 0.03582449137310518\n",
      "5 3 0.06302773346275717 0.03585482405412279\n",
      "9 3 0.06948859451950863 0.03585785732222455\n",
      "6 3 0.0645201013688237 0.03586392385842807\n",
      "8 3 0.06793252798330511 0.03588212346703864\n",
      "1 3 0.05655777260170042 0.0358851567351404\n",
      "13 3 0.07600405440209179 0.035957955169582674\n",
      "11 3 0.07284642230815833 0.03596098843768444\n",
      "10 3 0.07108712680913681 0.035979188046295005\n",
      "4 4 0.061280571036142685 0.037444256539445685\n",
      "5 4 0.0629397686878061 0.03744728980754745\n",
      "2 4 0.05820483718095678 0.03745942287995449\n",
      "6 4 0.06458379999896069 0.037465489416158015\n",
      "11 4 0.0728100230909372 0.037465489416158015\n",
      "3 4 0.05970023835512508 0.03747762248856506\n",
      "7 4 0.06625513072303113 0.037483689024768584\n",
      "1 4 0.05661843796373565 0.03751705497388796\n",
      "8 4 0.06781726379543818 0.037529188046295\n",
      "9 4 0.06942489588937165 0.03755952072731261\n",
      "12 4 0.07440248884436185 0.037632319161754885\n",
      "10 4 0.07102646144710159 0.03767175164707778\n",
      "13 4 0.07609505244514464 0.03774758334962181\n",
      "14 4 0.07732959256256146 0.03777488276253766\n",
      "1 5 0.05654867279739514 0.03907312151009148\n",
      "3 5 0.05980943600678848 0.03907312151009148\n",
      "2 5 0.05816843796373564 0.03910345419110909\n",
      "6 5 0.06452313463692547 0.039139853408330226\n",
      "4 5 0.06127753776804092 0.03915198648073727\n",
      "9 5 0.06938849667215051 0.03922478491517954\n",
      "5 5 0.0629397686878061 0.039227818183281304\n",
      "8 5 0.066282430135947 0.039176252625551355\n",
      "11 5 0.07257949471520334 0.03929758334962181\n",
      "8 5 0.06775963170150472 0.03920961857467073\n",
      "10 5 0.0710173616427963 0.03934004910304647\n",
      "12 5 0.07428722465649493 0.0393764483202676\n",
      "13 5 0.07593732250385304 0.03940678100128522\n",
      "14 5 0.07748732250385304 0.03952507845725391\n",
      "1 6 0.056554739333598655 0.04060188863337914\n",
      "3 6 0.059733604304244445 0.040741418966060164\n",
      "5 6 0.06285180391285501 0.040762651842772495\n",
      "2 6 0.058150238355125075 0.040799051059993624\n",
      "4 6 0.06135640273868672 0.040832417009113\n",
      "9 6 0.0693733303316417 0.04085061661772357\n",
      "6 6 0.06460199960757125 0.040868816226334134\n",
      "8 6 0.06782939686784523 0.04087791603063942\n",
      "7 6 0.06630972954886284 0.04090218217545351\n",
      "10 6 0.07097489588937164 0.04094768119697993\n",
      "11 6 0.07255522857038925 0.04096284753748874\n",
      "13 6 0.07572499373672975 0.040990146950404587\n",
      "12 6 0.0741871268091368 0.04104474577623629\n",
      "14 6 0.0771384966721505 0.03437762248856506\n",
      "14 6 0.07749338904005657 0.041087211529660946\n",
      "15 6 0.07747822269954777 0.042582612703829244\n",
      "1 7 0.05651530684827576 0.04237635047290948\n",
      "2 7 0.058177537768040924 0.04237635047290948\n",
      "10 7 0.07079593307136772 0.04241274969013061\n",
      "3 7 0.059776070057669106 0.04243398256684294\n",
      "9 7 0.06935209745492937 0.04247038178406408\n",
      "5 7 0.06295190176021313 0.04249768119697993\n",
      "6 7 0.06442607005766911 0.042506781001285215\n",
      "8 7 0.06778693111442056 0.042521947341794014\n",
      "7 7 0.06619749862909767 0.04252498060989578\n",
      "4 7 0.06133213659387263 0.04252801387799754\n",
      "11 7 0.0723489663394695 0.04252801387799754\n",
      "12 7 0.07405669628076107 0.042543180218506345\n",
      "13 7 0.07580082543927379 0.042643278065864466\n",
      "6 8 0.06442607005766911 0.04401431524786055\n",
      "1 8 0.05659113855081979 0.04402948158836936\n",
      "13 8 0.07576442622205265 0.04407194734179402\n",
      "9 8 0.06935513072303114 0.04408711368230282\n",
      "5 8 0.06288820313007615 0.04409924675470987\n",
      "14 8 0.077475189431446 0.04410228002281163\n",
      "2 8 0.05811383913790394 0.044111379827116916\n",
      "3 8 0.05976697025336382 0.044120479631422196\n",
      "7 8 0.06613076673085892 0.044120479631422196\n",
      "8 8 0.06770806614377478 0.04414171250813453\n",
      "4 8 0.061271471231837404 0.04414474577623629\n",
      "11 8 0.07253096242557516 0.04418417826155918\n",
      "10 8 0.07096882935316812 0.04422057747878032\n",
      "12 8 0.0741871268091368 0.044244843623594404\n",
      "13 8 0.0771384966721505 0.035939755560972106\n"
     ]
    }
   ],
   "source": [
    "for r in regions:\n",
    "    print(r.well_x, r.well_y, r.real_x, r.real_y)"
   ]
  },
  {
   "cell_type": "code",
   "execution_count": 60,
   "metadata": {
    "collapsed": false
   },
   "outputs": [
    {
     "data": {
      "text/plain": [
       "array([ 54977.8039,  30884.2957,   5783.3606])"
      ]
     },
     "execution_count": 60,
     "metadata": {},
     "output_type": "execute_result"
    }
   ],
   "source": [
    "p1"
   ]
  },
  {
   "cell_type": "code",
   "execution_count": 148,
   "metadata": {
    "collapsed": true
   },
   "outputs": [],
   "source": [
    "# IN METERS\n",
    "def get_position():\n",
    "    info = cam.get_information()\n",
    "    return np.array((float(info['xpos']), float(info['ypos']), float(info['zpos'])))"
   ]
  },
  {
   "cell_type": "code",
   "execution_count": 62,
   "metadata": {
    "collapsed": true
   },
   "outputs": [],
   "source": [
    "tmpl_path = r\"C:\\Users\\TCS-User\\AppData\\Roaming\\Leica Microsystems\\LAS X\\MatrixScreener\\ScanningTemplates\\ \".strip()\n",
    "tmpl_name = tmpl_path + '{ScanningTemplate}leicaautomator'"
   ]
  },
  {
   "cell_type": "code",
   "execution_count": 64,
   "metadata": {
    "collapsed": true
   },
   "outputs": [],
   "source": [
    "max_well_x = max(r.well_x for r in regions)\n",
    "max_well_y = max(r.well_y for r in regions)"
   ]
  },
  {
   "cell_type": "code",
   "execution_count": 65,
   "metadata": {
    "collapsed": false
   },
   "outputs": [
    {
     "data": {
      "text/plain": [
       "(15, 8)"
      ]
     },
     "execution_count": 65,
     "metadata": {},
     "output_type": "execute_result"
    }
   ],
   "source": [
    "max_well_x, max_well_y"
   ]
  },
  {
   "cell_type": "code",
   "execution_count": 150,
   "metadata": {
    "collapsed": false
   },
   "outputs": [],
   "source": [
    "cam.connect()\n",
    "z = get_position()[2]"
   ]
  },
  {
   "cell_type": "code",
   "execution_count": 103,
   "metadata": {
    "collapsed": false
   },
   "outputs": [],
   "source": [
    "i = 0\n",
    "j = 0\n",
    "well0 = next(r for r in regions if r.well_x == i and r.well_y == j)"
   ]
  },
  {
   "cell_type": "code",
   "execution_count": 139,
   "metadata": {
    "collapsed": false
   },
   "outputs": [],
   "source": [
    "i = 1\n",
    "j = 0\n",
    "well = next(r for r in regions if r.well_x == i and r.well_y == j)"
   ]
  },
  {
   "cell_type": "code",
   "execution_count": 125,
   "metadata": {
    "collapsed": false
   },
   "outputs": [],
   "source": [
    "tmpl = ScanningTemplate(tmpl_name + str(0) + '.xml')\n",
    "tmpl.move_well(1, 1, well.real_x, well.real_y)\n",
    "tmpl.well_attrib(1, 1)['FieldZCoordinate'] = str(z)\n",
    "\n",
    "for f in tmpl.fields:\n",
    "    f.FieldZCoordinate = z"
   ]
  },
  {
   "cell_type": "code",
   "execution_count": 126,
   "metadata": {
    "collapsed": false
   },
   "outputs": [
    {
     "name": "stdout",
     "output_type": "stream",
     "text": [
      "Scanning well (1,0)\n"
     ]
    },
    {
     "data": {
      "text/plain": [
       "[]"
      ]
     },
     "execution_count": 126,
     "metadata": {},
     "output_type": "execute_result"
    }
   ],
   "source": [
    "tmpl.write()\n",
    "cam.load_template(tmpl.filename)"
   ]
  },
  {
   "cell_type": "code",
   "execution_count": 130,
   "metadata": {
    "collapsed": false
   },
   "outputs": [],
   "source": [
    "x = get_position()[0]"
   ]
  },
  {
   "cell_type": "code",
   "execution_count": 128,
   "metadata": {
    "collapsed": false
   },
   "outputs": [],
   "source": [
    "y = get_position()[1]"
   ]
  },
  {
   "cell_type": "code",
   "execution_count": 174,
   "metadata": {
    "collapsed": false
   },
   "outputs": [],
   "source": [
    "z = get_position()[2]"
   ]
  },
  {
   "cell_type": "code",
   "execution_count": 136,
   "metadata": {
    "collapsed": false
   },
   "outputs": [
    {
     "data": {
      "text/plain": [
       "569.79457743427338"
      ]
     },
     "execution_count": 136,
     "metadata": {},
     "output_type": "execute_result"
    }
   ],
   "source": [
    "(well.real_x - x)*1e6"
   ]
  },
  {
   "cell_type": "code",
   "execution_count": 137,
   "metadata": {
    "collapsed": false
   },
   "outputs": [
    {
     "data": {
      "text/plain": [
       "633.10139306604106"
      ]
     },
     "execution_count": 137,
     "metadata": {},
     "output_type": "execute_result"
    }
   ],
   "source": [
    "(well.real_y - y)*1e6"
   ]
  },
  {
   "cell_type": "code",
   "execution_count": 140,
   "metadata": {
    "collapsed": false
   },
   "outputs": [
    {
     "data": {
      "text/plain": [
       "1774.461839530332"
      ]
     },
     "execution_count": 140,
     "metadata": {},
     "output_type": "execute_result"
    }
   ],
   "source": [
    "(well.real_x - well0.real_x)*1e6"
   ]
  },
  {
   "cell_type": "code",
   "execution_count": 141,
   "metadata": {
    "collapsed": false
   },
   "outputs": [
    {
     "data": {
      "text/plain": [
       "(56788.30097743427, 30934.86319306604, 0.0)"
      ]
     },
     "execution_count": 141,
     "metadata": {},
     "output_type": "execute_result"
    }
   ],
   "source": [
    "well.real_x*1e6, well.real_y*1e6, z*1e6"
   ]
  },
  {
   "cell_type": "markdown",
   "metadata": {},
   "source": [
    "### try real offset other well too"
   ]
  },
  {
   "cell_type": "code",
   "execution_count": 153,
   "metadata": {
    "collapsed": false
   },
   "outputs": [],
   "source": [
    "i = 6\n",
    "j = 6\n",
    "well = next(r for r in regions if r.well_x == i and r.well_y == j)"
   ]
  },
  {
   "cell_type": "code",
   "execution_count": 155,
   "metadata": {
    "collapsed": false
   },
   "outputs": [],
   "source": [
    "tmpl = ScanningTemplate(tmpl_name + str(0) + '.xml')\n",
    "tmpl.move_well(1, 1, well.real_x, well.real_y)\n",
    "tmpl.well_attrib(1, 1)['FieldZCoordinate'] = str(z)\n",
    "\n",
    "for f in tmpl.fields:\n",
    "    f.FieldZCoordinate = z"
   ]
  },
  {
   "cell_type": "code",
   "execution_count": 156,
   "metadata": {
    "collapsed": false
   },
   "outputs": [
    {
     "data": {
      "text/plain": [
       "[]"
      ]
     },
     "execution_count": 156,
     "metadata": {},
     "output_type": "execute_result"
    }
   ],
   "source": [
    "tmpl.write()\n",
    "cam.load_template(tmpl.filename)"
   ]
  },
  {
   "cell_type": "code",
   "execution_count": 164,
   "metadata": {
    "collapsed": true
   },
   "outputs": [],
   "source": [
    "x = get_position()[0]"
   ]
  },
  {
   "cell_type": "code",
   "execution_count": 163,
   "metadata": {
    "collapsed": true
   },
   "outputs": [],
   "source": [
    "y = get_position()[1]"
   ]
  },
  {
   "cell_type": "code",
   "execution_count": 165,
   "metadata": {
    "collapsed": false
   },
   "outputs": [],
   "source": [
    "z = get_position()[2]"
   ]
  },
  {
   "cell_type": "code",
   "execution_count": 167,
   "metadata": {
    "collapsed": false
   },
   "outputs": [
    {
     "data": {
      "text/plain": [
       "465.84590757124676"
      ]
     },
     "execution_count": 167,
     "metadata": {},
     "output_type": "execute_result"
    }
   ],
   "source": [
    "(well.real_x - x)*1e6"
   ]
  },
  {
   "cell_type": "code",
   "execution_count": 168,
   "metadata": {
    "collapsed": false
   },
   "outputs": [
    {
     "data": {
      "text/plain": [
       "517.30852633413701"
      ]
     },
     "execution_count": 168,
     "metadata": {},
     "output_type": "execute_result"
    }
   ],
   "source": [
    "(well.real_y - y)*1e6"
   ]
  },
  {
   "cell_type": "markdown",
   "metadata": {},
   "source": [
    "### try scan of first well"
   ]
  },
  {
   "cell_type": "code",
   "execution_count": 170,
   "metadata": {
    "collapsed": false
   },
   "outputs": [],
   "source": [
    "i = 0\n",
    "j = 0\n",
    "well = next(r for r in regions if r.well_x == i and r.well_y == j)"
   ]
  },
  {
   "cell_type": "code",
   "execution_count": 171,
   "metadata": {
    "collapsed": false
   },
   "outputs": [],
   "source": [
    "tmpl = ScanningTemplate(tmpl_name + str(i) + '.xml')\n",
    "tmpl.move_well(1, 1, well.real_x - 600e-6, well.real_y - 600e-6)\n",
    "tmpl.well_attrib(1, 1)['FieldZCoordinate'] = str(z)\n",
    "\n",
    "for f in tmpl.fields:\n",
    "    f.FieldZCoordinate = z"
   ]
  },
  {
   "cell_type": "code",
   "execution_count": 172,
   "metadata": {
    "collapsed": false
   },
   "outputs": [
    {
     "data": {
      "text/plain": [
       "[]"
      ]
     },
     "execution_count": 172,
     "metadata": {},
     "output_type": "execute_result"
    }
   ],
   "source": [
    "tmpl.write()\n",
    "cam.load_template(tmpl.filename)"
   ]
  },
  {
   "cell_type": "code",
   "execution_count": 177,
   "metadata": {
    "collapsed": false
   },
   "outputs": [
    {
     "name": "stdout",
     "output_type": "stream",
     "text": [
      "Scanning well (0,0)\n"
     ]
    },
    {
     "data": {
      "text/plain": [
       "[OrderedDict([('cli', 'python-leicacam'), ('app', 'matrix'), ('cmd', 'autofocusscan')])]"
      ]
     },
     "execution_count": 177,
     "metadata": {},
     "output_type": "execute_result"
    }
   ],
   "source": [
    "print('Scanning well ({},{})'.format(i,j))\n",
    "cam.send([('cmd', 'autofocusscan')])"
   ]
  },
  {
   "cell_type": "code",
   "execution_count": 178,
   "metadata": {
    "collapsed": false
   },
   "outputs": [
    {
     "data": {
      "text/plain": [
       "[]"
      ]
     },
     "execution_count": 178,
     "metadata": {},
     "output_type": "execute_result"
    }
   ],
   "source": [
    "cam.start_scan()"
   ]
  },
  {
   "cell_type": "code",
   "execution_count": 179,
   "metadata": {
    "collapsed": false
   },
   "outputs": [],
   "source": [
    "waitfor(cam, 'inf', 'scanfinished')"
   ]
  },
  {
   "cell_type": "markdown",
   "metadata": {},
   "source": [
    "### next"
   ]
  },
  {
   "cell_type": "code",
   "execution_count": 196,
   "metadata": {
    "collapsed": false
   },
   "outputs": [
    {
     "data": {
      "text/plain": [
       "OrderedDict([('app', 'matrix'), ('sys', '0'), ('dev', 'stage'), ('info_for', 'python-leicacam'), ('unit', 'meter'), ('xpos', '0.0566300003'), ('ypos', '0.0303339981'), ('zpos', '0')])"
      ]
     },
     "execution_count": 196,
     "metadata": {},
     "output_type": "execute_result"
    }
   ],
   "source": [
    "cam.get_information()"
   ]
  },
  {
   "cell_type": "code",
   "execution_count": 197,
   "metadata": {
    "collapsed": false
   },
   "outputs": [
    {
     "data": {
      "text/plain": [
       "[OrderedDict([('app', 'matrix'), ('sys', '0'), ('dev', 'zdrive'), ('info_for', 'python-leicacam'), ('unit', 'meter'), ('zpos', '0')]),\n",
       " OrderedDict([('cli', 'python-leicacam'), ('app', 'matrix'), ('cmd', 'getinfo'), ('dev', 'zdrive')])]"
      ]
     },
     "execution_count": 197,
     "metadata": {},
     "output_type": "execute_result"
    }
   ],
   "source": [
    "cam.send(b'/cmd:getinfo /dev:zdrive')"
   ]
  },
  {
   "cell_type": "code",
   "execution_count": 198,
   "metadata": {
    "collapsed": true
   },
   "outputs": [],
   "source": [
    "z = 8647e-6"
   ]
  },
  {
   "cell_type": "code",
   "execution_count": 219,
   "metadata": {
    "collapsed": false
   },
   "outputs": [],
   "source": [
    "i = 4\n",
    "j = 0\n",
    "well = next(r for r in regions if r.well_x == i and r.well_y == j)"
   ]
  },
  {
   "cell_type": "code",
   "execution_count": 220,
   "metadata": {
    "collapsed": false
   },
   "outputs": [],
   "source": [
    "tmpl = ScanningTemplate(tmpl_name + str(i%2) + '.xml')\n",
    "tmpl.move_well(1, 1, well.real_x - 652e-6, well.real_y - 652e-6)\n",
    "tmpl.well_attrib(1, 1)['FieldZCoordinate'] = str(z)\n",
    "\n",
    "for f in tmpl.fields:\n",
    "    f.FieldZCoordinate = z"
   ]
  },
  {
   "cell_type": "code",
   "execution_count": 221,
   "metadata": {
    "collapsed": false
   },
   "outputs": [],
   "source": [
    "tmpl.write()\n",
    "cam.load_template(tmpl.filename)\n",
    "waitfor(cam, 'cmd', 'load')"
   ]
  },
  {
   "cell_type": "code",
   "execution_count": 222,
   "metadata": {
    "collapsed": false
   },
   "outputs": [],
   "source": [
    "cam.send([('cmd', 'autofocusscan')])\n",
    "waitfor(cam, 'inf', 'scanfinished')"
   ]
  },
  {
   "cell_type": "code",
   "execution_count": 223,
   "metadata": {
    "collapsed": false
   },
   "outputs": [
    {
     "name": "stdout",
     "output_type": "stream",
     "text": [
      "Scanning well (4,0)\n"
     ]
    }
   ],
   "source": [
    "print('Scanning well ({},{})'.format(i,j))\n",
    "cam.start_scan()\n",
    "waitfor(cam, 'inf', 'scanfinished')"
   ]
  },
  {
   "cell_type": "markdown",
   "metadata": {},
   "source": [
    "### time one well"
   ]
  },
  {
   "cell_type": "code",
   "execution_count": 225,
   "metadata": {
    "collapsed": false
   },
   "outputs": [
    {
     "name": "stdout",
     "output_type": "stream",
     "text": [
      "Scanning well (5,0)\n",
      "Wall time: 3min 32s\n"
     ]
    }
   ],
   "source": [
    "%%time\n",
    "i = 5\n",
    "j = 0\n",
    "\n",
    "well = next(r for r in regions if r.well_x == i and r.well_y == j)\n",
    "tmpl = ScanningTemplate(tmpl_name + str(i%2) + '.xml')\n",
    "tmpl.move_well(1, 1, well.real_x - 652e-6, well.real_y - 652e-6)\n",
    "tmpl.write()\n",
    "\n",
    "cam.load_template(tmpl.filename)\n",
    "waitfor(cam, 'cmd', 'load')\n",
    "\n",
    "cam.send([('cmd', 'autofocusscan')])\n",
    "waitfor(cam, 'inf', 'scanfinished')\n",
    "\n",
    "print('Scanning well ({},{})'.format(i,j))\n",
    "cam.start_scan()\n",
    "waitfor(cam, 'inf', 'scanfinished')"
   ]
  },
  {
   "cell_type": "code",
   "execution_count": 226,
   "metadata": {
    "collapsed": false
   },
   "outputs": [
    {
     "name": "stdout",
     "output_type": "stream",
     "text": [
      "Wall time: 32.7 s\n"
     ]
    }
   ],
   "source": [
    "%%time\n",
    "i = 6\n",
    "j = 0\n",
    "\n",
    "well = next(r for r in regions if r.well_x == i and r.well_y == j)\n",
    "tmpl = ScanningTemplate(tmpl_name + str(i%2) + '.xml')\n",
    "tmpl.move_well(1, 1, well.real_x - 652e-6, well.real_y - 652e-6)\n",
    "tmpl.write()\n",
    "\n",
    "cam.load_template(tmpl.filename)\n",
    "waitfor(cam, 'cmd', 'load')\n",
    "\n",
    "cam.send([('cmd', 'autofocusscan')])\n",
    "waitfor(cam, 'inf', 'scanfinished')"
   ]
  },
  {
   "cell_type": "markdown",
   "metadata": {},
   "source": [
    "- 2048"
   ]
  },
  {
   "cell_type": "code",
   "execution_count": 227,
   "metadata": {
    "collapsed": false
   },
   "outputs": [
    {
     "name": "stdout",
     "output_type": "stream",
     "text": [
      "Scanning well (6,0)\n",
      "Wall time: 2min 56s\n"
     ]
    }
   ],
   "source": [
    "%%time\n",
    "print('Scanning well ({},{})'.format(i,j))\n",
    "cam.start_scan()\n",
    "waitfor(cam, 'inf', 'scanfinished')"
   ]
  },
  {
   "cell_type": "markdown",
   "metadata": {},
   "source": [
    "- 1024"
   ]
  },
  {
   "cell_type": "code",
   "execution_count": 228,
   "metadata": {
    "collapsed": false
   },
   "outputs": [
    {
     "name": "stdout",
     "output_type": "stream",
     "text": [
      "Scanning well (6,0)\n",
      "Wall time: 1min 58s\n"
     ]
    }
   ],
   "source": [
    "%%time\n",
    "print('Scanning well ({},{})'.format(i,j))\n",
    "cam.start_scan()\n",
    "waitfor(cam, 'inf', 'scanfinished')"
   ]
  },
  {
   "cell_type": "markdown",
   "metadata": {},
   "source": [
    "- 1024, only pmt"
   ]
  },
  {
   "cell_type": "code",
   "execution_count": 229,
   "metadata": {
    "collapsed": false
   },
   "outputs": [
    {
     "name": "stdout",
     "output_type": "stream",
     "text": [
      "Scanning well (6,0)\n",
      "Wall time: 1min 56s\n"
     ]
    }
   ],
   "source": [
    "%%time\n",
    "print('Scanning well ({},{})'.format(i,j))\n",
    "cam.start_scan()\n",
    "waitfor(cam, 'inf', 'scanfinished')"
   ]
  },
  {
   "cell_type": "markdown",
   "metadata": {},
   "source": [
    "- 1024, 5x5"
   ]
  },
  {
   "cell_type": "code",
   "execution_count": 230,
   "metadata": {
    "collapsed": false
   },
   "outputs": [
    {
     "name": "stdout",
     "output_type": "stream",
     "text": [
      "Scanning well (6,0)\n",
      "Wall time: 1min 23s\n"
     ]
    }
   ],
   "source": [
    "%%time\n",
    "print('Scanning well ({},{})'.format(i,j))\n",
    "cam.start_scan()\n",
    "waitfor(cam, 'inf', 'scanfinished')"
   ]
  },
  {
   "cell_type": "markdown",
   "metadata": {},
   "source": [
    "- 512, 6x6"
   ]
  },
  {
   "cell_type": "code",
   "execution_count": 232,
   "metadata": {
    "collapsed": false
   },
   "outputs": [
    {
     "name": "stdout",
     "output_type": "stream",
     "text": [
      "Scanning well (6,0)\n",
      "Wall time: 1min 26s\n"
     ]
    }
   ],
   "source": [
    "%%time\n",
    "print('Scanning well ({},{})'.format(i,j))\n",
    "cam.start_scan()\n",
    "waitfor(cam, 'inf', 'scanfinished')"
   ]
  },
  {
   "cell_type": "markdown",
   "metadata": {},
   "source": [
    "### all"
   ]
  },
  {
   "cell_type": "markdown",
   "metadata": {},
   "source": [
    "1550 - 246 = 1304\n",
    "1304 / 2 = 652"
   ]
  },
  {
   "cell_type": "code",
   "execution_count": 244,
   "metadata": {
    "collapsed": true
   },
   "outputs": [],
   "source": [
    "from datetime import datetime\n",
    "import sys"
   ]
  },
  {
   "cell_type": "markdown",
   "metadata": {},
   "source": [
    "- j == 0 twice"
   ]
  },
  {
   "cell_type": "code",
   "execution_count": 20,
   "metadata": {
    "collapsed": true
   },
   "outputs": [],
   "source": [
    "r = [1,2,3]"
   ]
  },
  {
   "cell_type": "code",
   "execution_count": 21,
   "metadata": {
    "collapsed": false
   },
   "outputs": [
    {
     "data": {
      "text/plain": [
       "[3, 2, 1]"
      ]
     },
     "execution_count": 21,
     "metadata": {},
     "output_type": "execute_result"
    }
   ],
   "source": [
    "r[::-1]"
   ]
  },
  {
   "cell_type": "code",
   "execution_count": 283,
   "metadata": {
    "collapsed": false,
    "scrolled": false
   },
   "outputs": [
    {
     "name": "stdout",
     "output_type": "stream",
     "text": [
      "Scanning well (0,0)\n",
      "2015-03-25 15:05:37.463110\n",
      "\\3.3.0_9757\\experiment--2015_03_25_14_05_40\\slide--S00\\chamber--U00--V00\\field--X00--Y00\\image--L0000--S00--U00--V00--J133--E00--O00--X00--Y00--T0000--Z00--C01.ome.tif\n",
      "Scanning well (0,1)\n",
      "2015-03-25 15:07:31.042606\n",
      "\\3.3.0_9757\\experiment--2015_03_25_14_07_34\\slide--S00\\chamber--U00--V00\\field--X00--Y00\\image--L0000--S00--U00--V00--J137--E00--O00--X00--Y00--T0000--Z00--C01.ome.tif\n",
      "Scanning well (0,2)\n",
      "2015-03-25 15:09:27.612274\n",
      "\\3.3.0_9757\\experiment--2015_03_25_14_09_31\\slide--S00\\chamber--U00--V00\\field--X00--Y00\\image--L0000--S00--U00--V00--J141--E00--O00--X00--Y00--T0000--Z00--C01.ome.tif\n",
      "Scanning well (1,7)\n",
      "2015-03-25 15:11:23.331892\n",
      "\\3.3.0_9757\\experiment--2015_03_25_14_11_26\\slide--S00\\chamber--U00--V00\\field--X00--Y00\\image--L0000--S00--U00--V00--J145--E00--O00--X00--Y00--T0000--Z00--C01.ome.tif\n",
      "Scanning well (1,6)\n",
      "2015-03-25 15:13:17.381416\n",
      "\\3.3.0_9757\\experiment--2015_03_25_14_13_20\\slide--S00\\chamber--U00--V00\\field--X00--Y00\\image--L0000--S00--U00--V00--J149--E00--O00--X00--Y00--T0000--Z00--C01.ome.tif\n",
      "Scanning well (1,5)\n",
      "2015-03-25 15:15:11.560946\n",
      "\\3.3.0_9757\\experiment--2015_03_25_14_15_14\\slide--S00\\chamber--U00--V00\\field--X00--Y00\\image--L0000--S00--U00--V00--J153--E00--O00--X00--Y00--T0000--Z00--C01.ome.tif\n",
      "Scanning well (1,4)\n",
      "2015-03-25 15:17:05.630471\n",
      "\\3.3.0_9757\\experiment--2015_03_25_14_17_08\\slide--S00\\chamber--U00--V00\\field--X00--Y00\\image--L0000--S00--U00--V00--J157--E00--O00--X00--Y00--T0000--Z00--C01.ome.tif\n",
      "Scanning well (1,3)\n",
      "2015-03-25 15:18:59.880005\n",
      "\\3.3.0_9757\\experiment--2015_03_25_14_19_03\\slide--S00\\chamber--U00--V00\\field--X00--Y00\\image--L0000--S00--U00--V00--J161--E00--O00--X00--Y00--T0000--Z00--C01.ome.tif\n",
      "Scanning well (1,2)\n",
      "2015-03-25 15:20:54.059536\n",
      "\\3.3.0_9757\\experiment--2015_03_25_14_20_57\\slide--S00\\chamber--U00--V00\\field--X00--Y00\\image--L0000--S00--U00--V00--J165--E00--O00--X00--Y00--T0000--Z00--C01.ome.tif\n",
      "Scanning well (1,1)\n",
      "2015-03-25 15:22:48.219066\n",
      "\\3.3.0_9757\\experiment--2015_03_25_14_22_51\\slide--S00\\chamber--U00--V00\\field--X00--Y00\\image--L0000--S00--U00--V00--J169--E00--O00--X00--Y00--T0000--Z00--C01.ome.tif\n",
      "Scanning well (1,0)\n",
      "2015-03-25 15:24:42.518603\n",
      "\\3.3.0_9757\\experiment--2015_03_25_14_24_45\\slide--S00\\chamber--U00--V00\\field--X00--Y00\\image--L0000--S00--U00--V00--J173--E00--O00--X00--Y00--T0000--Z00--C01.ome.tif\n",
      "Scanning well (2,0)\n",
      "2015-03-25 15:26:36.028096\n",
      "\\3.3.0_9757\\experiment--2015_03_25_14_26_39\\slide--S00\\chamber--U00--V00\\field--X00--Y00\\image--L0000--S00--U00--V00--J177--E00--O00--X00--Y00--T0000--Z00--C01.ome.tif\n",
      "Scanning well (2,1)\n",
      "2015-03-25 15:28:29.587591\n",
      "\\3.3.0_9757\\experiment--2015_03_25_14_28_33\\slide--S00\\chamber--U00--V00\\field--X00--Y00\\image--L0000--S00--U00--V00--J181--E00--O00--X00--Y00--T0000--Z00--C01.ome.tif\n",
      "Scanning well (2,2)\n",
      "2015-03-25 15:30:22.927074\n",
      "\\3.3.0_9757\\experiment--2015_03_25_14_30_26\\slide--S00\\chamber--U00--V00\\field--X00--Y00\\image--L0000--S00--U00--V00--J185--E00--O00--X00--Y00--T0000--Z00--C01.ome.tif\n",
      "Scanning well (2,3)\n",
      "2015-03-25 15:32:16.206553\n",
      "\\3.3.0_9757\\experiment--2015_03_25_14_32_19\\slide--S00\\chamber--U00--V00\\field--X00--Y00\\image--L0000--S00--U00--V00--J189--E00--O00--X00--Y00--T0000--Z00--C01.ome.tif\n",
      "Scanning well (2,4)\n",
      "2015-03-25 15:34:09.386026\n",
      "\\3.3.0_9757\\experiment--2015_03_25_14_34_12\\slide--S00\\chamber--U00--V00\\field--X00--Y00\\image--L0000--S00--U00--V00--J193--E00--O00--X00--Y00--T0000--Z00--C01.ome.tif\n",
      "Scanning well (2,5)\n",
      "2015-03-25 15:36:04.375603\n",
      "\\3.3.0_9757\\experiment--2015_03_25_14_36_07\\slide--S00\\chamber--U00--V00\\field--X00--Y00\\image--L0000--S00--U00--V00--J197--E00--O00--X00--Y00--T0000--Z00--C01.ome.tif\n",
      "Scanning well (2,6)\n",
      "2015-03-25 15:38:00.215229\n",
      "\\3.3.0_9757\\experiment--2015_03_25_14_38_03\\slide--S00\\chamber--U00--V00\\field--X00--Y00\\image--L0000--S00--U00--V00--J201--E00--O00--X00--Y00--T0000--Z00--C01.ome.tif\n",
      "Scanning well (2,7)\n",
      "2015-03-25 15:39:54.594771\n",
      "\\3.3.0_9757\\experiment--2015_03_25_14_39_58\\slide--S00\\chamber--U00--V00\\field--X00--Y00\\image--L0000--S00--U00--V00--J205--E00--O00--X00--Y00--T0000--Z00--C01.ome.tif\n",
      "Scanning well (3,7)\n",
      "2015-03-25 15:41:50.284388\n",
      "\\3.3.0_9757\\experiment--2015_03_25_14_41_53\\slide--S00\\chamber--U00--V00\\field--X00--Y00\\image--L0000--S00--U00--V00--J209--E00--O00--X00--Y00--T0000--Z00--C01.ome.tif\n",
      "Scanning well (3,6)\n",
      "2015-03-25 15:43:44.613927\n",
      "\\3.3.0_9757\\experiment--2015_03_25_14_43_48\\slide--S00\\chamber--U00--V00\\field--X00--Y00\\image--L0000--S00--U00--V00--J213--E00--O00--X00--Y00--T0000--Z00--C01.ome.tif\n",
      "Scanning well (3,5)\n",
      "2015-03-25 15:45:38.163422\n",
      "\\3.3.0_9757\\experiment--2015_03_25_14_45_41\\slide--S00\\chamber--U00--V00\\field--X00--Y00\\image--L0000--S00--U00--V00--J217--E00--O00--X00--Y00--T0000--Z00--C01.ome.tif\n",
      "Scanning well (3,4)\n",
      "2015-03-25 15:47:33.423015\n",
      "\\3.3.0_9757\\experiment--2015_03_25_14_47_36\\slide--S00\\chamber--U00--V00\\field--X00--Y00\\image--L0000--S00--U00--V00--J221--E00--O00--X00--Y00--T0000--Z00--C01.ome.tif\n",
      "Scanning well (3,3)\n",
      "2015-03-25 15:49:27.702551\n",
      "\\3.3.0_9757\\experiment--2015_03_25_14_49_31\\slide--S00\\chamber--U00--V00\\field--X00--Y00\\image--L0000--S00--U00--V00--J225--E00--O00--X00--Y00--T0000--Z00--C01.ome.tif\n",
      "Scanning well (3,2)\n",
      "2015-03-25 15:51:20.802020\n",
      "\\3.3.0_9757\\experiment--2015_03_25_14_51_24\\slide--S00\\chamber--U00--V00\\field--X00--Y00\\image--L0000--S00--U00--V00--J229--E00--O00--X00--Y00--T0000--Z00--C01.ome.tif\n",
      "Scanning well (3,1)\n",
      "2015-03-25 15:53:14.421519\n",
      "\\3.3.0_9757\\experiment--2015_03_25_14_53_17\\slide--S00\\chamber--U00--V00\\field--X00--Y00\\image--L0000--S00--U00--V00--J233--E00--O00--X00--Y00--T0000--Z00--C01.ome.tif\n",
      "Scanning well (3,0)\n",
      "2015-03-25 15:55:07.700998\n",
      "\\3.3.0_9757\\experiment--2015_03_25_14_55_10\\slide--S00\\chamber--U00--V00\\field--X00--Y00\\image--L0000--S00--U00--V00--J237--E00--O00--X00--Y00--T0000--Z00--C01.ome.tif\n",
      "Scanning well (4,0)\n",
      "2015-03-25 15:57:01.310496\n",
      "\\3.3.0_9757\\experiment--2015_03_25_14_57_04\\slide--S00\\chamber--U00--V00\\field--X00--Y00\\image--L0000--S00--U00--V00--J241--E00--O00--X00--Y00--T0000--Z00--C01.ome.tif\n",
      "Scanning well (4,1)\n",
      "2015-03-25 15:58:54.739984\n",
      "\\3.3.0_9757\\experiment--2015_03_25_14_58_58\\slide--S00\\chamber--U00--V00\\field--X00--Y00\\image--L0000--S00--U00--V00--J245--E00--O00--X00--Y00--T0000--Z00--C01.ome.tif\n",
      "Scanning well (4,2)\n",
      "2015-03-25 16:00:48.269477\n",
      "\\3.3.0_9757\\experiment--2015_03_25_15_00_51\\slide--S00\\chamber--U00--V00\\field--X00--Y00\\image--L0000--S00--U00--V00--J249--E00--O00--X00--Y00--T0000--Z00--C01.ome.tif\n",
      "Scanning well (4,3)\n",
      "2015-03-25 16:02:42.058986\n",
      "\\3.3.0_9757\\experiment--2015_03_25_15_02_45\\slide--S00\\chamber--U00--V00\\field--X00--Y00\\image--L0000--S00--U00--V00--J253--E00--O00--X00--Y00--T0000--Z00--C01.ome.tif\n",
      "Scanning well (4,4)\n",
      "2015-03-25 16:04:35.428470\n",
      "\\3.3.0_9757\\experiment--2015_03_25_15_04_38\\slide--S00\\chamber--U00--V00\\field--X00--Y00\\image--L0000--S00--U00--V00--J257--E00--O00--X00--Y00--T0000--Z00--C01.ome.tif\n",
      "Scanning well (4,5)\n",
      "2015-03-25 16:06:28.537939\n",
      "\\3.3.0_9757\\experiment--2015_03_25_15_06_32\\slide--S00\\chamber--U00--V00\\field--X00--Y00\\image--L0000--S00--U00--V00--J261--E00--O00--X00--Y00--T0000--Z00--C01.ome.tif\n",
      "Scanning well (4,6)\n",
      "2015-03-25 16:08:22.727471\n",
      "\\3.3.0_9757\\experiment--2015_03_25_15_08_26\\slide--S00\\chamber--U00--V00\\field--X00--Y00\\image--L0000--S00--U00--V00--J265--E00--O00--X00--Y00--T0000--Z00--C01.ome.tif\n",
      "Scanning well (4,7)\n",
      "2015-03-25 16:10:17.807053\n",
      "\\3.3.0_9757\\experiment--2015_03_25_15_10_21\\slide--S00\\chamber--U00--V00\\field--X00--Y00\\image--L0000--S00--U00--V00--J269--E00--O00--X00--Y00--T0000--Z00--C01.ome.tif\n",
      "Scanning well (5,7)\n",
      "2015-03-25 16:12:12.326603\n",
      "\\3.3.0_9757\\experiment--2015_03_25_15_12_15\\slide--S00\\chamber--U00--V00\\field--X00--Y00\\image--L0000--S00--U00--V00--J273--E00--O00--X00--Y00--T0000--Z00--C01.ome.tif\n",
      "Scanning well (5,6)\n",
      "2015-03-25 16:14:06.856154\n",
      "\\3.3.0_9757\\experiment--2015_03_25_15_14_10\\slide--S00\\chamber--U00--V00\\field--X00--Y00\\image--L0000--S00--U00--V00--J277--E00--O00--X00--Y00--T0000--Z00--C01.ome.tif\n",
      "Scanning well (5,5)\n",
      "2015-03-25 16:16:01.475710\n",
      "\\3.3.0_9757\\experiment--2015_03_25_15_16_04\\slide--S00\\chamber--U00--V00\\field--X00--Y00\\image--L0000--S00--U00--V00--J281--E00--O00--X00--Y00--T0000--Z00--C01.ome.tif\n",
      "Scanning well (5,4)\n",
      "2015-03-25 16:17:54.445171\n",
      "\\3.3.0_9757\\experiment--2015_03_25_15_17_57\\slide--S00\\chamber--U00--V00\\field--X00--Y00\\image--L0000--S00--U00--V00--J285--E00--O00--X00--Y00--T0000--Z00--C01.ome.tif\n",
      "Scanning well (5,3)\n",
      "2015-03-25 16:19:49.004723\n",
      "\\3.3.0_9757\\experiment--2015_03_25_15_19_52\\slide--S00\\chamber--U00--V00\\field--X00--Y00\\image--L0000--S00--U00--V00--J289--E00--O00--X00--Y00--T0000--Z00--C01.ome.tif\n",
      "Scanning well (5,2)\n",
      "2015-03-25 16:21:44.094306\n",
      "\\3.3.0_9757\\experiment--2015_03_25_15_21_47\\slide--S00\\chamber--U00--V00\\field--X00--Y00\\image--L0000--S00--U00--V00--J293--E00--O00--X00--Y00--T0000--Z00--C01.ome.tif\n",
      "Scanning well (5,1)\n",
      "2015-03-25 16:23:38.743864\n",
      "\\3.3.0_9757\\experiment--2015_03_25_15_23_42\\slide--S00\\chamber--U00--V00\\field--X00--Y00\\image--L0000--S00--U00--V00--J297--E00--O00--X00--Y00--T0000--Z00--C01.ome.tif\n",
      "Scanning well (5,0)\n",
      "2015-03-25 16:25:33.053402\n",
      "\\3.3.0_9757\\experiment--2015_03_25_15_25_36\\slide--S00\\chamber--U00--V00\\field--X00--Y00\\image--L0000--S00--U00--V00--J301--E00--O00--X00--Y00--T0000--Z00--C01.ome.tif\n",
      "Scanning well (6,0)\n",
      "2015-03-25 16:27:27.012920\n",
      "\\3.3.0_9757\\experiment--2015_03_25_15_27_30\\slide--S00\\chamber--U00--V00\\field--X00--Y00\\image--L0000--S00--U00--V00--J305--E00--O00--X00--Y00--T0000--Z00--C01.ome.tif\n",
      "Scanning well (6,1)\n",
      "2015-03-25 16:29:21.112446\n",
      "\\3.3.0_9757\\experiment--2015_03_25_15_29_24\\slide--S00\\chamber--U00--V00\\field--X00--Y00\\image--L0000--S00--U00--V00--J309--E00--O00--X00--Y00--T0000--Z00--C01.ome.tif\n",
      "Scanning well (6,2)\n",
      "2015-03-25 16:31:14.441928\n",
      "\\3.3.0_9757\\experiment--2015_03_25_15_31_17\\slide--S00\\chamber--U00--V00\\field--X00--Y00\\image--L0000--S00--U00--V00--J313--E00--O00--X00--Y00--T0000--Z00--C01.ome.tif\n",
      "Scanning well (6,3)\n",
      "2015-03-25 16:33:08.171433\n",
      "\\3.3.0_9757\\experiment--2015_03_25_15_33_11\\slide--S00\\chamber--U00--V00\\field--X00--Y00\\image--L0000--S00--U00--V00--J317--E00--O00--X00--Y00--T0000--Z00--C01.ome.tif\n",
      "Scanning well (6,4)\n",
      "2015-03-25 16:35:02.760987\n",
      "\\3.3.0_9757\\experiment--2015_03_25_15_35_06\\slide--S00\\chamber--U00--V00\\field--X00--Y00\\image--L0000--S00--U00--V00--J321--E00--O00--X00--Y00--T0000--Z00--C01.ome.tif\n",
      "Scanning well (6,5)\n",
      "2015-03-25 16:36:57.010522\n",
      "\\3.3.0_9757\\experiment--2015_03_25_15_37_00\\slide--S00\\chamber--U00--V00\\field--X00--Y00\\image--L0000--S00--U00--V00--J325--E00--O00--X00--Y00--T0000--Z00--C01.ome.tif\n",
      "Scanning well (6,6)\n",
      "2015-03-25 16:38:51.430066\n",
      "\\3.3.0_9757\\experiment--2015_03_25_15_38_54\\slide--S00\\chamber--U00--V00\\field--X00--Y00\\image--L0000--S00--U00--V00--J329--E00--O00--X00--Y00--T0000--Z00--C01.ome.tif\n",
      "Scanning well (6,7)\n",
      "2015-03-25 16:40:44.759549\n",
      "\\3.3.0_9757\\experiment--2015_03_25_15_40_48\\slide--S00\\chamber--U00--V00\\field--X00--Y00\\image--L0000--S00--U00--V00--J333--E00--O00--X00--Y00--T0000--Z00--C01.ome.tif\n",
      "Scanning well (7,7)\n",
      "2015-03-25 16:42:39.289099\n",
      "\\3.3.0_9757\\experiment--2015_03_25_15_42_42\\slide--S00\\chamber--U00--V00\\field--X00--Y00\\image--L0000--S00--U00--V00--J337--E00--O00--X00--Y00--T0000--Z00--C01.ome.tif\n",
      "Scanning well (7,6)\n",
      "2015-03-25 16:44:34.738703\n",
      "\\3.3.0_9757\\experiment--2015_03_25_15_44_37\\slide--S00\\chamber--U00--V00\\field--X00--Y00\\image--L0000--S00--U00--V00--J341--E00--O00--X00--Y00--T0000--Z00--C01.ome.tif\n",
      "Scanning well (7,4)\n",
      "2015-03-25 16:46:29.118245\n",
      "\\3.3.0_9757\\experiment--2015_03_25_15_46_32\\slide--S00\\chamber--U00--V00\\field--X00--Y00\\image--L0000--S00--U00--V00--J345--E00--O00--X00--Y00--T0000--Z00--C01.ome.tif\n",
      "Scanning well (7,3)\n",
      "2015-03-25 16:48:22.637738\n",
      "\\3.3.0_9757\\experiment--2015_03_25_15_48_26\\slide--S00\\chamber--U00--V00\\field--X00--Y00\\image--L0000--S00--U00--V00--J349--E00--O00--X00--Y00--T0000--Z00--C01.ome.tif\n",
      "Scanning well (7,2)\n",
      "2015-03-25 16:50:16.657259\n",
      "\\3.3.0_9757\\experiment--2015_03_25_15_50_20\\slide--S00\\chamber--U00--V00\\field--X00--Y00\\image--L0000--S00--U00--V00--J353--E00--O00--X00--Y00--T0000--Z00--C01.ome.tif\n",
      "Scanning well (7,1)\n",
      "2015-03-25 16:52:11.926852\n",
      "\\3.3.0_9757\\experiment--2015_03_25_15_52_15\\slide--S00\\chamber--U00--V00\\field--X00--Y00\\image--L0000--S00--U00--V00--J357--E00--O00--X00--Y00--T0000--Z00--C01.ome.tif\n",
      "Scanning well (7,0)\n",
      "2015-03-25 16:54:06.796422\n",
      "\\3.3.0_9757\\experiment--2015_03_25_15_54_10\\slide--S00\\chamber--U00--V00\\field--X00--Y00\\image--L0000--S00--U00--V00--J361--E00--O00--X00--Y00--T0000--Z00--C01.ome.tif\n",
      "Scanning well (8,0)\n",
      "2015-03-25 16:56:00.985954\n",
      "\\3.3.0_9757\\experiment--2015_03_25_15_56_04\\slide--S00\\chamber--U00--V00\\field--X00--Y00\\image--L0000--S00--U00--V00--J365--E00--O00--X00--Y00--T0000--Z00--C01.ome.tif\n",
      "Scanning well (8,1)\n",
      "2015-03-25 16:57:56.615567\n",
      "\\3.3.0_9757\\experiment--2015_03_25_15_58_00\\slide--S00\\chamber--U00--V00\\field--X00--Y00\\image--L0000--S00--U00--V00--J369--E00--O00--X00--Y00--T0000--Z00--C01.ome.tif\n",
      "Scanning well (8,2)\n",
      "2015-03-25 16:59:51.705150\n",
      "\\3.3.0_9757\\experiment--2015_03_25_15_59_55\\slide--S00\\chamber--U00--V00\\field--X00--Y00\\image--L0000--S00--U00--V00--J373--E00--O00--X00--Y00--T0000--Z00--C01.ome.tif\n",
      "Scanning well (8,3)\n",
      "2015-03-25 17:01:48.914854\n",
      "\\3.3.0_9757\\experiment--2015_03_25_16_01_52\\slide--S00\\chamber--U00--V00\\field--X00--Y00\\image--L0000--S00--U00--V00--J377--E00--O00--X00--Y00--T0000--Z00--C01.ome.tif\n",
      "Scanning well (8,4)\n",
      "2015-03-25 17:03:41.254280\n",
      "\\3.3.0_9757\\experiment--2015_03_25_16_03_44\\slide--S00\\chamber--U00--V00\\field--X00--Y00\\image--L0000--S00--U00--V00--J381--E00--O00--X00--Y00--T0000--Z00--C01.ome.tif\n",
      "Scanning well (8,5)\n",
      "2015-03-25 17:05:34.443754\n",
      "\\3.3.0_9757\\experiment--2015_03_25_16_05_37\\slide--S00\\chamber--U00--V00\\field--X00--Y00\\image--L0000--S00--U00--V00--J385--E00--O00--X00--Y00--T0000--Z00--C01.ome.tif\n",
      "Scanning well (8,6)\n",
      "2015-03-25 17:07:29.963361\n",
      "\\3.3.0_9757\\experiment--2015_03_25_16_07_33\\slide--S00\\chamber--U00--V00\\field--X00--Y00\\image--L0000--S00--U00--V00--J389--E00--O00--X00--Y00--T0000--Z00--C01.ome.tif\n",
      "Scanning well (8,7)\n",
      "2015-03-25 17:09:25.662979\n",
      "\\3.3.0_9757\\experiment--2015_03_25_16_09_29\\slide--S00\\chamber--U00--V00\\field--X00--Y00\\image--L0000--S00--U00--V00--J393--E00--O00--X00--Y00--T0000--Z00--C01.ome.tif\n",
      "Scanning well (9,7)\n",
      "2015-03-25 17:11:19.702501\n",
      "\\3.3.0_9757\\experiment--2015_03_25_16_11_23\\slide--S00\\chamber--U00--V00\\field--X00--Y00\\image--L0000--S00--U00--V00--J397--E00--O00--X00--Y00--T0000--Z00--C01.ome.tif\n",
      "Scanning well (9,6)\n",
      "2015-03-25 17:13:14.552070\n",
      "\\3.3.0_9757\\experiment--2015_03_25_16_13_17\\slide--S00\\chamber--U00--V00\\field--X00--Y00\\image--L0000--S00--U00--V00--J401--E00--O00--X00--Y00--T0000--Z00--C01.ome.tif\n",
      "Scanning well (9,5)\n",
      "2015-03-25 17:15:07.871552\n",
      "\\3.3.0_9757\\experiment--2015_03_25_16_15_11\\slide--S00\\chamber--U00--V00\\field--X00--Y00\\image--L0000--S00--U00--V00--J405--E00--O00--X00--Y00--T0000--Z00--C01.ome.tif\n",
      "Scanning well (9,4)\n",
      "2015-03-25 17:17:03.651174\n",
      "\\3.3.0_9757\\experiment--2015_03_25_16_17_07\\slide--S00\\chamber--U00--V00\\field--X00--Y00\\image--L0000--S00--U00--V00--J409--E00--O00--X00--Y00--T0000--Z00--C01.ome.tif\n",
      "Scanning well (9,3)\n",
      "2015-03-25 17:18:57.430682\n",
      "\\3.3.0_9757\\experiment--2015_03_25_16_19_00\\slide--S00\\chamber--U00--V00\\field--X00--Y00\\image--L0000--S00--U00--V00--J413--E00--O00--X00--Y00--T0000--Z00--C01.ome.tif\n",
      "Scanning well (9,2)\n",
      "2015-03-25 17:20:51.310195\n",
      "\\3.3.0_9757\\experiment--2015_03_25_16_20_54\\slide--S00\\chamber--U00--V00\\field--X00--Y00\\image--L0000--S00--U00--V00--J417--E00--O00--X00--Y00--T0000--Z00--C01.ome.tif\n",
      "Scanning well (9,1)\n",
      "2015-03-25 17:22:47.979868\n",
      "\\3.3.0_9757\\experiment--2015_03_25_16_22_51\\slide--S00\\chamber--U00--V00\\field--X00--Y00\\image--L0000--S00--U00--V00--J421--E00--O00--X00--Y00--T0000--Z00--C01.ome.tif\n",
      "Scanning well (9,0)\n",
      "2015-03-25 17:24:42.759434\n",
      "\\3.3.0_9757\\experiment--2015_03_25_16_24_46\\slide--S00\\chamber--U00--V00\\field--X00--Y00\\image--L0000--S00--U00--V00--J425--E00--O00--X00--Y00--T0000--Z00--C01.ome.tif\n",
      "Scanning well (10,0)\n",
      "2015-03-25 17:26:36.918963\n",
      "\\3.3.0_9757\\experiment--2015_03_25_16_26_40\\slide--S00\\chamber--U00--V00\\field--X00--Y00\\image--L0000--S00--U00--V00--J429--E00--O00--X00--Y00--T0000--Z00--C01.ome.tif\n",
      "Scanning well (10,2)\n",
      "2015-03-25 17:28:31.398511\n",
      "\\3.3.0_9757\\experiment--2015_03_25_16_28_34\\slide--S00\\chamber--U00--V00\\field--X00--Y00\\image--L0000--S00--U00--V00--J433--E00--O00--X00--Y00--T0000--Z00--C01.ome.tif\n",
      "Scanning well (10,3)\n",
      "2015-03-25 17:30:25.318027\n",
      "\\3.3.0_9757\\experiment--2015_03_25_16_30_28\\slide--S00\\chamber--U00--V00\\field--X00--Y00\\image--L0000--S00--U00--V00--J437--E00--O00--X00--Y00--T0000--Z00--C01.ome.tif\n",
      "Scanning well (10,4)\n",
      "2015-03-25 17:32:20.157595\n",
      "\\3.3.0_9757\\experiment--2015_03_25_16_32_23\\slide--S00\\chamber--U00--V00\\field--X00--Y00\\image--L0000--S00--U00--V00--J441--E00--O00--X00--Y00--T0000--Z00--C01.ome.tif\n",
      "Scanning well (10,5)\n",
      "2015-03-25 17:34:15.017165\n",
      "\\3.3.0_9757\\experiment--2015_03_25_16_34_18\\slide--S00\\chamber--U00--V00\\field--X00--Y00\\image--L0000--S00--U00--V00--J445--E00--O00--X00--Y00--T0000--Z00--C01.ome.tif\n",
      "Scanning well (10,6)\n",
      "2015-03-25 17:36:07.976626\n",
      "\\3.3.0_9757\\experiment--2015_03_25_16_36_11\\slide--S00\\chamber--U00--V00\\field--X00--Y00\\image--L0000--S00--U00--V00--J449--E00--O00--X00--Y00--T0000--Z00--C01.ome.tif\n",
      "Scanning well (10,7)\n",
      "2015-03-25 17:38:02.936201\n",
      "\\3.3.0_9757\\experiment--2015_03_25_16_38_06\\slide--S00\\chamber--U00--V00\\field--X00--Y00\\image--L0000--S00--U00--V00--J453--E00--O00--X00--Y00--T0000--Z00--C01.ome.tif\n",
      "Scanning well (11,7)\n",
      "2015-03-25 17:39:57.785770\n",
      "\\3.3.0_9757\\experiment--2015_03_25_16_40_01\\slide--S00\\chamber--U00--V00\\field--X00--Y00\\image--L0000--S00--U00--V00--J457--E00--O00--X00--Y00--T0000--Z00--C01.ome.tif\n",
      "Scanning well (11,6)\n",
      "2015-03-25 17:41:52.135310\n",
      "\\3.3.0_9757\\experiment--2015_03_25_16_41_55\\slide--S00\\chamber--U00--V00\\field--X00--Y00\\image--L0000--S00--U00--V00--J461--E00--O00--X00--Y00--T0000--Z00--C01.ome.tif\n",
      "Scanning well (11,5)\n",
      "2015-03-25 17:43:47.974936\n",
      "\\3.3.0_9757\\experiment--2015_03_25_16_43_51\\slide--S00\\chamber--U00--V00\\field--X00--Y00\\image--L0000--S00--U00--V00--J465--E00--O00--X00--Y00--T0000--Z00--C01.ome.tif\n",
      "Scanning well (11,4)\n",
      "2015-03-25 17:45:41.904452\n",
      "\\3.3.0_9757\\experiment--2015_03_25_16_45_45\\slide--S00\\chamber--U00--V00\\field--X00--Y00\\image--L0000--S00--U00--V00--J469--E00--O00--X00--Y00--T0000--Z00--C01.ome.tif\n",
      "Scanning well (11,3)\n",
      "2015-03-25 17:47:35.263936\n",
      "\\3.3.0_9757\\experiment--2015_03_25_16_47_38\\slide--S00\\chamber--U00--V00\\field--X00--Y00\\image--L0000--S00--U00--V00--J473--E00--O00--X00--Y00--T0000--Z00--C01.ome.tif\n",
      "Scanning well (11,2)\n",
      "2015-03-25 17:49:30.643536\n",
      "\\3.3.0_9757\\experiment--2015_03_25_16_49_34\\slide--S00\\chamber--U00--V00\\field--X00--Y00\\image--L0000--S00--U00--V00--J477--E00--O00--X00--Y00--T0000--Z00--C01.ome.tif\n",
      "Scanning well (11,1)\n",
      "2015-03-25 17:51:25.983133\n",
      "\\3.3.0_9757\\experiment--2015_03_25_16_51_29\\slide--S00\\chamber--U00--V00\\field--X00--Y00\\image--L0000--S00--U00--V00--J481--E00--O00--X00--Y00--T0000--Z00--C01.ome.tif\n"
     ]
    },
    {
     "ename": "KeyboardInterrupt",
     "evalue": "",
     "output_type": "error",
     "traceback": [
      "\u001b[1;31m---------------------------------------------------------------------------\u001b[0m",
      "\u001b[1;31mKeyboardInterrupt\u001b[0m                         Traceback (most recent call last)",
      "\u001b[1;32m<ipython-input-283-f27a65dc2f28>\u001b[0m in \u001b[0;36m<module>\u001b[1;34m()\u001b[0m\n\u001b[0;32m     31\u001b[0m         \u001b[0mprint\u001b[0m\u001b[1;33m(\u001b[0m\u001b[0mwaitfor\u001b[0m\u001b[1;33m(\u001b[0m\u001b[0mcam\u001b[0m\u001b[1;33m,\u001b[0m \u001b[1;34m'relpath'\u001b[0m\u001b[1;33m)\u001b[0m\u001b[1;33m[\u001b[0m\u001b[1;34m'relpath'\u001b[0m\u001b[1;33m]\u001b[0m\u001b[1;33m)\u001b[0m\u001b[1;33m\u001b[0m\u001b[0m\n\u001b[0;32m     32\u001b[0m         \u001b[0msys\u001b[0m\u001b[1;33m.\u001b[0m\u001b[0mstdout\u001b[0m\u001b[1;33m.\u001b[0m\u001b[0mflush\u001b[0m\u001b[1;33m(\u001b[0m\u001b[1;33m)\u001b[0m\u001b[1;33m\u001b[0m\u001b[0m\n\u001b[1;32m---> 33\u001b[1;33m         \u001b[0mwaitfor\u001b[0m\u001b[1;33m(\u001b[0m\u001b[0mcam\u001b[0m\u001b[1;33m,\u001b[0m \u001b[1;34m'inf'\u001b[0m\u001b[1;33m,\u001b[0m \u001b[1;34m'scanfinished'\u001b[0m\u001b[1;33m)\u001b[0m\u001b[1;33m\u001b[0m\u001b[0m\n\u001b[0m",
      "\u001b[1;32m<ipython-input-280-999450c50fec>\u001b[0m in \u001b[0;36mwaitfor\u001b[1;34m(cam, key, value)\u001b[0m\n\u001b[0;32m      8\u001b[0m             \u001b[1;32melif\u001b[0m \u001b[1;32mnot\u001b[0m \u001b[0mvalue\u001b[0m \u001b[1;32mand\u001b[0m \u001b[0mmsg\u001b[0m\u001b[1;33m.\u001b[0m\u001b[0mget\u001b[0m\u001b[1;33m(\u001b[0m\u001b[0mkey\u001b[0m\u001b[1;33m)\u001b[0m\u001b[1;33m:\u001b[0m\u001b[1;33m\u001b[0m\u001b[0m\n\u001b[0;32m      9\u001b[0m                 \u001b[1;32mreturn\u001b[0m \u001b[0mmsg\u001b[0m\u001b[1;33m\u001b[0m\u001b[0m\n\u001b[1;32m---> 10\u001b[1;33m         \u001b[0msleep\u001b[0m\u001b[1;33m(\u001b[0m\u001b[1;36m10e-3\u001b[0m\u001b[1;33m)\u001b[0m\u001b[1;33m\u001b[0m\u001b[0m\n\u001b[0m",
      "\u001b[1;31mKeyboardInterrupt\u001b[0m: "
     ]
    }
   ],
   "source": [
    "n = 1\n",
    "for i in range(max_well_x):\n",
    "    for j in range(max_well_y):\n",
    "        # count downwards on every second column, scanning in zick zack\n",
    "        if i % 2 == 1:\n",
    "            j = -(j+1) % max_well_y\n",
    "\n",
    "        well = next((r for r in regions if r.well_x == i and r.well_y == j), None)\n",
    "        if not well:\n",
    "            continue\n",
    "\n",
    "        print('Scanning well ({},{})'.format(i,j), flush=True)\n",
    "\n",
    "        # create template, alternate between tmpl_name0/1.xml because of\n",
    "        # a bug in LASAF (not loading the same name twice)\n",
    "        tmpl = ScanningTemplate(tmpl_name + str(n%2) + '.xml')\n",
    "        n += 1\n",
    "\n",
    "        tmpl.move_well(1, 1, well.real_x - 652e-6, well.real_y - 652e-6)\n",
    "        tmpl.write()\n",
    "\n",
    "        cam.load_template(tmpl.filename)\n",
    "        waitfor(cam, 'cmd', 'load')\n",
    "        \n",
    "        cam.send([('cmd', 'autofocusscan')])\n",
    "        waitfor(cam, 'inf', 'scanfinished')\n",
    "             \n",
    "        cam.start_scan()\n",
    "        print(datetime.now())\n",
    "        print(waitfor(cam, 'relpath')['relpath'], flush=True)\n",
    "\n",
    "        waitfor(cam, 'inf', 'scanfinished')"
   ]
  }
 ],
 "metadata": {
  "kernelspec": {
   "display_name": "Python 3",
   "language": "python",
   "name": "python3"
  },
  "language_info": {
   "codemirror_mode": {
    "name": "ipython",
    "version": 3
   },
   "file_extension": ".py",
   "mimetype": "text/x-python",
   "name": "python",
   "nbconvert_exporter": "python",
   "pygments_lexer": "ipython3",
   "version": "3.4.1"
  }
 },
 "nbformat": 4,
 "nbformat_minor": 0
}
