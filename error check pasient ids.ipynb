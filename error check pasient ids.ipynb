{
 "cells": [
  {
   "cell_type": "code",
   "execution_count": 2,
   "metadata": {
    "collapsed": true
   },
   "outputs": [],
   "source": [
    "def friendly_assert(condition, msg):\n",
    "    try:\n",
    "        assert condition\n",
    "    except AssertionError:\n",
    "        print(msg)\n",
    "        return False\n",
    "    return True"
   ]
  },
  {
   "cell_type": "code",
   "execution_count": 7,
   "metadata": {
    "collapsed": true
   },
   "outputs": [],
   "source": [
    "import re\n",
    "import numpy as np\n",
    "import pandas"
   ]
  },
  {
   "cell_type": "code",
   "execution_count": 5,
   "metadata": {
    "collapsed": false
   },
   "outputs": [],
   "source": [
    "pandas.set_option('display.max_columns', 347)\n",
    "data = pandas.read_stata('data/clinic_data.dta', convert_categoricals=False)"
   ]
  },
  {
   "cell_type": "code",
   "execution_count": 36,
   "metadata": {
    "collapsed": false,
    "scrolled": false
   },
   "outputs": [
    {
     "name": "stdout",
     "output_type": "stream",
     "text": [
      " TP2, row  3, col  6 - pasient id missing in db: 66\n",
      " TP3, row  1, col  3 - pasient id did not increment: ['68-1', '68-2', '68-3'] < ['102b-1', '102b-2', '102b-3']\n",
      " TP3, row  1, col  3 - id 68, wrong TP_nr in db: 3.0 != 2.0\n",
      " TP3, row  9, col  6 - TP_nr not registered in db for ID_deltaker 140\n",
      " TP4, row  1, col  3 - pasient id did not increment: ['162a-1', '162a-2', '162a-3'] < ['163-1', '163-2', '163-3']\n",
      " TP5, row  9, col  9 - TP_nr not registered in db for ID_deltaker 251\n",
      " TP6, row  1, col  3 - pasient id did not increment: ['209-1', '209-2', '209-3'] < ['268-1', '268-2', '268-3']\n",
      " TP6, row  1, col  3 - id 209, wrong TP_nr in db: 6.0 != 4.0\n",
      " TP6, row  1, col  6 - id 221, wrong TP_nr in db: 6.0 != 5.0\n",
      " TP6, row  1, col  9 - pasient id missing in db: 222\n",
      " TP9, row 10, col  9 - there should be 3 samples: ['467a-1']\n",
      " TP9, row 11, col  3 - there should be 3 samples: ['467b-1', '467b-2']\n",
      " TP9, row 12, col  6 - there should be 3 samples: ['471a-1', '471a-2']\n",
      " TP9, row 12, col  9 - there should be 3 samples: ['471b-1']\n",
      "TP10, row  8, col  6 - there should be 3 samples: ['507-1', '507-2']\n",
      "TP10, row 12, col  6 - there should be 3 samples: ['525-2', '525-3']\n",
      "TP11, row  6, col  3 - pasient id did not increment: ['549-1', '549-2', '549-3'] < ['552-1', '552-2', '552-3']\n",
      "TP11, row 11, col  6 - there should be 3 samples: ['566-1', '566-2']\n",
      "TP22, row  2, col  6 - pasient id did not increment: ['130-1', '130-2', '130-3'] < ['3067-1', '3067-2', '3067-3']\n",
      "TP22, row  2, col  6 - id 130, wrong TP_nr in db: 22.0 != 3.0\n",
      "TP22, row  2, col  9 - id 244, wrong TP_nr in db: 22.0 != 5.0\n",
      "TP22, row  3, col  3 - id 281, wrong TP_nr in db: 22.0 != 6.0\n",
      "TP22, row  3, col  6 - id 296, wrong TP_nr in db: 22.0 != 6.0\n",
      "TP22, row  3, col  9 - id 309, wrong TP_nr in db: 22.0 != 6.0\n",
      "TP22, row  4, col  3 - id 318, wrong TP_nr in db: 22.0 != 6.0\n",
      "TP22, row  4, col  6 - id 376, wrong TP_nr in db: 22.0 != 7.0\n",
      "TP22, row  4, col  9 - id 396, wrong TP_nr in db: 22.0 != 8.0\n",
      "TP22, row  5, col  3 - id 413, wrong TP_nr in db: 22.0 != 8.0\n",
      "TP22, row  5, col  6 - id 449, wrong TP_nr in db: 22.0 != 9.0\n",
      "TP22, row  5, col  9 - id 453, wrong TP_nr in db: 22.0 != 9.0\n",
      "TP22, row  6, col  3 - id 487, wrong TP_nr in db: 22.0 != 10.0\n",
      "TP22, row  6, col  6 - id 493, wrong TP_nr in db: 22.0 != 10.0\n",
      "TP22, row  6, col  9 - id 525, wrong TP_nr in db: 22.0 != 10.0\n",
      "TP22, row  7, col  3 - id 728, wrong TP_nr in db: 22.0 != 15.0\n"
     ]
    }
   ],
   "source": [
    "f = open('data/ids/OCR_all.txt')\n",
    "\n",
    "last_pasient_ids = [] # temp variable to hold up to three ids\n",
    "prev_pasient_id = 0 # temp variable for previous pasient id\n",
    "prev_pasient_ids = []\n",
    "for line in f:\n",
    "    line = line.strip()\n",
    "    if 'TP' in line:\n",
    "        # line with TP[0-9]+\n",
    "        tp = line\n",
    "        TP = float(re.findall('[0-9]+', tp)[0])\n",
    "        i = 0\n",
    "        continue\n",
    "    if not line:\n",
    "        # empty line\n",
    "        continue\n",
    "    if len(last_pasient_ids) != 3:\n",
    "        last_pasient_ids.append(line)\n",
    "    if len(last_pasient_ids) == 3:\n",
    "        # remove empty sylinders\n",
    "        last_pasient_ids = [id_ for id_ in last_pasient_ids if 'ingen sylinder' not in id_]\n",
    "\n",
    "        # row, col\n",
    "        r = i//9 + 1\n",
    "        c = i%9 + 1\n",
    "        pre = '%4s, row %2s, col %2s - ' % (tp, r, c)\n",
    "        # ids should be splitted with an -\n",
    "        for id_ in last_pasient_ids:\n",
    "            friendly_assert('-' in id_, pre + 'pasient id should be formatted 123-1: %s' % id_)\n",
    "        \n",
    "        p_ids = set([x.split('-')[0] for x in last_pasient_ids])\n",
    "        # all pasient ids should be the same\n",
    "        friendly_assert(len(p_ids) == 1, pre + \"pasient id not the same: %s\" % last_pasient_ids)\n",
    "        \n",
    "        try:\n",
    "            s_ids = [x.split('-')[1] for x in last_pasient_ids]\n",
    "        except IndexError:\n",
    "            # wrongly formated pasient id\n",
    "            pass\n",
    "        # sample id should be 1,2,3\n",
    "        res = friendly_assert(len(s_ids) == 3, pre + 'there should be 3 samples: %s' % last_pasient_ids)\n",
    "        if res:\n",
    "            friendly_assert('1' in s_ids and '2' in s_ids and '3' in s_ids, pre + \"sample ids not 1,2,3:    %s\" % last_pasient_ids)\n",
    "        \n",
    "        # pasient id should increment\n",
    "        p_id = p_ids.pop()\n",
    "        p_id = next(iter(re.findall(r'[0-9]+', p_id)), 0) # in case not formatted correctly\n",
    "        p_id = int(p_id)\n",
    "        friendly_assert(p_id >= prev_pasient_id, pre + \"pasient id did not increment: %s < %s\" % (last_pasient_ids, prev_pasient_ids))\n",
    "        \n",
    "        # pasient should be in database\n",
    "        res = friendly_assert(np.any(data.ID_deltaker == p_id), pre + \"pasient id missing in db: %s\" % p_id)\n",
    "        if res:\n",
    "            # exists\n",
    "            TP_db = next(iter(data.loc[data.ID_deltaker == p_id, 'TP_nr']), np.nan)\n",
    "            if np.isfinite(TP_db):\n",
    "                friendly_assert(TP == TP_db, pre + \"id %s, wrong TP_nr in db: %s != %s\" % (p_id, TP, TP_db))\n",
    "            else:\n",
    "                print(pre + \"TP_nr not registered in db for ID_deltaker %s\" % p_id)\n",
    "        \n",
    "        # set/reset temp variables\n",
    "        prev_pasient_id = p_id\n",
    "        prev_pasient_ids = last_pasient_ids\n",
    "        last_pasient_ids = []\n",
    "    \n",
    "    i+=1\n",
    "\n",
    "f.close()"
   ]
  },
  {
   "cell_type": "code",
   "execution_count": 37,
   "metadata": {
    "collapsed": false
   },
   "outputs": [],
   "source": [
    "df = pandas.DataFrame(columns=['TP_nr', 'ID_deltaker'])"
   ]
  },
  {
   "cell_type": "code",
   "execution_count": 38,
   "metadata": {
    "collapsed": false
   },
   "outputs": [
    {
     "data": {
      "text/html": [
       "<div style=\"max-height:1000px;max-width:1500px;overflow:auto;\">\n",
       "<table border=\"1\" class=\"dataframe\">\n",
       "  <thead>\n",
       "    <tr style=\"text-align: right;\">\n",
       "      <th></th>\n",
       "      <th>ID_deltaker</th>\n",
       "      <th>TP_nr</th>\n",
       "    </tr>\n",
       "  </thead>\n",
       "  <tbody>\n",
       "    <tr>\n",
       "      <th>1</th>\n",
       "      <td>2</td>\n",
       "      <td>23</td>\n",
       "    </tr>\n",
       "  </tbody>\n",
       "</table>\n",
       "</div>"
      ],
      "text/plain": [
       "   ID_deltaker  TP_nr\n",
       "1            2     23"
      ]
     },
     "execution_count": 38,
     "metadata": {},
     "output_type": "execute_result"
    }
   ],
   "source": [
    "df.append(pandas.DataFrame({'TP_nr': 23, 'ID_deltaker': 2}, index=[1]))"
   ]
  },
  {
   "cell_type": "code",
   "execution_count": 39,
   "metadata": {
    "collapsed": false
   },
   "outputs": [
    {
     "data": {
      "text/html": [
       "<div style=\"max-height:1000px;max-width:1500px;overflow:auto;\">\n",
       "<table border=\"1\" class=\"dataframe\">\n",
       "  <thead>\n",
       "    <tr style=\"text-align: right;\">\n",
       "      <th></th>\n",
       "      <th>TP_nr</th>\n",
       "      <th>id</th>\n",
       "    </tr>\n",
       "  </thead>\n",
       "  <tbody>\n",
       "    <tr>\n",
       "      <th>0</th>\n",
       "      <td>1</td>\n",
       "      <td>asdf</td>\n",
       "    </tr>\n",
       "  </tbody>\n",
       "</table>\n",
       "</div>"
      ],
      "text/plain": [
       "   TP_nr    id\n",
       "0      1  asdf"
      ]
     },
     "execution_count": 39,
     "metadata": {},
     "output_type": "execute_result"
    }
   ],
   "source": [
    "pandas.DataFrame({'TP_nr': [1], 'id': ['asdf']})"
   ]
  },
  {
   "cell_type": "code",
   "execution_count": 40,
   "metadata": {
    "collapsed": false
   },
   "outputs": [
    {
     "data": {
      "text/html": [
       "<div style=\"max-height:1000px;max-width:1500px;overflow:auto;\">\n",
       "<table border=\"1\" class=\"dataframe\">\n",
       "  <thead>\n",
       "    <tr style=\"text-align: right;\">\n",
       "      <th></th>\n",
       "      <th>TP_nr</th>\n",
       "      <th>ID_deltaker</th>\n",
       "    </tr>\n",
       "  </thead>\n",
       "  <tbody>\n",
       "  </tbody>\n",
       "</table>\n",
       "</div>"
      ],
      "text/plain": [
       "Empty DataFrame\n",
       "Columns: [TP_nr, ID_deltaker]\n",
       "Index: []"
      ]
     },
     "execution_count": 40,
     "metadata": {},
     "output_type": "execute_result"
    }
   ],
   "source": [
    "df"
   ]
  },
  {
   "cell_type": "code",
   "execution_count": 41,
   "metadata": {
    "collapsed": true
   },
   "outputs": [],
   "source": [
    "import numpy as np"
   ]
  },
  {
   "cell_type": "code",
   "execution_count": 42,
   "metadata": {
    "collapsed": true
   },
   "outputs": [],
   "source": [
    "locations = pandas.DataFrame(columns=['person_id', 'ID_deltaker', 'TMA_navn', 'TP_nr', 'TP_rad', 'TP_kolonne'])"
   ]
  },
  {
   "cell_type": "code",
   "execution_count": 43,
   "metadata": {
    "collapsed": false
   },
   "outputs": [],
   "source": [
    "f = open('data/ids/OCR_all.txt')\n",
    "\n",
    "rows = []\n",
    "for line in f:\n",
    "    line = line.strip()\n",
    "    if 'TP' in line:\n",
    "        # line with TP[0-9]+\n",
    "        tp = line\n",
    "        TP = float(re.findall('[0-9]+', tp)[0])\n",
    "        i = 0\n",
    "        continue\n",
    "    if not line:\n",
    "        # empty line\n",
    "        continue\n",
    "    if 'ingen sylinder' in line:\n",
    "        # emtpy sylinder\n",
    "        continue\n",
    "    # row, col\n",
    "    r = i//9 + 1\n",
    "    c = i%9 + 1\n",
    "        \n",
    "    d_id = int(re.findall('[0-9]+', line)[0]) # not including a/b, eg 162a -> 162\n",
    "    assert d_id > 0\n",
    "    s_id = int(line.split('-')[1])\n",
    "    assert (s_id == 1 or s_id == 2 or s_id == 3)\n",
    "    \n",
    "    person_id = next(iter(data.loc[data.ID_deltaker == d_id, 'person_id']), np.nan)\n",
    "    \n",
    "    rows.append({\n",
    "            'person_id': person_id, \n",
    "            'ID_deltaker': d_id,\n",
    "            'TMA_navn': line,\n",
    "            'TP_nr': TP,\n",
    "            'TP_rad': r,\n",
    "            'TP_kolonne': c\n",
    "        })    \n",
    "    i+=1\n",
    "\n",
    "    \n",
    "locations = locations.append(rows, ignore_index=True)\n",
    "f.close()"
   ]
  },
  {
   "cell_type": "code",
   "execution_count": 44,
   "metadata": {
    "collapsed": false
   },
   "outputs": [
    {
     "data": {
      "text/plain": [
       "(True, False, False, 1056)"
      ]
     },
     "execution_count": 44,
     "metadata": {},
     "output_type": "execute_result"
    }
   ],
   "source": [
    "np.any(data.ID_deltaker == 1101), 1101 in data.ID_deltaker, 1101.0 in data.ID_deltaker, len(data.ID_deltaker == 1101)"
   ]
  },
  {
   "cell_type": "code",
   "execution_count": 48,
   "metadata": {
    "collapsed": false
   },
   "outputs": [
    {
     "data": {
      "text/html": [
       "<div style=\"max-height:1000px;max-width:1500px;overflow:auto;\">\n",
       "<table border=\"1\" class=\"dataframe\">\n",
       "  <thead>\n",
       "    <tr style=\"text-align: right;\">\n",
       "      <th></th>\n",
       "      <th>person_id</th>\n",
       "      <th>ID_deltaker</th>\n",
       "      <th>TMA_navn</th>\n",
       "      <th>TP_nr</th>\n",
       "      <th>TP_rad</th>\n",
       "      <th>TP_kolonne</th>\n",
       "    </tr>\n",
       "  </thead>\n",
       "  <tbody>\n",
       "    <tr>\n",
       "      <th>0</th>\n",
       "      <td>83522</td>\n",
       "      <td>1</td>\n",
       "      <td>1-1</td>\n",
       "      <td>1</td>\n",
       "      <td>1</td>\n",
       "      <td>1</td>\n",
       "    </tr>\n",
       "    <tr>\n",
       "      <th>1</th>\n",
       "      <td>83522</td>\n",
       "      <td>1</td>\n",
       "      <td>1-2</td>\n",
       "      <td>1</td>\n",
       "      <td>1</td>\n",
       "      <td>2</td>\n",
       "    </tr>\n",
       "    <tr>\n",
       "      <th>2</th>\n",
       "      <td>83522</td>\n",
       "      <td>1</td>\n",
       "      <td>1-3</td>\n",
       "      <td>1</td>\n",
       "      <td>1</td>\n",
       "      <td>3</td>\n",
       "    </tr>\n",
       "  </tbody>\n",
       "</table>\n",
       "</div>"
      ],
      "text/plain": [
       "   person_id  ID_deltaker TMA_navn  TP_nr  TP_rad  TP_kolonne\n",
       "0      83522            1      1-1      1       1           1\n",
       "1      83522            1      1-2      1       1           2\n",
       "2      83522            1      1-3      1       1           3"
      ]
     },
     "execution_count": 48,
     "metadata": {},
     "output_type": "execute_result"
    }
   ],
   "source": [
    "locations[locations['ID_deltaker'] == 1]"
   ]
  },
  {
   "cell_type": "code",
   "execution_count": 46,
   "metadata": {
    "collapsed": false
   },
   "outputs": [
    {
     "data": {
      "text/html": [
       "<div style=\"max-height:1000px;max-width:1500px;overflow:auto;\">\n",
       "<table border=\"1\" class=\"dataframe\">\n",
       "  <thead>\n",
       "    <tr style=\"text-align: right;\">\n",
       "      <th></th>\n",
       "      <th>person_id</th>\n",
       "      <th>ID_deltaker</th>\n",
       "      <th>TMA_navn</th>\n",
       "      <th>TP_nr</th>\n",
       "      <th>TP_rad</th>\n",
       "      <th>TP_kolonne</th>\n",
       "    </tr>\n",
       "  </thead>\n",
       "  <tbody>\n",
       "    <tr>\n",
       "      <th>147</th>\n",
       "      <td>NaN</td>\n",
       "      <td>66</td>\n",
       "      <td>66-1</td>\n",
       "      <td>2</td>\n",
       "      <td>3</td>\n",
       "      <td>4</td>\n",
       "    </tr>\n",
       "    <tr>\n",
       "      <th>148</th>\n",
       "      <td>NaN</td>\n",
       "      <td>66</td>\n",
       "      <td>66-2</td>\n",
       "      <td>2</td>\n",
       "      <td>3</td>\n",
       "      <td>5</td>\n",
       "    </tr>\n",
       "    <tr>\n",
       "      <th>149</th>\n",
       "      <td>NaN</td>\n",
       "      <td>66</td>\n",
       "      <td>66-3</td>\n",
       "      <td>2</td>\n",
       "      <td>3</td>\n",
       "      <td>6</td>\n",
       "    </tr>\n",
       "    <tr>\n",
       "      <th>636</th>\n",
       "      <td>NaN</td>\n",
       "      <td>222</td>\n",
       "      <td>222-1</td>\n",
       "      <td>6</td>\n",
       "      <td>1</td>\n",
       "      <td>7</td>\n",
       "    </tr>\n",
       "    <tr>\n",
       "      <th>637</th>\n",
       "      <td>NaN</td>\n",
       "      <td>222</td>\n",
       "      <td>222-2</td>\n",
       "      <td>6</td>\n",
       "      <td>1</td>\n",
       "      <td>8</td>\n",
       "    </tr>\n",
       "    <tr>\n",
       "      <th>638</th>\n",
       "      <td>NaN</td>\n",
       "      <td>222</td>\n",
       "      <td>222-3</td>\n",
       "      <td>6</td>\n",
       "      <td>1</td>\n",
       "      <td>9</td>\n",
       "    </tr>\n",
       "  </tbody>\n",
       "</table>\n",
       "</div>"
      ],
      "text/plain": [
       "     person_id  ID_deltaker TMA_navn  TP_nr  TP_rad  TP_kolonne\n",
       "147        NaN           66     66-1      2       3           4\n",
       "148        NaN           66     66-2      2       3           5\n",
       "149        NaN           66     66-3      2       3           6\n",
       "636        NaN          222    222-1      6       1           7\n",
       "637        NaN          222    222-2      6       1           8\n",
       "638        NaN          222    222-3      6       1           9"
      ]
     },
     "execution_count": 46,
     "metadata": {},
     "output_type": "execute_result"
    }
   ],
   "source": [
    "locations.loc[np.isnan(locations.person_id)]"
   ]
  },
  {
   "cell_type": "code",
   "execution_count": 47,
   "metadata": {
    "collapsed": false
   },
   "outputs": [],
   "source": [
    "locations.to_stata('data/ids/locations.dta')"
   ]
  }
 ],
 "metadata": {
  "kernelspec": {
   "display_name": "Python 3",
   "language": "python",
   "name": "python3"
  },
  "language_info": {
   "codemirror_mode": {
    "name": "ipython",
    "version": 3
   },
   "file_extension": ".py",
   "mimetype": "text/x-python",
   "name": "python",
   "nbconvert_exporter": "python",
   "pygments_lexer": "ipython3",
   "version": "3.4.1"
  }
 },
 "nbformat": 4,
 "nbformat_minor": 0
}
