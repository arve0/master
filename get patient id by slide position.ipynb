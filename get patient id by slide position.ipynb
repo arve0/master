{
 "cells": [
  {
   "cell_type": "code",
   "execution_count": 52,
   "metadata": {
    "collapsed": false
   },
   "outputs": [
    {
     "data": {
      "text/plain": [
       "12    2\n",
       "Name: GRAD, dtype: float32"
      ]
     },
     "execution_count": 52,
     "metadata": {},
     "output_type": "execute_result"
    }
   ],
   "source": [
    "import pandas as pd\n",
    "\n",
    "# read databases\n",
    "locations = pd.read_stata('data/ids/locations.dta')\n",
    "clinical_data = pd.read_stata('data/clinic_data.dta')\n",
    "\n",
    "# position query\n",
    "condition = (locations.TP_nr == 1) & \\\n",
    "            (locations.TP_rad == 3) & \\\n",
    "            (locations.TP_kolonne == 5)\n",
    "\n",
    "# get patient id\n",
    "patient_id = locations[condition]['ID_deltaker']\n",
    "\n",
    "# check exactly 1 patient registered at given row/col\n",
    "assert len(patient_id) == 1\n",
    "\n",
    "# clinical data query\n",
    "condition = clinical_data.ID_deltaker == patient_id.iloc[0]\n",
    "\n",
    "# get outcome\n",
    "outcome = clinical_data[condition]['GRAD']\n",
    "outcome"
   ]
  }
 ],
 "metadata": {
  "kernelspec": {
   "display_name": "Python 3",
   "language": "python",
   "name": "python3"
  },
  "language_info": {
   "codemirror_mode": {
    "name": "ipython",
    "version": 3
   },
   "file_extension": ".py",
   "mimetype": "text/x-python",
   "name": "python",
   "nbconvert_exporter": "python",
   "pygments_lexer": "ipython3",
   "version": "3.4.1"
  }
 },
 "nbformat": 4,
 "nbformat_minor": 0
}
