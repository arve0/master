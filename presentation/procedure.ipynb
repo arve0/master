{
 "cells": [
  {
   "cell_type": "markdown",
   "metadata": {},
   "source": [
    "# Automated TMA scanning\n",
    "Procedure for automated tissue microarray scanning on Leica SP8."
   ]
  },
  {
   "cell_type": "markdown",
   "metadata": {},
   "source": [
    "## Import libraries"
   ]
  },
  {
   "cell_type": "code",
   "execution_count": null,
   "metadata": {
    "collapsed": true
   },
   "outputs": [],
   "source": [
    "%run ../utils.ipynb"
   ]
  },
  {
   "cell_type": "code",
   "execution_count": null,
   "metadata": {
    "collapsed": true
   },
   "outputs": [],
   "source": [
    "# communication with microscope\n",
    "from leicacam import CAM\n",
    "cam = CAM()"
   ]
  },
  {
   "cell_type": "code",
   "execution_count": null,
   "metadata": {
    "collapsed": true
   },
   "outputs": [],
   "source": [
    "import os\n",
    "from leicaexperiment import Experiment"
   ]
  },
  {
   "cell_type": "code",
   "execution_count": null,
   "metadata": {
    "collapsed": true
   },
   "outputs": [],
   "source": [
    "from leicaexperiment import attributes\n",
    "from leicaautomator.utils import stitch\n",
    "from skimage.io import imsave"
   ]
  },
  {
   "cell_type": "code",
   "execution_count": 6,
   "metadata": {
    "collapsed": true
   },
   "outputs": [],
   "source": [
    "from leicaautomator import find_tma_regions, construct_stage_position"
   ]
  },
  {
   "cell_type": "code",
   "execution_count": null,
   "metadata": {
    "collapsed": true
   },
   "outputs": [],
   "source": [
    "from leicaautomator.utils import zick_zack_sort, save_regions"
   ]
  },
  {
   "cell_type": "markdown",
   "metadata": {},
   "source": [
    "## Adjusting specimen-plane\n",
    "- Measure each corner of your sample and adjust the specimen-plane accordingly"
   ]
  },
  {
   "cell_type": "code",
   "execution_count": null,
   "metadata": {
    "collapsed": true
   },
   "outputs": [],
   "source": [
    "top_left = cam.get_information('zdrive')['zpos']"
   ]
  },
  {
   "cell_type": "code",
   "execution_count": null,
   "metadata": {
    "collapsed": true
   },
   "outputs": [],
   "source": [
    "bottom_left = cam.get_information('zdrive')['zpos']"
   ]
  },
  {
   "cell_type": "code",
   "execution_count": null,
   "metadata": {
    "collapsed": true
   },
   "outputs": [],
   "source": [
    "bottom_right = cam.get_information('zdrive')['zpos']"
   ]
  },
  {
   "cell_type": "code",
   "execution_count": null,
   "metadata": {
    "collapsed": true
   },
   "outputs": [],
   "source": [
    "top_right = cam.get_information('zdrive')['zpos']"
   ]
  },
  {
   "cell_type": "code",
   "execution_count": null,
   "metadata": {
    "collapsed": true
   },
   "outputs": [],
   "source": [
    "top_left, top_right, bottom_left, bottom_right"
   ]
  },
  {
   "cell_type": "markdown",
   "metadata": {},
   "source": [
    "## Overview images\n",
    "- define and start the overview scan before running blocks"
   ]
  },
  {
   "cell_type": "code",
   "execution_count": null,
   "metadata": {
    "collapsed": true
   },
   "outputs": [],
   "source": [
    "export_root = r'd:\\MatrixScreenerImages' + '\\\\'"
   ]
  },
  {
   "cell_type": "code",
   "execution_count": null,
   "metadata": {
    "collapsed": true
   },
   "outputs": [],
   "source": [
    "relpath = cam.wait_for('relpath')['relpath']"
   ]
  },
  {
   "cell_type": "code",
   "execution_count": null,
   "metadata": {
    "collapsed": true
   },
   "outputs": [],
   "source": [
    "experiment_path = os.path.join(export_root, *relpath.split(os.sep)[:-4])"
   ]
  },
  {
   "cell_type": "code",
   "execution_count": null,
   "metadata": {
    "collapsed": true
   },
   "outputs": [],
   "source": [
    "experiment = Experiment(experiment_path)\n",
    "cam.wait_for('inf', 'scanfinished')\n",
    "experiment.compress(delete_tif=True);"
   ]
  },
  {
   "cell_type": "markdown",
   "metadata": {},
   "source": [
    "### rotate"
   ]
  },
  {
   "cell_type": "code",
   "execution_count": null,
   "metadata": {
    "collapsed": true
   },
   "outputs": [],
   "source": [
    "for i in experiment.images:\n",
    "    img = Image.open(i)\n",
    "    img = img.rotate(270)\n",
    "    img.save(i)"
   ]
  },
  {
   "cell_type": "markdown",
   "metadata": {},
   "source": [
    "### equalize"
   ]
  },
  {
   "cell_type": "code",
   "execution_count": null,
   "metadata": {
    "collapsed": true
   },
   "outputs": [],
   "source": [
    "experiment = equalize_experiment(experiment) # code in utils.ipynb"
   ]
  },
  {
   "cell_type": "markdown",
   "metadata": {},
   "source": [
    "### stitch"
   ]
  },
  {
   "cell_type": "code",
   "execution_count": null,
   "metadata": {
    "collapsed": true
   },
   "outputs": [],
   "source": [
    "stitched, offset = stitch(experiment)\n",
    "stitched_filename = experiment.path+os.sep+'stitched--U'+attr.U+'V--'+attr.V+'C--'+attr.C+'Z--'+attr.Z+'.png'\n",
    "imsave(stitched_filename, stitched)"
   ]
  },
  {
   "cell_type": "markdown",
   "metadata": {},
   "source": [
    "## Find regions to scan"
   ]
  },
  {
   "cell_type": "code",
   "execution_count": 7,
   "metadata": {
    "collapsed": true
   },
   "outputs": [],
   "source": [
    "tma_regions = find_tma_regions(stitched)\n",
    "stage_position = construct_stage_position(experiment, offset)\n",
    "stage_position(1000, 2456) # stage position of pixel (1000, 2456) (y, x)"
   ]
  },
  {
   "cell_type": "markdown",
   "metadata": {},
   "source": [
    "## Scan"
   ]
  },
  {
   "cell_type": "code",
   "execution_count": null,
   "metadata": {
    "collapsed": true
   },
   "outputs": [],
   "source": [
    "tmpl_path = r\"C:\\Users\\TCS-User\\AppData\\Roaming\\Leica Microsystems\\LAS X\\MatrixScreener\\ScanningTemplates\" + \"\\\\\"\n",
    "tmpl_name = tmpl_path + '{ScanningTemplate}leicaautomator'"
   ]
  },
  {
   "cell_type": "markdown",
   "metadata": {},
   "source": [
    "### calc start position and number of fields to scan"
   ]
  },
  {
   "cell_type": "code",
   "execution_count": null,
   "metadata": {
    "collapsed": true
   },
   "outputs": [],
   "source": [
    "tmpl = ScanningTemplate(tmpl_name + '0.xml')\n",
    "y_distance = tmpl.properties.ScanFieldStageDistanceY * 1e-6 # in microns\n",
    "x_distance = tmpl.properties.ScanFieldStageDistanceX * 1e-6\n",
    "\n",
    "# check that alternating templates match\n",
    "tmpl = ScanningTemplate(tmpl_name + '1.xml')\n",
    "assert y_distance == tmpl.properties.ScanFieldStageDistanceY * 1e-6 # in microns\n",
    "assert x_distance == tmpl.properties.ScanFieldStageDistanceX * 1e-6\n",
    "\n",
    "for r in regions:\n",
    "    minpos = stage_position(r.y, r.x)\n",
    "    maxpos = stage_position(r.y_end, r.x_end)\n",
    "    r.y_start = minpos[0] - y_distance/2\n",
    "    r.x_start = minpos[1] - x_distance/2\n",
    "    r.y_fields = (maxpos[0] - minpos[0]) / y_distance\n",
    "    r.x_fields = (maxpos[1] - minpos[1]) / x_distance"
   ]
  },
  {
   "cell_type": "code",
   "execution_count": null,
   "metadata": {
    "collapsed": true
   },
   "outputs": [],
   "source": [
    "# regions sorted as [r(1,1), r(1,2), r(2,2), r(2,1), r(3,1), r(3,2), ...] # here r(2,1) is region(col=2, row=1)\n",
    "regions = zick_zack_sort(regions, ('well_x', 'well_y'))\n",
    "\n",
    "for n, region in enumerate(regions):\n",
    "    # alternate between tmpl_name0/1.xml\n",
    "    # LAS cannot load same filename twice\n",
    "    tmpl = ScanningTemplate(tmpl_name + str(n%2) + '.xml')\n",
    "    \n",
    "    # set start position and number of fields\n",
    "    tmpl.move_well(1, 1, region.x_start, region.y_start)\n",
    "    tmpl.enable_fields((region.y_fields, region.x_fields))\n",
    "\n",
    "    # autofocus\n",
    "    tmpl.write()\n",
    "    cam.load_template(tmpl.filename)\n",
    "    cam.autofocus_scan()\n",
    "    cam.wait_for('inf', 'scanfinished')\n",
    "\n",
    "    # scan\n",
    "    cam.start_scan()\n",
    "\n",
    "    # record output filename\n",
    "    relpath = cam.wait_for('relpath')['relpath']\n",
    "    region.folder = os.path.join(export_root, *relpath.split(os.sep)[:-4])\n",
    "    \n",
    "    # wait until finished\n",
    "    cam.wait_for('inf', 'scanfinished')\n",
    "    \n",
    "    print('Scanned (%s,%s) (x, y)' % (region.well_x, region.well_y))"
   ]
  },
  {
   "cell_type": "code",
   "execution_count": null,
   "metadata": {
    "collapsed": true
   },
   "outputs": [],
   "source": [
    "# keep experiment data\n",
    "save_regions('regions.pickle.gz', regions)"
   ]
  }
 ],
 "metadata": {
  "kernelspec": {
   "display_name": "Python 3",
   "language": "python",
   "name": "python3"
  },
  "language_info": {
   "codemirror_mode": {
    "name": "ipython",
    "version": 3
   },
   "file_extension": ".py",
   "mimetype": "text/x-python",
   "name": "python",
   "nbconvert_exporter": "python",
   "pygments_lexer": "ipython3",
   "version": "3.4.1"
  }
 },
 "nbformat": 4,
 "nbformat_minor": 0
}
