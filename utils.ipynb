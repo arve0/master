{
 "cells": [
  {
   "cell_type": "code",
   "execution_count": 2,
   "metadata": {
    "collapsed": false
   },
   "outputs": [],
   "source": [
    "%matplotlib inline\n",
    "from skimage import * # utils like img_as_ubyte\n",
    "from skimage import io\n",
    "from skimage.io import imread, imsave, imshow\n",
    "from skimage.transform import resize\n",
    "\n",
    "import matplotlib.pyplot as plt\n",
    "from matplotlib.pyplot import figure, subplot, plot, yticks, xticks\n",
    "from matplotlib.pyplot import legend, colorbar, xlim, ylim\n",
    "# projection='3d'\n",
    "from mpl_toolkits.mplot3d.axes3d import Axes3D\n",
    "\n",
    "from leicaexperiment import Experiment\n",
    "\n",
    "from math import ceil\n",
    "import numpy as np"
   ]
  },
  {
   "cell_type": "code",
   "execution_count": null,
   "metadata": {
    "collapsed": true
   },
   "outputs": [],
   "source": [
    "def imshow_range(img):\n",
    "    \"Show only range of intensities in image.\"\n",
    "    imgplot = io.imshow(img, vmin=img.min(), vmax=img.max())\n",
    "    colorbar()\n",
    "    return imgplot"
   ]
  },
  {
   "cell_type": "code",
   "execution_count": 3,
   "metadata": {
    "collapsed": true
   },
   "outputs": [],
   "source": [
    "def imshow_downscale(img):\n",
    "    \"matplotlib is slooooow, showing downscaled images is speedier\"\n",
    "    if type(img) == str:\n",
    "        img = imread(img)\n",
    "    y,x = img.shape\n",
    "    # downscale factor\n",
    "    k = ceil(y//512+0.1)\n",
    "    imshow(resize(img, (y//k, x//k)))\n",
    "\n",
    "    # real ticks\n",
    "    if y > x:\n",
    "        # less ticks if not square image\n",
    "        y_step = y//6\n",
    "        x_step = int(y_step*x/y)\n",
    "    if x < y:\n",
    "        y_step = y//6\n",
    "        x_step = int(y_step*y/x)\n",
    "    else:\n",
    "        y_step = y//6\n",
    "        x_step = x//6\n",
    "\n",
    "    yticks(range(0,y//k,y_step//k), [str(y) for y in range(0,y,y_step)])\n",
    "    xticks(range(0,x//k,x_step//k), [str(x) for x in range(0,x,x_step)]);"
   ]
  },
  {
   "cell_type": "code",
   "execution_count": 4,
   "metadata": {
    "collapsed": true
   },
   "outputs": [],
   "source": [
    "def side_by_side(*images):\n",
    "    \"view images side by side\"\n",
    "    size = len(images)\n",
    "    figure(figsize=(size*5,5))\n",
    "    for i,img in enumerate(images):\n",
    "        subplot(1, size, i+1)\n",
    "        imshow_downscale(img)"
   ]
  },
  {
   "cell_type": "code",
   "execution_count": 5,
   "metadata": {
    "collapsed": true
   },
   "outputs": [],
   "source": [
    "def merge(img1, img2, dy, dx):\n",
    "    y,x = img1.shape\n",
    "    yy,xx = img2.shape\n",
    "    \n",
    "    if dy >= 0:\n",
    "        y_pos1 = slice(0, y)\n",
    "        y_pos2 = slice(dy, yy+dy)\n",
    "    if dy < 0:\n",
    "        y_pos1 = slice(-dy, y-dy)\n",
    "        y_pos2 = slice(0, yy)\n",
    "    if dx >= 0:\n",
    "        x_pos1 = slice(0, x)\n",
    "        x_pos2 = slice(dx, xx+dx)\n",
    "    if dx < 0:\n",
    "        x_pos1 = slice(-dx, x-dx)\n",
    "        x_pos2 = slice(0, xx)\n",
    "    \n",
    "    Y = max((y_pos1.stop, y_pos2.stop)) - min((y_pos1.start, y_pos2.start))\n",
    "    X = max((x_pos1.stop, x_pos2.stop)) - min((x_pos1.start, x_pos2.start))\n",
    "    \n",
    "    merged = np.zeros((Y,X), dtype=np.int)\n",
    "    merged[y_pos1,x_pos1] += img1\n",
    "    merged[y_pos2,x_pos2] += img2\n",
    "    \n",
    "    # average the overlap\n",
    "    overlap = (slice(dy, y), slice(dx, x))\n",
    "    merged[overlap] //= 2\n",
    "    \n",
    "    return merged.astype(np.uint8)"
   ]
  },
  {
   "cell_type": "code",
   "execution_count": 6,
   "metadata": {
    "collapsed": false
   },
   "outputs": [],
   "source": [
    "def image_axis(ax, ticks=None):\n",
    "    \"Sets tick outward and x ticks on the top\"\n",
    "    ax.xaxis.set_label_position('top') \n",
    "    ax.xaxis.tick_top()\n",
    "    ax.xaxis.set_tick_params(direction='out')\n",
    "\n",
    "    ax.yaxis.tick_left()\n",
    "    ax.yaxis.set_tick_params(direction='out')\n",
    "    \n",
    "    if ticks:\n",
    "        ax.yaxis.set_ticks(ticks)\n",
    "        ax.xaxis.set_ticks(ticks)"
   ]
  },
  {
   "cell_type": "code",
   "execution_count": 27,
   "metadata": {
    "collapsed": false
   },
   "outputs": [],
   "source": [
    "MARGIN = 5 # mm\n",
    "B5 = (250, 176) # y,x mm\n",
    "B5_HEIGTH = (B5[0] - 2*MARGIN) / 25.4 # inches\n",
    "B5_WIDTH = (B5[1] - 2*MARGIN) / 25.4 # inches\n",
    "\n",
    "def savefig(filename, **kwargs):\n",
    "    \"short hand to prevent 600dpi in notebooks\"\n",
    "    fig = plt.gcf()\n",
    "    x,y = fig.get_size_inches()\n",
    "    scale = B5_WIDTH / x\n",
    "    size = B5_WIDTH, y*scale\n",
    "    fig.set_size_inches(size)\n",
    "    plt.savefig(filename, dpi=600, bbox_inches='tight', **kwargs)\n",
    "\n",
    "    fig.set_size_inches((x,y))"
   ]
  },
  {
   "cell_type": "code",
   "execution_count": null,
   "metadata": {
    "collapsed": true
   },
   "outputs": [],
   "source": [
    "# ranges for images\n",
    "def range_img(n):\n",
    "    \"for use with mpl ticks. n = img size\"\n",
    "    return range(0, n+1, (n+1)//4)"
   ]
  },
  {
   "cell_type": "code",
   "execution_count": 1,
   "metadata": {
    "collapsed": false
   },
   "outputs": [
    {
     "name": "stderr",
     "output_type": "stream",
     "text": [
      "/Users/arve/.virtualenvs/3.4/lib/python3.4/site-packages/skimage/viewer/utils/core.py:11: UserWarning: Recommended matplotlib backend is `Agg` for full skimage.viewer functionality.\n",
      "  warnings.warn(\"Recommended matplotlib backend is `Agg` for full \"\n"
     ]
    }
   ],
   "source": [
    "def show_all_images(images):\n",
    "    from skimage import viewer\n",
    "    v = viewer.viewers.CollectionViewer(images)\n",
    "    v.show()"
   ]
  }
 ],
 "metadata": {
  "kernelspec": {
   "display_name": "Python 3",
   "language": "python",
   "name": "python3"
  },
  "language_info": {
   "codemirror_mode": {
    "name": "ipython",
    "version": 3
   },
   "file_extension": ".py",
   "mimetype": "text/x-python",
   "name": "python",
   "nbconvert_exporter": "python",
   "pygments_lexer": "ipython3",
   "version": "3.4.1"
  }
 },
 "nbformat": 4,
 "nbformat_minor": 0
}
