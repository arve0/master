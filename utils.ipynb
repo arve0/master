{
 "cells": [
  {
   "cell_type": "code",
   "execution_count": 2,
   "metadata": {
    "collapsed": true
   },
   "outputs": [],
   "source": [
    "%matplotlib inline\n",
    "from skimage.io import imread, imshow\n",
    "from skimage.transform import resize\n",
    "from matplotlib.pyplot import figure, subplot, plot, yticks, xticks, legend\n",
    "from math import ceil\n",
    "\n",
    "def imshow_downscale(img):\n",
    "    \"matplotlib is slooooow, showing downscaled images is speedier\"\n",
    "    y,x = img.shape\n",
    "    # downscale factor\n",
    "    k = ceil(y//512+0.1)\n",
    "    imshow(resize(img, (y//k, x//k)))\n",
    "\n",
    "    # real ticks\n",
    "    if y > x:\n",
    "        # less ticks if not square image\n",
    "        y_step = y//6\n",
    "        x_step = int(y_step*x/y)\n",
    "    if x < y:\n",
    "        y_step = y//6\n",
    "        x_step = int(y_step*y/x)\n",
    "    else:\n",
    "        y_step = y//6\n",
    "        x_step = x//6\n",
    "\n",
    "    yticks(range(0,y//k,y_step//k), [str(y) for y in range(0,y,y_step)])\n",
    "    xticks(range(0,x//k,x_step//k), [str(x) for x in range(0,x,x_step)]);\n",
    "\n",
    "def side_by_side(*images):\n",
    "    \"view images side by side\"\n",
    "    size = len(images)\n",
    "    figure(figsize=(size*5,5))\n",
    "    for i,img in enumerate(images):\n",
    "        subplot(1, size, i+1)\n",
    "        imshow_downscale(img)"
   ]
  },
  {
   "cell_type": "code",
   "execution_count": 3,
   "metadata": {
    "collapsed": true
   },
   "outputs": [],
   "source": [
    "import numpy as np\n",
    "\n",
    "def stitch(img1, img2, dy, dx):\n",
    "    y,x = img1.shape\n",
    "    yy,xx = img2.shape\n",
    "    \n",
    "    if dy >= 0:\n",
    "        y_pos1 = slice(0, y)\n",
    "        y_pos2 = slice(dy, yy+dy)\n",
    "    if dy < 0:\n",
    "        y_pos1 = slice(-dy, y-dy)\n",
    "        y_pos2 = slice(0, yy)\n",
    "    if dx >= 0:\n",
    "        x_pos1 = slice(0, x)\n",
    "        x_pos2 = slice(dx, xx+dx)\n",
    "    if dx < 0:\n",
    "        x_pos1 = slice(-dx, x-dx)\n",
    "        x_pos2 = slice(0, xx)\n",
    "    \n",
    "    Y = max((y_pos1.stop, y_pos2.stop)) - min((y_pos1.start, y_pos2.start))\n",
    "    X = max((x_pos1.stop, x_pos2.stop)) - min((x_pos1.start, x_pos2.start))\n",
    "    \n",
    "    merged = np.zeros((Y,X), dtype=np.int)\n",
    "    merged[y_pos1,x_pos1] += img1\n",
    "    merged[y_pos2,x_pos2] += img2\n",
    "    \n",
    "    # average the overlap\n",
    "    overlap = (slice(dy, y), slice(dx, x))\n",
    "    merged[overlap] //= 2\n",
    "    \n",
    "    return merged.astype(np.uint8)"
   ]
  }
 ],
 "metadata": {
  "kernelspec": {
   "display_name": "Python 3",
   "language": "python",
   "name": "python3"
  },
  "language_info": {
   "codemirror_mode": {
    "name": "ipython",
    "version": 3
   },
   "file_extension": ".py",
   "mimetype": "text/x-python",
   "name": "python",
   "nbconvert_exporter": "python",
   "pygments_lexer": "ipython3",
   "version": "3.4.1"
  }
 },
 "nbformat": 4,
 "nbformat_minor": 0
}
