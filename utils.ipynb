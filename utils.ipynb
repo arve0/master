{
 "cells": [
  {
   "cell_type": "code",
   "execution_count": 1,
   "metadata": {
    "collapsed": false
   },
   "outputs": [],
   "source": [
    "%matplotlib inline\n",
    "from skimage import * # utils like img_as_ubyte\n",
    "from skimage import io, filters, morphology\n",
    "from skimage.io import imread, imsave, imshow\n",
    "from skimage.transform import resize\n",
    "\n",
    "from scipy import ndimage\n",
    "\n",
    "import matplotlib.pyplot as plt\n",
    "import matplotlib.gridspec as gridspec\n",
    "from matplotlib.pyplot import figure, subplot, plot, yticks, xticks\n",
    "from matplotlib.pyplot import legend, colorbar, xlim, ylim, xlabel, ylabel\n",
    "# projection='3d'\n",
    "from mpl_toolkits.mplot3d.axes3d import Axes3D\n",
    "\n",
    "from leicaexperiment import Experiment, attributes\n",
    "from leicascanningtemplate import ScanningTemplate\n",
    "\n",
    "from microscopestitching import stitch\n",
    "\n",
    "from glob import glob\n",
    "\n",
    "from joblib import Parallel, delayed\n",
    "\n",
    "from math import ceil\n",
    "import numpy as np"
   ]
  },
  {
   "cell_type": "markdown",
   "metadata": {},
   "source": [
    "# matplotlib"
   ]
  },
  {
   "cell_type": "code",
   "execution_count": null,
   "metadata": {
    "collapsed": true
   },
   "outputs": [],
   "source": [
    "# style - http://www.huyng.com/posts/sane-color-scheme-for-matplotlib/\n",
    "plt.style.use('ggplot')"
   ]
  },
  {
   "cell_type": "code",
   "execution_count": null,
   "metadata": {
    "collapsed": true
   },
   "outputs": [],
   "source": [
    "def imshow_range(img, **kwargs):\n",
    "    \"Show only range of intensities in image\"\n",
    "    imgplot = io.imshow(img, vmin=img.min(), vmax=img.max(), **kwargs)\n",
    "    colorbar()\n",
    "    return imgplot"
   ]
  },
  {
   "cell_type": "code",
   "execution_count": null,
   "metadata": {
    "collapsed": true
   },
   "outputs": [],
   "source": [
    "def imshow_simple(img, **kwargs):\n",
    "    imgplot = io.imshow(img, **kwargs)\n",
    "    no_ticks(imgplot.axes)\n",
    "    return imgplot"
   ]
  },
  {
   "cell_type": "code",
   "execution_count": 3,
   "metadata": {
    "collapsed": true
   },
   "outputs": [],
   "source": [
    "def imshow_downscale(img):\n",
    "    \"matplotlib is slooooow, showing downscaled images is speedier\"\n",
    "    if type(img) == str:\n",
    "        img = imread(img)\n",
    "    y,x = img.shape\n",
    "    # downscale factor\n",
    "    k = ceil(y//512+0.1)\n",
    "    imgplot = imshow(resize(img, (y//k, x//k)))\n",
    "\n",
    "    # real ticks\n",
    "    if y > x:\n",
    "        # less ticks if not square image\n",
    "        y_step = y//6\n",
    "        x_step = int(y_step*x/y)\n",
    "    if x < y:\n",
    "        y_step = y//6\n",
    "        x_step = int(y_step*y/x)\n",
    "    else:\n",
    "        y_step = y//6\n",
    "        x_step = x//6\n",
    "\n",
    "    yticks(range(0,y//k,y_step//k), [str(y) for y in range(0,y,y_step)])\n",
    "    xticks(range(0,x//k,x_step//k), [str(x) for x in range(0,x,x_step)])\n",
    "    \n",
    "    return imgplot"
   ]
  },
  {
   "cell_type": "code",
   "execution_count": 4,
   "metadata": {
    "collapsed": true
   },
   "outputs": [],
   "source": [
    "def side_by_side(*images):\n",
    "    \"view images side by side\"\n",
    "    size = len(images)\n",
    "    figure(figsize=(size*5,5))\n",
    "    for i,img in enumerate(images):\n",
    "        subplot(1, size, i+1)\n",
    "        imshow_downscale(img)"
   ]
  },
  {
   "cell_type": "code",
   "execution_count": 6,
   "metadata": {
    "collapsed": false
   },
   "outputs": [],
   "source": [
    "def image_axis(ax, ticks=None):\n",
    "    \"Sets tick outward and x ticks on the top\"\n",
    "    ax.xaxis.set_label_position('top') \n",
    "    ax.xaxis.tick_top()\n",
    "    ax.xaxis.set_tick_params(direction='out')\n",
    "\n",
    "    ax.yaxis.tick_left()\n",
    "    ax.yaxis.set_tick_params(direction='out')\n",
    "    \n",
    "    if ticks:\n",
    "        ax.yaxis.set_ticks(ticks)\n",
    "        ax.xaxis.set_ticks(ticks)"
   ]
  },
  {
   "cell_type": "code",
   "execution_count": 6,
   "metadata": {
    "collapsed": false
   },
   "outputs": [],
   "source": [
    "def no_ticks(ax):\n",
    "    \"turns of ticks in axes\"\n",
    "    ax.yaxis.set_ticks([])\n",
    "    ax.xaxis.set_ticks([])"
   ]
  },
  {
   "cell_type": "code",
   "execution_count": null,
   "metadata": {
    "collapsed": true
   },
   "outputs": [],
   "source": [
    "# ranges for images\n",
    "def range_img(n):\n",
    "    \"for use with mpl ticks. n = img size\"\n",
    "    return range(0, n+1, (n+1)//4)"
   ]
  },
  {
   "cell_type": "code",
   "execution_count": 4,
   "metadata": {
    "collapsed": true
   },
   "outputs": [],
   "source": [
    "def plot_intensities(*imgs):\n",
    "    if len(imgs) > 1:\n",
    "        figure(figsize=(len(imgs)*4,3))\n",
    "    for n, img in enumerate(imgs):\n",
    "        if type(img) == str:\n",
    "            img = imread(img)\n",
    "        subplot(1,len(imgs),n+1)\n",
    "        for line in img:\n",
    "            plot(line, 'b.')\n",
    "        xlim(0, img.shape[1])"
   ]
  },
  {
   "cell_type": "markdown",
   "metadata": {},
   "source": [
    "# remove intensity variation"
   ]
  },
  {
   "cell_type": "code",
   "execution_count": 5,
   "metadata": {
    "collapsed": true
   },
   "outputs": [],
   "source": [
    "def remove_intensity_variation(img, intensity_profile, intensity_range=None):\n",
    "    \"\"\"Equalizes rows in image according to intensity profile.\n",
    "    \n",
    "    Parameters\n",
    "    ----------\n",
    "    img : 2d array or string\n",
    "        Image to equalize.\n",
    "    intensity_profile : array\n",
    "        Normalized profile of intensity.\n",
    "    intensity_range : (min,max) int\n",
    "        Normalize to this range before equalizing.\n",
    "    \"\"\"\n",
    "    filename = False\n",
    "    if type(img) == str:\n",
    "        filename = img\n",
    "        img = imread(img).astype(np.float)\n",
    "    else:\n",
    "        img = img.astype(np.float)\n",
    "    \n",
    "    if not intensity_range:\n",
    "        intensity_range = img.min(), img.max()\n",
    "    \n",
    "    # normalize\n",
    "    img -= intensity_range[0]\n",
    "    img /= intensity_range[1] - intensity_range[0]\n",
    "    \n",
    "    # equalize\n",
    "    img /= intensity_profile\n",
    "\n",
    "    # clip values\n",
    "    img[img < 0] = 0 # there should be no values below 0\n",
    "    img[img > 1] = 1\n",
    "    img *= 255\n",
    "    img = img.astype(np.uint8)\n",
    "    \n",
    "    if filename:\n",
    "        imsave(filename, img)\n",
    "    else:\n",
    "        return img"
   ]
  },
  {
   "cell_type": "code",
   "execution_count": 1,
   "metadata": {
    "collapsed": true
   },
   "outputs": [],
   "source": [
    "def equalize_experiment(experiment):\n",
    "    \"\"\"Remove uneven illumination from leica experiment. Experiment is\n",
    "    copied before equalized.\n",
    "    \n",
    "    Returns\n",
    "    -------\n",
    "    leicaexperiment.Experiment\n",
    "    \"\"\"\n",
    "    # copy experiment\n",
    "    from shutil import copytree\n",
    "    new_name = experiment.path + '-equalized'\n",
    "    copytree(experiment.path, new_name)\n",
    "    e = Experiment(new_name)\n",
    "    \n",
    "    # find line with least variance\n",
    "    p1 = e.image(0,0,0,0)\n",
    "    img = imread(p1)\n",
    "    line_variance = np.var(img, axis=0)\n",
    "    line = np.argmin(line_variance)\n",
    "    background_row = np.copy(img[line,:])\n",
    "\n",
    "    # curve fit\n",
    "    from scipy.optimize import curve_fit\n",
    "\n",
    "    width = img.shape[1]\n",
    "    x = np.arange(width)\n",
    "    \n",
    "    def polynomial(x,a,b,c):\n",
    "        return a*x**2+b*x+c\n",
    "\n",
    "    coefficients, covariance = curve_fit(polynomial, x, background_row)\n",
    "    a,b,c = coefficients\n",
    "    y = a*x**2+b*x+c\n",
    "    intensity_profile = y / y.max()\n",
    "    \n",
    "    # filter images\n",
    "    # equalize eq_e experiment\n",
    "    def min_max(filename):\n",
    "        img = imread(filename)\n",
    "        return img.min(), img.max()\n",
    "\n",
    "    mm = Parallel(n_jobs=4)(delayed(min_max)(f) for f in e.images)\n",
    "    mm = np.array(mm)\n",
    "    intensity_range = np.median(mm[:, 0]), np.median(mm[:, 1])\n",
    "\n",
    "    Parallel(n_jobs=4)(delayed(remove_intensity_variation)\n",
    "          (f, intensity_profile, intensity_range) for f in e.images)\n",
    "    \n",
    "    return e"
   ]
  },
  {
   "cell_type": "markdown",
   "metadata": {},
   "source": [
    "# image collection"
   ]
  },
  {
   "cell_type": "code",
   "execution_count": 1,
   "metadata": {
    "collapsed": false
   },
   "outputs": [
    {
     "name": "stderr",
     "output_type": "stream",
     "text": [
      "/Users/arve/.virtualenvs/3.4/lib/python3.4/site-packages/skimage/viewer/utils/core.py:11: UserWarning: Recommended matplotlib backend is `Agg` for full skimage.viewer functionality.\n",
      "  warnings.warn(\"Recommended matplotlib backend is `Agg` for full \"\n"
     ]
    }
   ],
   "source": [
    "def show_all_images(images):\n",
    "    from skimage import viewer\n",
    "    if type(images[0]) == str:\n",
    "        images = [imread(i) for i in images]\n",
    "    v = viewer.viewers.CollectionViewer(images)\n",
    "    v.show()"
   ]
  },
  {
   "cell_type": "markdown",
   "metadata": {},
   "source": [
    "# export"
   ]
  },
  {
   "cell_type": "code",
   "execution_count": 27,
   "metadata": {
    "collapsed": false
   },
   "outputs": [],
   "source": [
    "MARGIN = 5 # mm\n",
    "B5 = (250, 176) # y,x mm\n",
    "B5_HEIGTH = (B5[0] - 2*MARGIN) / 25.4 # inches\n",
    "B5_WIDTH = (B5[1] - 2*MARGIN) / 25.4 # inches\n",
    "\n",
    "def savefig(filename, **kwargs):\n",
    "    \"short hand to prevent 600dpi in notebooks\"\n",
    "    fig = plt.gcf()\n",
    "    \n",
    "    x,y = fig.get_size_inches()\n",
    "    scale = B5_WIDTH / x\n",
    "    size = 2*B5_WIDTH, 2*y*scale\n",
    "    fig.set_size_inches(size)\n",
    "    \n",
    "    plt.tight_layout()\n",
    "    plt.savefig(filename, dpi=600, **kwargs)\n",
    "\n",
    "    fig.set_size_inches((x,y))"
   ]
  },
  {
   "cell_type": "markdown",
   "metadata": {},
   "source": [
    "# stitch"
   ]
  },
  {
   "cell_type": "code",
   "execution_count": 5,
   "metadata": {
    "collapsed": true
   },
   "outputs": [],
   "source": [
    "def merge(img1, img2, dy, dx):\n",
    "    y,x = img1.shape\n",
    "    yy,xx = img2.shape\n",
    "    \n",
    "    if dy >= 0:\n",
    "        y_pos1 = slice(0, y)\n",
    "        y_pos2 = slice(dy, yy+dy)\n",
    "    if dy < 0:\n",
    "        y_pos1 = slice(-dy, y-dy)\n",
    "        y_pos2 = slice(0, yy)\n",
    "    if dx >= 0:\n",
    "        x_pos1 = slice(0, x)\n",
    "        x_pos2 = slice(dx, xx+dx)\n",
    "    if dx < 0:\n",
    "        x_pos1 = slice(-dx, x-dx)\n",
    "        x_pos2 = slice(0, xx)\n",
    "    \n",
    "    Y = max((y_pos1.stop, y_pos2.stop)) - min((y_pos1.start, y_pos2.start))\n",
    "    X = max((x_pos1.stop, x_pos2.stop)) - min((x_pos1.start, x_pos2.start))\n",
    "    \n",
    "    merged = np.zeros((Y,X), dtype=np.int)\n",
    "    merged[y_pos1,x_pos1] += img1\n",
    "    merged[y_pos2,x_pos2] += img2\n",
    "    \n",
    "    # average the overlap\n",
    "    overlap = (slice(dy, y), slice(dx, x))\n",
    "    merged[overlap] //= 2\n",
    "    \n",
    "    return merged.astype(np.uint8)"
   ]
  },
  {
   "cell_type": "markdown",
   "metadata": {},
   "source": [
    "# pretty xml"
   ]
  },
  {
   "cell_type": "code",
   "execution_count": 1,
   "metadata": {
    "collapsed": true
   },
   "outputs": [],
   "source": [
    "import xml.dom.minidom as minidom\n",
    "\n",
    "def pretty_xml(filename):\n",
    "    dom = minidom.parse('{ScanningTemplate}asdf.lrp')\n",
    "    return dom.toprettyxml('  ')"
   ]
  },
  {
   "cell_type": "markdown",
   "metadata": {},
   "source": [
    "# zick zack sort"
   ]
  },
  {
   "cell_type": "code",
   "execution_count": 38,
   "metadata": {
    "collapsed": true
   },
   "outputs": [],
   "source": [
    "from operator import attrgetter\n",
    "\n",
    "def zick_zack_sort(list_, sortby):\n",
    "    if type(sortby) is str:\n",
    "        sortby = (sortby,)\n",
    "\n",
    "    list_.sort(key=attrgetter(*sortby))\n",
    "    \n",
    "    firstgetter = attrgetter(sortby[0])\n",
    "    prev = firstgetter(list_[0])\n",
    "\n",
    "    out = []\n",
    "    revert = False\n",
    "    for i in list_:\n",
    "        cur = firstgetter(i)\n",
    "        if not revert and cur != prev:\n",
    "            revert = True\n",
    "            part = []\n",
    "        elif revert and cur != prev:\n",
    "            out.extend(part[::-1])\n",
    "            revert = False\n",
    "        #print(i, revert, cur, prev)\n",
    "        if revert:\n",
    "            part.append(i)\n",
    "        if not revert:\n",
    "            out.append(i)\n",
    "        prev = cur\n",
    "    return out"
   ]
  },
  {
   "cell_type": "code",
   "execution_count": 41,
   "metadata": {
    "collapsed": false
   },
   "outputs": [
    {
     "data": {
      "text/plain": [
       "[R(1,1), R(2,1), R(3,1), R(3,2), R(2,2), R(1,2), R(1,3), R(2,3), R(3,3)]"
      ]
     },
     "execution_count": 41,
     "metadata": {},
     "output_type": "execute_result"
    }
   ],
   "source": [
    "#class R:\n",
    "#    def __init__(self, x, y):\n",
    "#       self.x = x\n",
    "#        self.y = y\n",
    "#    def __repr__(self):\n",
    "#        return \"R(%s,%s)\" % (self.x, self.y)\n",
    "#\n",
    "#regions = [R(1,1), R(1,2), R(1,3), R(2,1), R(2,2), R(2,3), R(3,1), R(3,2), R(3,3)]\n",
    "#zick_zack_sort(regions, ('y', 'x'))"
   ]
  },
  {
   "cell_type": "code",
   "execution_count": 42,
   "metadata": {
    "collapsed": false
   },
   "outputs": [
    {
     "data": {
      "text/plain": [
       "[R(1,1), R(1,2), R(1,3), R(2,3), R(2,2), R(2,1), R(3,1), R(3,2), R(3,3)]"
      ]
     },
     "execution_count": 42,
     "metadata": {},
     "output_type": "execute_result"
    }
   ],
   "source": [
    "#zick_zack_sort(regions, ('x', 'y'))"
   ]
  }
 ],
 "metadata": {
  "kernelspec": {
   "display_name": "Python 3",
   "language": "python",
   "name": "python3"
  },
  "language_info": {
   "codemirror_mode": {
    "name": "ipython",
    "version": 3
   },
   "file_extension": ".py",
   "mimetype": "text/x-python",
   "name": "python",
   "nbconvert_exporter": "python",
   "pygments_lexer": "ipython3",
   "version": "3.4.1"
  }
 },
 "nbformat": 4,
 "nbformat_minor": 0
}
